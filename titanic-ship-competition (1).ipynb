{
 "cells": [
  {
   "cell_type": "markdown",
   "id": "f2c6e086",
   "metadata": {
    "papermill": {
     "duration": 0.029543,
     "end_time": "2022-11-26T22:33:26.508956",
     "exception": false,
     "start_time": "2022-11-26T22:33:26.479413",
     "status": "completed"
    },
    "tags": []
   },
   "source": [
    "# Import Libraries"
   ]
  },
  {
   "cell_type": "code",
   "execution_count": 1,
   "id": "e9da18f7",
   "metadata": {
    "execution": {
     "iopub.execute_input": "2022-11-26T22:33:26.570713Z",
     "iopub.status.busy": "2022-11-26T22:33:26.569324Z",
     "iopub.status.idle": "2022-11-26T22:33:28.458364Z",
     "shell.execute_reply": "2022-11-26T22:33:28.457031Z"
    },
    "papermill": {
     "duration": 1.925686,
     "end_time": "2022-11-26T22:33:28.461753",
     "exception": false,
     "start_time": "2022-11-26T22:33:26.536067",
     "status": "completed"
    },
    "tags": []
   },
   "outputs": [],
   "source": [
    "import pandas as pd\n",
    "import numpy as np\n",
    "import missingno\n",
    "import re\n",
    "import math\n",
    "from sklearn.impute import SimpleImputer\n",
    "from sklearn import linear_model\n",
    "\n",
    "##import sklearn libraries\n",
    "from sklearn.model_selection import train_test_split, GridSearchCV, StratifiedKFold, cross_val_score \n",
    "from sklearn.model_selection import cross_validate\n",
    "from sklearn.metrics import accuracy_score, precision_score, recall_score, roc_curve, precision_recall_curve, auc, make_scorer, confusion_matrix, f1_score, fbeta_score\n",
    "from sklearn.preprocessing import OneHotEncoder\n",
    "\n",
    "##import models(Naive Bayes, Logistic Regression, Bagging, Random Forest)\n",
    "##(Adaboost, Gradient Boost, decision Trees and SVM classifier )\n",
    "from sklearn.naive_bayes import MultinomialNB\n",
    "from sklearn.ensemble import BaggingClassifier, RandomForestClassifier, AdaBoostClassifier, GradientBoostingClassifier\n",
    "from sklearn.linear_model import LogisticRegression\n",
    "from sklearn.tree import DecisionTreeClassifier\n",
    "from sklearn import svm\n",
    "from xgboost import XGBClassifier\n",
    "from sklearn.linear_model import Perceptron\n",
    "from sklearn.linear_model import SGDClassifier\n",
    "from sklearn.tree import DecisionTreeClassifier\n",
    "from sklearn.neighbors import KNeighborsClassifier\n",
    "from sklearn.svm import SVC, LinearSVC\n",
    "from sklearn.naive_bayes import GaussianNB\n",
    "\n",
    "import seaborn as sns\n",
    "import matplotlib.pyplot as plt\n",
    "%matplotlib inline\n",
    "#from matplotlib import style\n",
    "#plt.style.use('bmh')\n",
    "#plt.style.use('seaborn-notebook')\n",
    "\n",
    "from matplotlib.ticker import StrMethodFormatter\n",
    "\n",
    "from sklearn.preprocessing import StandardScaler, MinMaxScaler, LabelBinarizer\n",
    "\n",
    "import warnings\n",
    "warnings.filterwarnings('ignore')"
   ]
  },
  {
   "cell_type": "code",
   "execution_count": 2,
   "id": "6b2b2719",
   "metadata": {
    "execution": {
     "iopub.execute_input": "2022-11-26T22:33:28.518095Z",
     "iopub.status.busy": "2022-11-26T22:33:28.517010Z",
     "iopub.status.idle": "2022-11-26T22:33:28.548522Z",
     "shell.execute_reply": "2022-11-26T22:33:28.546812Z"
    },
    "papermill": {
     "duration": 0.062304,
     "end_time": "2022-11-26T22:33:28.551492",
     "exception": false,
     "start_time": "2022-11-26T22:33:28.489188",
     "status": "completed"
    },
    "tags": []
   },
   "outputs": [],
   "source": [
    "train = pd.read_csv('../input/titanic/train.csv').copy()\n",
    "test = pd.read_csv('../input/titanic/test.csv').copy()"
   ]
  },
  {
   "cell_type": "markdown",
   "id": "bd86dfa0",
   "metadata": {
    "papermill": {
     "duration": 0.027415,
     "end_time": "2022-11-26T22:33:28.606225",
     "exception": false,
     "start_time": "2022-11-26T22:33:28.578810",
     "status": "completed"
    },
    "tags": []
   },
   "source": [
    "# **Exploratory Data Analysis**"
   ]
  },
  {
   "cell_type": "code",
   "execution_count": 3,
   "id": "af76fc11",
   "metadata": {
    "execution": {
     "iopub.execute_input": "2022-11-26T22:33:28.662055Z",
     "iopub.status.busy": "2022-11-26T22:33:28.661596Z",
     "iopub.status.idle": "2022-11-26T22:33:28.671592Z",
     "shell.execute_reply": "2022-11-26T22:33:28.670312Z"
    },
    "papermill": {
     "duration": 0.040434,
     "end_time": "2022-11-26T22:33:28.673897",
     "exception": false,
     "start_time": "2022-11-26T22:33:28.633463",
     "status": "completed"
    },
    "tags": []
   },
   "outputs": [
    {
     "data": {
      "text/plain": [
       "(891, 12)"
      ]
     },
     "execution_count": 3,
     "metadata": {},
     "output_type": "execute_result"
    }
   ],
   "source": [
    "train.shape"
   ]
  },
  {
   "cell_type": "code",
   "execution_count": 4,
   "id": "3a3273af",
   "metadata": {
    "execution": {
     "iopub.execute_input": "2022-11-26T22:33:28.728850Z",
     "iopub.status.busy": "2022-11-26T22:33:28.727895Z",
     "iopub.status.idle": "2022-11-26T22:33:28.735380Z",
     "shell.execute_reply": "2022-11-26T22:33:28.734160Z"
    },
    "papermill": {
     "duration": 0.037679,
     "end_time": "2022-11-26T22:33:28.737915",
     "exception": false,
     "start_time": "2022-11-26T22:33:28.700236",
     "status": "completed"
    },
    "tags": []
   },
   "outputs": [
    {
     "data": {
      "text/plain": [
       "(418, 11)"
      ]
     },
     "execution_count": 4,
     "metadata": {},
     "output_type": "execute_result"
    }
   ],
   "source": [
    "test.shape"
   ]
  },
  {
   "cell_type": "code",
   "execution_count": 5,
   "id": "7a3fd108",
   "metadata": {
    "execution": {
     "iopub.execute_input": "2022-11-26T22:33:28.793561Z",
     "iopub.status.busy": "2022-11-26T22:33:28.792705Z",
     "iopub.status.idle": "2022-11-26T22:33:28.818092Z",
     "shell.execute_reply": "2022-11-26T22:33:28.817134Z"
    },
    "papermill": {
     "duration": 0.055529,
     "end_time": "2022-11-26T22:33:28.820645",
     "exception": false,
     "start_time": "2022-11-26T22:33:28.765116",
     "status": "completed"
    },
    "tags": []
   },
   "outputs": [
    {
     "data": {
      "text/html": [
       "<div>\n",
       "<style scoped>\n",
       "    .dataframe tbody tr th:only-of-type {\n",
       "        vertical-align: middle;\n",
       "    }\n",
       "\n",
       "    .dataframe tbody tr th {\n",
       "        vertical-align: top;\n",
       "    }\n",
       "\n",
       "    .dataframe thead th {\n",
       "        text-align: right;\n",
       "    }\n",
       "</style>\n",
       "<table border=\"1\" class=\"dataframe\">\n",
       "  <thead>\n",
       "    <tr style=\"text-align: right;\">\n",
       "      <th></th>\n",
       "      <th>PassengerId</th>\n",
       "      <th>Survived</th>\n",
       "      <th>Pclass</th>\n",
       "      <th>Name</th>\n",
       "      <th>Sex</th>\n",
       "      <th>Age</th>\n",
       "      <th>SibSp</th>\n",
       "      <th>Parch</th>\n",
       "      <th>Ticket</th>\n",
       "      <th>Fare</th>\n",
       "      <th>Cabin</th>\n",
       "      <th>Embarked</th>\n",
       "    </tr>\n",
       "  </thead>\n",
       "  <tbody>\n",
       "    <tr>\n",
       "      <th>886</th>\n",
       "      <td>887</td>\n",
       "      <td>0</td>\n",
       "      <td>2</td>\n",
       "      <td>Montvila, Rev. Juozas</td>\n",
       "      <td>male</td>\n",
       "      <td>27.0</td>\n",
       "      <td>0</td>\n",
       "      <td>0</td>\n",
       "      <td>211536</td>\n",
       "      <td>13.00</td>\n",
       "      <td>NaN</td>\n",
       "      <td>S</td>\n",
       "    </tr>\n",
       "    <tr>\n",
       "      <th>887</th>\n",
       "      <td>888</td>\n",
       "      <td>1</td>\n",
       "      <td>1</td>\n",
       "      <td>Graham, Miss. Margaret Edith</td>\n",
       "      <td>female</td>\n",
       "      <td>19.0</td>\n",
       "      <td>0</td>\n",
       "      <td>0</td>\n",
       "      <td>112053</td>\n",
       "      <td>30.00</td>\n",
       "      <td>B42</td>\n",
       "      <td>S</td>\n",
       "    </tr>\n",
       "    <tr>\n",
       "      <th>888</th>\n",
       "      <td>889</td>\n",
       "      <td>0</td>\n",
       "      <td>3</td>\n",
       "      <td>Johnston, Miss. Catherine Helen \"Carrie\"</td>\n",
       "      <td>female</td>\n",
       "      <td>NaN</td>\n",
       "      <td>1</td>\n",
       "      <td>2</td>\n",
       "      <td>W./C. 6607</td>\n",
       "      <td>23.45</td>\n",
       "      <td>NaN</td>\n",
       "      <td>S</td>\n",
       "    </tr>\n",
       "    <tr>\n",
       "      <th>889</th>\n",
       "      <td>890</td>\n",
       "      <td>1</td>\n",
       "      <td>1</td>\n",
       "      <td>Behr, Mr. Karl Howell</td>\n",
       "      <td>male</td>\n",
       "      <td>26.0</td>\n",
       "      <td>0</td>\n",
       "      <td>0</td>\n",
       "      <td>111369</td>\n",
       "      <td>30.00</td>\n",
       "      <td>C148</td>\n",
       "      <td>C</td>\n",
       "    </tr>\n",
       "    <tr>\n",
       "      <th>890</th>\n",
       "      <td>891</td>\n",
       "      <td>0</td>\n",
       "      <td>3</td>\n",
       "      <td>Dooley, Mr. Patrick</td>\n",
       "      <td>male</td>\n",
       "      <td>32.0</td>\n",
       "      <td>0</td>\n",
       "      <td>0</td>\n",
       "      <td>370376</td>\n",
       "      <td>7.75</td>\n",
       "      <td>NaN</td>\n",
       "      <td>Q</td>\n",
       "    </tr>\n",
       "  </tbody>\n",
       "</table>\n",
       "</div>"
      ],
      "text/plain": [
       "     PassengerId  Survived  Pclass                                      Name  \\\n",
       "886          887         0       2                     Montvila, Rev. Juozas   \n",
       "887          888         1       1              Graham, Miss. Margaret Edith   \n",
       "888          889         0       3  Johnston, Miss. Catherine Helen \"Carrie\"   \n",
       "889          890         1       1                     Behr, Mr. Karl Howell   \n",
       "890          891         0       3                       Dooley, Mr. Patrick   \n",
       "\n",
       "        Sex   Age  SibSp  Parch      Ticket   Fare Cabin Embarked  \n",
       "886    male  27.0      0      0      211536  13.00   NaN        S  \n",
       "887  female  19.0      0      0      112053  30.00   B42        S  \n",
       "888  female   NaN      1      2  W./C. 6607  23.45   NaN        S  \n",
       "889    male  26.0      0      0      111369  30.00  C148        C  \n",
       "890    male  32.0      0      0      370376   7.75   NaN        Q  "
      ]
     },
     "execution_count": 5,
     "metadata": {},
     "output_type": "execute_result"
    }
   ],
   "source": [
    "train.tail()"
   ]
  },
  {
   "cell_type": "code",
   "execution_count": 6,
   "id": "e7643239",
   "metadata": {
    "execution": {
     "iopub.execute_input": "2022-11-26T22:33:28.876558Z",
     "iopub.status.busy": "2022-11-26T22:33:28.875332Z",
     "iopub.status.idle": "2022-11-26T22:33:28.894417Z",
     "shell.execute_reply": "2022-11-26T22:33:28.893061Z"
    },
    "papermill": {
     "duration": 0.049571,
     "end_time": "2022-11-26T22:33:28.897099",
     "exception": false,
     "start_time": "2022-11-26T22:33:28.847528",
     "status": "completed"
    },
    "tags": []
   },
   "outputs": [
    {
     "data": {
      "text/html": [
       "<div>\n",
       "<style scoped>\n",
       "    .dataframe tbody tr th:only-of-type {\n",
       "        vertical-align: middle;\n",
       "    }\n",
       "\n",
       "    .dataframe tbody tr th {\n",
       "        vertical-align: top;\n",
       "    }\n",
       "\n",
       "    .dataframe thead th {\n",
       "        text-align: right;\n",
       "    }\n",
       "</style>\n",
       "<table border=\"1\" class=\"dataframe\">\n",
       "  <thead>\n",
       "    <tr style=\"text-align: right;\">\n",
       "      <th></th>\n",
       "      <th>PassengerId</th>\n",
       "      <th>Pclass</th>\n",
       "      <th>Name</th>\n",
       "      <th>Sex</th>\n",
       "      <th>Age</th>\n",
       "      <th>SibSp</th>\n",
       "      <th>Parch</th>\n",
       "      <th>Ticket</th>\n",
       "      <th>Fare</th>\n",
       "      <th>Cabin</th>\n",
       "      <th>Embarked</th>\n",
       "    </tr>\n",
       "  </thead>\n",
       "  <tbody>\n",
       "    <tr>\n",
       "      <th>413</th>\n",
       "      <td>1305</td>\n",
       "      <td>3</td>\n",
       "      <td>Spector, Mr. Woolf</td>\n",
       "      <td>male</td>\n",
       "      <td>NaN</td>\n",
       "      <td>0</td>\n",
       "      <td>0</td>\n",
       "      <td>A.5. 3236</td>\n",
       "      <td>8.0500</td>\n",
       "      <td>NaN</td>\n",
       "      <td>S</td>\n",
       "    </tr>\n",
       "    <tr>\n",
       "      <th>414</th>\n",
       "      <td>1306</td>\n",
       "      <td>1</td>\n",
       "      <td>Oliva y Ocana, Dona. Fermina</td>\n",
       "      <td>female</td>\n",
       "      <td>39.0</td>\n",
       "      <td>0</td>\n",
       "      <td>0</td>\n",
       "      <td>PC 17758</td>\n",
       "      <td>108.9000</td>\n",
       "      <td>C105</td>\n",
       "      <td>C</td>\n",
       "    </tr>\n",
       "    <tr>\n",
       "      <th>415</th>\n",
       "      <td>1307</td>\n",
       "      <td>3</td>\n",
       "      <td>Saether, Mr. Simon Sivertsen</td>\n",
       "      <td>male</td>\n",
       "      <td>38.5</td>\n",
       "      <td>0</td>\n",
       "      <td>0</td>\n",
       "      <td>SOTON/O.Q. 3101262</td>\n",
       "      <td>7.2500</td>\n",
       "      <td>NaN</td>\n",
       "      <td>S</td>\n",
       "    </tr>\n",
       "    <tr>\n",
       "      <th>416</th>\n",
       "      <td>1308</td>\n",
       "      <td>3</td>\n",
       "      <td>Ware, Mr. Frederick</td>\n",
       "      <td>male</td>\n",
       "      <td>NaN</td>\n",
       "      <td>0</td>\n",
       "      <td>0</td>\n",
       "      <td>359309</td>\n",
       "      <td>8.0500</td>\n",
       "      <td>NaN</td>\n",
       "      <td>S</td>\n",
       "    </tr>\n",
       "    <tr>\n",
       "      <th>417</th>\n",
       "      <td>1309</td>\n",
       "      <td>3</td>\n",
       "      <td>Peter, Master. Michael J</td>\n",
       "      <td>male</td>\n",
       "      <td>NaN</td>\n",
       "      <td>1</td>\n",
       "      <td>1</td>\n",
       "      <td>2668</td>\n",
       "      <td>22.3583</td>\n",
       "      <td>NaN</td>\n",
       "      <td>C</td>\n",
       "    </tr>\n",
       "  </tbody>\n",
       "</table>\n",
       "</div>"
      ],
      "text/plain": [
       "     PassengerId  Pclass                          Name     Sex   Age  SibSp  \\\n",
       "413         1305       3            Spector, Mr. Woolf    male   NaN      0   \n",
       "414         1306       1  Oliva y Ocana, Dona. Fermina  female  39.0      0   \n",
       "415         1307       3  Saether, Mr. Simon Sivertsen    male  38.5      0   \n",
       "416         1308       3           Ware, Mr. Frederick    male   NaN      0   \n",
       "417         1309       3      Peter, Master. Michael J    male   NaN      1   \n",
       "\n",
       "     Parch              Ticket      Fare Cabin Embarked  \n",
       "413      0           A.5. 3236    8.0500   NaN        S  \n",
       "414      0            PC 17758  108.9000  C105        C  \n",
       "415      0  SOTON/O.Q. 3101262    7.2500   NaN        S  \n",
       "416      0              359309    8.0500   NaN        S  \n",
       "417      1                2668   22.3583   NaN        C  "
      ]
     },
     "execution_count": 6,
     "metadata": {},
     "output_type": "execute_result"
    }
   ],
   "source": [
    "test.tail()"
   ]
  },
  {
   "cell_type": "code",
   "execution_count": 7,
   "id": "9056cf5b",
   "metadata": {
    "execution": {
     "iopub.execute_input": "2022-11-26T22:33:28.955406Z",
     "iopub.status.busy": "2022-11-26T22:33:28.954992Z",
     "iopub.status.idle": "2022-11-26T22:33:28.971932Z",
     "shell.execute_reply": "2022-11-26T22:33:28.970960Z"
    },
    "papermill": {
     "duration": 0.04965,
     "end_time": "2022-11-26T22:33:28.974427",
     "exception": false,
     "start_time": "2022-11-26T22:33:28.924777",
     "status": "completed"
    },
    "tags": []
   },
   "outputs": [],
   "source": [
    "df = train.append(test)"
   ]
  },
  {
   "cell_type": "code",
   "execution_count": 8,
   "id": "c4addd9b",
   "metadata": {
    "execution": {
     "iopub.execute_input": "2022-11-26T22:33:29.030948Z",
     "iopub.status.busy": "2022-11-26T22:33:29.029833Z",
     "iopub.status.idle": "2022-11-26T22:33:29.039394Z",
     "shell.execute_reply": "2022-11-26T22:33:29.037925Z"
    },
    "papermill": {
     "duration": 0.041033,
     "end_time": "2022-11-26T22:33:29.042400",
     "exception": false,
     "start_time": "2022-11-26T22:33:29.001367",
     "status": "completed"
    },
    "tags": []
   },
   "outputs": [
    {
     "data": {
      "text/plain": [
       "(1309, 12)"
      ]
     },
     "execution_count": 8,
     "metadata": {},
     "output_type": "execute_result"
    }
   ],
   "source": [
    "df.shape"
   ]
  },
  {
   "cell_type": "code",
   "execution_count": 9,
   "id": "1823706d",
   "metadata": {
    "execution": {
     "iopub.execute_input": "2022-11-26T22:33:29.100117Z",
     "iopub.status.busy": "2022-11-26T22:33:29.099679Z",
     "iopub.status.idle": "2022-11-26T22:33:29.112835Z",
     "shell.execute_reply": "2022-11-26T22:33:29.111856Z"
    },
    "papermill": {
     "duration": 0.045227,
     "end_time": "2022-11-26T22:33:29.115248",
     "exception": false,
     "start_time": "2022-11-26T22:33:29.070021",
     "status": "completed"
    },
    "tags": []
   },
   "outputs": [
    {
     "data": {
      "text/plain": [
       "PassengerId       0\n",
       "Survived        418\n",
       "Pclass            0\n",
       "Name              0\n",
       "Sex               0\n",
       "Age             263\n",
       "SibSp             0\n",
       "Parch             0\n",
       "Ticket            0\n",
       "Fare              1\n",
       "Cabin          1014\n",
       "Embarked          2\n",
       "dtype: int64"
      ]
     },
     "execution_count": 9,
     "metadata": {},
     "output_type": "execute_result"
    }
   ],
   "source": [
    "df.isnull().sum()"
   ]
  },
  {
   "cell_type": "code",
   "execution_count": 10,
   "id": "e0a1bb17",
   "metadata": {
    "execution": {
     "iopub.execute_input": "2022-11-26T22:33:29.173957Z",
     "iopub.status.busy": "2022-11-26T22:33:29.173498Z",
     "iopub.status.idle": "2022-11-26T22:33:29.181537Z",
     "shell.execute_reply": "2022-11-26T22:33:29.180516Z"
    },
    "papermill": {
     "duration": 0.040699,
     "end_time": "2022-11-26T22:33:29.183788",
     "exception": false,
     "start_time": "2022-11-26T22:33:29.143089",
     "status": "completed"
    },
    "tags": []
   },
   "outputs": [],
   "source": [
    "missing_value='S'\n",
    "df.Embarked.fillna(missing_value,inplace=True)\n"
   ]
  },
  {
   "cell_type": "code",
   "execution_count": 11,
   "id": "b7a4f05b",
   "metadata": {
    "execution": {
     "iopub.execute_input": "2022-11-26T22:33:29.241423Z",
     "iopub.status.busy": "2022-11-26T22:33:29.240979Z",
     "iopub.status.idle": "2022-11-26T22:33:29.247118Z",
     "shell.execute_reply": "2022-11-26T22:33:29.246193Z"
    },
    "papermill": {
     "duration": 0.037995,
     "end_time": "2022-11-26T22:33:29.249568",
     "exception": false,
     "start_time": "2022-11-26T22:33:29.211573",
     "status": "completed"
    },
    "tags": []
   },
   "outputs": [],
   "source": [
    "df.Fare.fillna(df.Fare.mean(), inplace=True)"
   ]
  },
  {
   "cell_type": "code",
   "execution_count": 12,
   "id": "3d3fc1d5",
   "metadata": {
    "execution": {
     "iopub.execute_input": "2022-11-26T22:33:29.308858Z",
     "iopub.status.busy": "2022-11-26T22:33:29.308394Z",
     "iopub.status.idle": "2022-11-26T22:33:29.320780Z",
     "shell.execute_reply": "2022-11-26T22:33:29.319513Z"
    },
    "papermill": {
     "duration": 0.045207,
     "end_time": "2022-11-26T22:33:29.323222",
     "exception": false,
     "start_time": "2022-11-26T22:33:29.278015",
     "status": "completed"
    },
    "tags": []
   },
   "outputs": [
    {
     "data": {
      "text/plain": [
       "PassengerId       0\n",
       "Survived        418\n",
       "Pclass            0\n",
       "Name              0\n",
       "Sex               0\n",
       "Age             263\n",
       "SibSp             0\n",
       "Parch             0\n",
       "Ticket            0\n",
       "Fare              0\n",
       "Cabin          1014\n",
       "Embarked          0\n",
       "dtype: int64"
      ]
     },
     "execution_count": 12,
     "metadata": {},
     "output_type": "execute_result"
    }
   ],
   "source": [
    "df.isnull().sum()"
   ]
  },
  {
   "cell_type": "code",
   "execution_count": 13,
   "id": "7f16deea",
   "metadata": {
    "execution": {
     "iopub.execute_input": "2022-11-26T22:33:29.383972Z",
     "iopub.status.busy": "2022-11-26T22:33:29.382617Z",
     "iopub.status.idle": "2022-11-26T22:33:29.994302Z",
     "shell.execute_reply": "2022-11-26T22:33:29.992964Z"
    },
    "papermill": {
     "duration": 0.644314,
     "end_time": "2022-11-26T22:33:29.997161",
     "exception": false,
     "start_time": "2022-11-26T22:33:29.352847",
     "status": "completed"
    },
    "tags": []
   },
   "outputs": [
    {
     "data": {
      "text/plain": [
       "<AxesSubplot:>"
      ]
     },
     "execution_count": 13,
     "metadata": {},
     "output_type": "execute_result"
    },
    {
     "data": {
      "image/png": "[encoded data removed]",
      "text/plain": [
       "<Figure size 2160x360 with 2 Axes>"
      ]
     },
     "metadata": {
      "needs_background": "light"
     },
     "output_type": "display_data"
    }
   ],
   "source": [
    "missingno.matrix(df,figsize=(30,5))"
   ]
  },
  {
   "cell_type": "code",
   "execution_count": 14,
   "id": "c527b6eb",
   "metadata": {
    "execution": {
     "iopub.execute_input": "2022-11-26T22:33:30.057026Z",
     "iopub.status.busy": "2022-11-26T22:33:30.056577Z",
     "iopub.status.idle": "2022-11-26T22:33:30.078196Z",
     "shell.execute_reply": "2022-11-26T22:33:30.076323Z"
    },
    "papermill": {
     "duration": 0.054856,
     "end_time": "2022-11-26T22:33:30.081000",
     "exception": false,
     "start_time": "2022-11-26T22:33:30.026144",
     "status": "completed"
    },
    "tags": []
   },
   "outputs": [
    {
     "data": {
      "text/html": [
       "<div>\n",
       "<style scoped>\n",
       "    .dataframe tbody tr th:only-of-type {\n",
       "        vertical-align: middle;\n",
       "    }\n",
       "\n",
       "    .dataframe tbody tr th {\n",
       "        vertical-align: top;\n",
       "    }\n",
       "\n",
       "    .dataframe thead th {\n",
       "        text-align: right;\n",
       "    }\n",
       "</style>\n",
       "<table border=\"1\" class=\"dataframe\">\n",
       "  <thead>\n",
       "    <tr style=\"text-align: right;\">\n",
       "      <th></th>\n",
       "      <th>PassengerId</th>\n",
       "      <th>Survived</th>\n",
       "      <th>Pclass</th>\n",
       "      <th>Name</th>\n",
       "      <th>Sex</th>\n",
       "      <th>Age</th>\n",
       "      <th>SibSp</th>\n",
       "      <th>Parch</th>\n",
       "      <th>Ticket</th>\n",
       "      <th>Fare</th>\n",
       "      <th>Cabin</th>\n",
       "      <th>Embarked</th>\n",
       "    </tr>\n",
       "  </thead>\n",
       "  <tbody>\n",
       "    <tr>\n",
       "      <th>0</th>\n",
       "      <td>1</td>\n",
       "      <td>0.0</td>\n",
       "      <td>3</td>\n",
       "      <td>Braund, Mr. Owen Harris</td>\n",
       "      <td>male</td>\n",
       "      <td>22.0</td>\n",
       "      <td>1</td>\n",
       "      <td>0</td>\n",
       "      <td>A/5 21171</td>\n",
       "      <td>7.2500</td>\n",
       "      <td>NaN</td>\n",
       "      <td>S</td>\n",
       "    </tr>\n",
       "    <tr>\n",
       "      <th>1</th>\n",
       "      <td>2</td>\n",
       "      <td>1.0</td>\n",
       "      <td>1</td>\n",
       "      <td>Cumings, Mrs. John Bradley (Florence Briggs Th...</td>\n",
       "      <td>female</td>\n",
       "      <td>38.0</td>\n",
       "      <td>1</td>\n",
       "      <td>0</td>\n",
       "      <td>PC 17599</td>\n",
       "      <td>71.2833</td>\n",
       "      <td>C85</td>\n",
       "      <td>C</td>\n",
       "    </tr>\n",
       "    <tr>\n",
       "      <th>2</th>\n",
       "      <td>3</td>\n",
       "      <td>1.0</td>\n",
       "      <td>3</td>\n",
       "      <td>Heikkinen, Miss. Laina</td>\n",
       "      <td>female</td>\n",
       "      <td>26.0</td>\n",
       "      <td>0</td>\n",
       "      <td>0</td>\n",
       "      <td>STON/O2. 3101282</td>\n",
       "      <td>7.9250</td>\n",
       "      <td>NaN</td>\n",
       "      <td>S</td>\n",
       "    </tr>\n",
       "    <tr>\n",
       "      <th>3</th>\n",
       "      <td>4</td>\n",
       "      <td>1.0</td>\n",
       "      <td>1</td>\n",
       "      <td>Futrelle, Mrs. Jacques Heath (Lily May Peel)</td>\n",
       "      <td>female</td>\n",
       "      <td>35.0</td>\n",
       "      <td>1</td>\n",
       "      <td>0</td>\n",
       "      <td>113803</td>\n",
       "      <td>53.1000</td>\n",
       "      <td>C123</td>\n",
       "      <td>S</td>\n",
       "    </tr>\n",
       "    <tr>\n",
       "      <th>4</th>\n",
       "      <td>5</td>\n",
       "      <td>0.0</td>\n",
       "      <td>3</td>\n",
       "      <td>Allen, Mr. William Henry</td>\n",
       "      <td>male</td>\n",
       "      <td>35.0</td>\n",
       "      <td>0</td>\n",
       "      <td>0</td>\n",
       "      <td>373450</td>\n",
       "      <td>8.0500</td>\n",
       "      <td>NaN</td>\n",
       "      <td>S</td>\n",
       "    </tr>\n",
       "  </tbody>\n",
       "</table>\n",
       "</div>"
      ],
      "text/plain": [
       "   PassengerId  Survived  Pclass  \\\n",
       "0            1       0.0       3   \n",
       "1            2       1.0       1   \n",
       "2            3       1.0       3   \n",
       "3            4       1.0       1   \n",
       "4            5       0.0       3   \n",
       "\n",
       "                                                Name     Sex   Age  SibSp  \\\n",
       "0                            Braund, Mr. Owen Harris    male  22.0      1   \n",
       "1  Cumings, Mrs. John Bradley (Florence Briggs Th...  female  38.0      1   \n",
       "2                             Heikkinen, Miss. Laina  female  26.0      0   \n",
       "3       Futrelle, Mrs. Jacques Heath (Lily May Peel)  female  35.0      1   \n",
       "4                           Allen, Mr. William Henry    male  35.0      0   \n",
       "\n",
       "   Parch            Ticket     Fare Cabin Embarked  \n",
       "0      0         A/5 21171   7.2500   NaN        S  \n",
       "1      0          PC 17599  71.2833   C85        C  \n",
       "2      0  STON/O2. 3101282   7.9250   NaN        S  \n",
       "3      0            113803  53.1000  C123        S  \n",
       "4      0            373450   8.0500   NaN        S  "
      ]
     },
     "execution_count": 14,
     "metadata": {},
     "output_type": "execute_result"
    }
   ],
   "source": [
    "df.head()"
   ]
  },
  {
   "cell_type": "code",
   "execution_count": 15,
   "id": "0a04a06b",
   "metadata": {
    "execution": {
     "iopub.execute_input": "2022-11-26T22:33:30.141613Z",
     "iopub.status.busy": "2022-11-26T22:33:30.141189Z",
     "iopub.status.idle": "2022-11-26T22:33:30.183959Z",
     "shell.execute_reply": "2022-11-26T22:33:30.182558Z"
    },
    "papermill": {
     "duration": 0.07733,
     "end_time": "2022-11-26T22:33:30.186677",
     "exception": false,
     "start_time": "2022-11-26T22:33:30.109347",
     "status": "completed"
    },
    "tags": []
   },
   "outputs": [
    {
     "data": {
      "text/html": [
       "<div>\n",
       "<style scoped>\n",
       "    .dataframe tbody tr th:only-of-type {\n",
       "        vertical-align: middle;\n",
       "    }\n",
       "\n",
       "    .dataframe tbody tr th {\n",
       "        vertical-align: top;\n",
       "    }\n",
       "\n",
       "    .dataframe thead th {\n",
       "        text-align: right;\n",
       "    }\n",
       "</style>\n",
       "<table border=\"1\" class=\"dataframe\">\n",
       "  <thead>\n",
       "    <tr style=\"text-align: right;\">\n",
       "      <th></th>\n",
       "      <th>PassengerId</th>\n",
       "      <th>Survived</th>\n",
       "      <th>Pclass</th>\n",
       "      <th>Age</th>\n",
       "      <th>SibSp</th>\n",
       "      <th>Parch</th>\n",
       "      <th>Fare</th>\n",
       "    </tr>\n",
       "  </thead>\n",
       "  <tbody>\n",
       "    <tr>\n",
       "      <th>count</th>\n",
       "      <td>1309.000000</td>\n",
       "      <td>891.000000</td>\n",
       "      <td>1309.000000</td>\n",
       "      <td>1046.000000</td>\n",
       "      <td>1309.000000</td>\n",
       "      <td>1309.000000</td>\n",
       "      <td>1309.000000</td>\n",
       "    </tr>\n",
       "    <tr>\n",
       "      <th>mean</th>\n",
       "      <td>655.000000</td>\n",
       "      <td>0.383838</td>\n",
       "      <td>2.294882</td>\n",
       "      <td>29.881138</td>\n",
       "      <td>0.498854</td>\n",
       "      <td>0.385027</td>\n",
       "      <td>33.295479</td>\n",
       "    </tr>\n",
       "    <tr>\n",
       "      <th>std</th>\n",
       "      <td>378.020061</td>\n",
       "      <td>0.486592</td>\n",
       "      <td>0.837836</td>\n",
       "      <td>14.413493</td>\n",
       "      <td>1.041658</td>\n",
       "      <td>0.865560</td>\n",
       "      <td>51.738879</td>\n",
       "    </tr>\n",
       "    <tr>\n",
       "      <th>min</th>\n",
       "      <td>1.000000</td>\n",
       "      <td>0.000000</td>\n",
       "      <td>1.000000</td>\n",
       "      <td>0.170000</td>\n",
       "      <td>0.000000</td>\n",
       "      <td>0.000000</td>\n",
       "      <td>0.000000</td>\n",
       "    </tr>\n",
       "    <tr>\n",
       "      <th>25%</th>\n",
       "      <td>328.000000</td>\n",
       "      <td>0.000000</td>\n",
       "      <td>2.000000</td>\n",
       "      <td>21.000000</td>\n",
       "      <td>0.000000</td>\n",
       "      <td>0.000000</td>\n",
       "      <td>7.895800</td>\n",
       "    </tr>\n",
       "    <tr>\n",
       "      <th>50%</th>\n",
       "      <td>655.000000</td>\n",
       "      <td>0.000000</td>\n",
       "      <td>3.000000</td>\n",
       "      <td>28.000000</td>\n",
       "      <td>0.000000</td>\n",
       "      <td>0.000000</td>\n",
       "      <td>14.454200</td>\n",
       "    </tr>\n",
       "    <tr>\n",
       "      <th>75%</th>\n",
       "      <td>982.000000</td>\n",
       "      <td>1.000000</td>\n",
       "      <td>3.000000</td>\n",
       "      <td>39.000000</td>\n",
       "      <td>1.000000</td>\n",
       "      <td>0.000000</td>\n",
       "      <td>31.275000</td>\n",
       "    </tr>\n",
       "    <tr>\n",
       "      <th>max</th>\n",
       "      <td>1309.000000</td>\n",
       "      <td>1.000000</td>\n",
       "      <td>3.000000</td>\n",
       "      <td>80.000000</td>\n",
       "      <td>8.000000</td>\n",
       "      <td>9.000000</td>\n",
       "      <td>512.329200</td>\n",
       "    </tr>\n",
       "  </tbody>\n",
       "</table>\n",
       "</div>"
      ],
      "text/plain": [
       "       PassengerId    Survived       Pclass          Age        SibSp  \\\n",
       "count  1309.000000  891.000000  1309.000000  1046.000000  1309.000000   \n",
       "mean    655.000000    0.383838     2.294882    29.881138     0.498854   \n",
       "std     378.020061    0.486592     0.837836    14.413493     1.041658   \n",
       "min       1.000000    0.000000     1.000000     0.170000     0.000000   \n",
       "25%     328.000000    0.000000     2.000000    21.000000     0.000000   \n",
       "50%     655.000000    0.000000     3.000000    28.000000     0.000000   \n",
       "75%     982.000000    1.000000     3.000000    39.000000     1.000000   \n",
       "max    1309.000000    1.000000     3.000000    80.000000     8.000000   \n",
       "\n",
       "             Parch         Fare  \n",
       "count  1309.000000  1309.000000  \n",
       "mean      0.385027    33.295479  \n",
       "std       0.865560    51.738879  \n",
       "min       0.000000     0.000000  \n",
       "25%       0.000000     7.895800  \n",
       "50%       0.000000    14.454200  \n",
       "75%       0.000000    31.275000  \n",
       "max       9.000000   512.329200  "
      ]
     },
     "execution_count": 15,
     "metadata": {},
     "output_type": "execute_result"
    }
   ],
   "source": [
    "df.describe()"
   ]
  },
  {
   "cell_type": "code",
   "execution_count": 16,
   "id": "2266d141",
   "metadata": {
    "execution": {
     "iopub.execute_input": "2022-11-26T22:33:30.246231Z",
     "iopub.status.busy": "2022-11-26T22:33:30.245580Z",
     "iopub.status.idle": "2022-11-26T22:33:30.545929Z",
     "shell.execute_reply": "2022-11-26T22:33:30.544576Z"
    },
    "papermill": {
     "duration": 0.333098,
     "end_time": "2022-11-26T22:33:30.548601",
     "exception": false,
     "start_time": "2022-11-26T22:33:30.215503",
     "status": "completed"
    },
    "tags": []
   },
   "outputs": [
    {
     "data": {
      "image/png": "[encoded data removed]",
      "text/plain": [
       "<Figure size 1440x576 with 1 Axes>"
      ]
     },
     "metadata": {
      "needs_background": "light"
     },
     "output_type": "display_data"
    }
   ],
   "source": [
    "#Let's visualize survival based on the gender.\n",
    "\n",
    "df['Died'] = 1 - df['Survived']\n",
    "df.groupby('Sex').agg('sum')[['Survived', 'Died']].plot(kind='bar', figsize=(20, 8),\n",
    "                                                          stacked=True, color=['g', 'r']);"
   ]
  },
  {
   "cell_type": "code",
   "execution_count": 17,
   "id": "59f6bbb1",
   "metadata": {
    "execution": {
     "iopub.execute_input": "2022-11-26T22:33:30.608120Z",
     "iopub.status.busy": "2022-11-26T22:33:30.607629Z",
     "iopub.status.idle": "2022-11-26T22:33:30.875210Z",
     "shell.execute_reply": "2022-11-26T22:33:30.873851Z"
    },
    "papermill": {
     "duration": 0.300618,
     "end_time": "2022-11-26T22:33:30.878139",
     "exception": false,
     "start_time": "2022-11-26T22:33:30.577521",
     "status": "completed"
    },
    "tags": []
   },
   "outputs": [
    {
     "data": {
      "image/png": "[encoded data removed]",
      "text/plain": [
       "<Figure size 1440x576 with 1 Axes>"
      ]
     },
     "metadata": {
      "needs_background": "light"
     },
     "output_type": "display_data"
    }
   ],
   "source": [
    "#Let's plot the same graph but with ratio instead.\n",
    "\n",
    "df.groupby('Sex').agg('mean')[['Survived', 'Died']].plot(kind='bar', figsize=(20, 8), \n",
    "                                                           stacked=True, color=['g', 'r']);"
   ]
  },
  {
   "cell_type": "code",
   "execution_count": 18,
   "id": "df13dac5",
   "metadata": {
    "execution": {
     "iopub.execute_input": "2022-11-26T22:33:30.942092Z",
     "iopub.status.busy": "2022-11-26T22:33:30.941547Z",
     "iopub.status.idle": "2022-11-26T22:33:31.303412Z",
     "shell.execute_reply": "2022-11-26T22:33:31.302208Z"
    },
    "papermill": {
     "duration": 0.397651,
     "end_time": "2022-11-26T22:33:31.306294",
     "exception": false,
     "start_time": "2022-11-26T22:33:30.908643",
     "status": "completed"
    },
    "tags": []
   },
   "outputs": [
    {
     "data": {
      "image/png": "[encoded data removed]",
      "text/plain": [
       "<Figure size 1440x576 with 1 Axes>"
      ]
     },
     "metadata": {
      "needs_background": "light"
     },
     "output_type": "display_data"
    }
   ],
   "source": [
    "#Let's now correlate the survival with the age variable.\n",
    "\n",
    "fig = plt.figure(figsize=(20, 8))\n",
    "sns.violinplot(x='Sex', y='Age', \n",
    "               hue='Survived', data=df, \n",
    "               split=True,\n",
    "               palette={0: \"r\", 1: \"g\"}\n",
    "              );"
   ]
  },
  {
   "cell_type": "code",
   "execution_count": 19,
   "id": "dc6ba8c5",
   "metadata": {
    "execution": {
     "iopub.execute_input": "2022-11-26T22:33:31.372619Z",
     "iopub.status.busy": "2022-11-26T22:33:31.371972Z",
     "iopub.status.idle": "2022-11-26T22:33:31.908384Z",
     "shell.execute_reply": "2022-11-26T22:33:31.906963Z"
    },
    "papermill": {
     "duration": 0.573482,
     "end_time": "2022-11-26T22:33:31.911063",
     "exception": false,
     "start_time": "2022-11-26T22:33:31.337581",
     "status": "completed"
    },
    "tags": []
   },
   "outputs": [
    {
     "data": {
      "image/png": "[encoded data removed]",
      "text/plain": [
       "<Figure size 1440x576 with 1 Axes>"
      ]
     },
     "metadata": {
      "needs_background": "light"
     },
     "output_type": "display_data"
    }
   ],
   "source": [
    "#Let's now focus on the Fare ticket of each passenger and see how it could impact the survival.\n",
    "\n",
    "figure = plt.figure(figsize=(20, 8))\n",
    "plt.hist([df[df['Survived'] == 1]['Fare'], df[df['Survived'] == 0]['Fare']], \n",
    "         stacked=True, color = ['g','r'],\n",
    "         bins = 50, label = ['Survived','Dead'])\n",
    "plt.xlabel('Fare')\n",
    "plt.ylabel('Number of passengers')\n",
    "plt.legend();"
   ]
  },
  {
   "cell_type": "code",
   "execution_count": 20,
   "id": "560fec11",
   "metadata": {
    "execution": {
     "iopub.execute_input": "2022-11-26T22:33:31.986278Z",
     "iopub.status.busy": "2022-11-26T22:33:31.985870Z",
     "iopub.status.idle": "2022-11-26T22:33:32.307516Z",
     "shell.execute_reply": "2022-11-26T22:33:32.306464Z"
    },
    "papermill": {
     "duration": 0.364042,
     "end_time": "2022-11-26T22:33:32.310085",
     "exception": false,
     "start_time": "2022-11-26T22:33:31.946043",
     "status": "completed"
    },
    "tags": []
   },
   "outputs": [
    {
     "data": {
      "image/png": "[encoded data removed]",
      "text/plain": [
       "<Figure size 1440x576 with 1 Axes>"
      ]
     },
     "metadata": {
      "needs_background": "light"
     },
     "output_type": "display_data"
    }
   ],
   "source": [
    "#Let's now combine the age, the fare and the survival on a single chart.\n",
    "\n",
    "plt.figure(figsize=(20, 8))\n",
    "ax = plt.subplot()\n",
    "\n",
    "ax.scatter(df[df['Survived'] == 1]['Age'], df[df['Survived'] == 1]['Fare'], \n",
    "           c='green', s=df[df['Survived'] == 1]['Fare'])\n",
    "ax.scatter(df[df['Survived'] == 0]['Age'], df[df['Survived'] == 0]['Fare'], \n",
    "           c='red', s=df[df['Survived'] == 0]['Fare']);"
   ]
  },
  {
   "cell_type": "code",
   "execution_count": 21,
   "id": "5a2c49d2",
   "metadata": {
    "execution": {
     "iopub.execute_input": "2022-11-26T22:33:32.377896Z",
     "iopub.status.busy": "2022-11-26T22:33:32.377461Z",
     "iopub.status.idle": "2022-11-26T22:33:32.610524Z",
     "shell.execute_reply": "2022-11-26T22:33:32.608747Z"
    },
    "papermill": {
     "duration": 0.270776,
     "end_time": "2022-11-26T22:33:32.613798",
     "exception": false,
     "start_time": "2022-11-26T22:33:32.343022",
     "status": "completed"
    },
    "tags": []
   },
   "outputs": [
    {
     "data": {
      "image/png": "[encoded data removed]",
      "text/plain": [
       "<Figure size 1440x576 with 1 Axes>"
      ]
     },
     "metadata": {
      "needs_background": "light"
     },
     "output_type": "display_data"
    }
   ],
   "source": [
    "#the ticket fare correlates with the class as we see it in the chart below.\n",
    "\n",
    "ax = plt.subplot()\n",
    "ax.set_ylabel('Average fare')\n",
    "df.groupby('Pclass').mean()['Fare'].plot(kind='bar', figsize=(20, 8), ax = ax);"
   ]
  },
  {
   "cell_type": "code",
   "execution_count": 22,
   "id": "e79bd237",
   "metadata": {
    "execution": {
     "iopub.execute_input": "2022-11-26T22:33:32.681814Z",
     "iopub.status.busy": "2022-11-26T22:33:32.681116Z",
     "iopub.status.idle": "2022-11-26T22:33:33.062286Z",
     "shell.execute_reply": "2022-11-26T22:33:33.061033Z"
    },
    "papermill": {
     "duration": 0.417364,
     "end_time": "2022-11-26T22:33:33.064993",
     "exception": false,
     "start_time": "2022-11-26T22:33:32.647629",
     "status": "completed"
    },
    "tags": []
   },
   "outputs": [
    {
     "data": {
      "image/png": "[encoded data removed]",
      "text/plain": [
       "<Figure size 1440x576 with 1 Axes>"
      ]
     },
     "metadata": {
      "needs_background": "light"
     },
     "output_type": "display_data"
    }
   ],
   "source": [
    "#Let's now see how the embarkation site affects the survival.\n",
    "\n",
    "fig = plt.figure(figsize=(20, 8))\n",
    "sns.violinplot(x='Embarked', y='Fare', hue='Survived', data=df, split=True, palette={0: \"r\", 1: \"g\"});"
   ]
  },
  {
   "cell_type": "code",
   "execution_count": 23,
   "id": "b1fbf888",
   "metadata": {
    "execution": {
     "iopub.execute_input": "2022-11-26T22:33:33.132587Z",
     "iopub.status.busy": "2022-11-26T22:33:33.132186Z",
     "iopub.status.idle": "2022-11-26T22:33:33.821047Z",
     "shell.execute_reply": "2022-11-26T22:33:33.819597Z"
    },
    "papermill": {
     "duration": 0.72723,
     "end_time": "2022-11-26T22:33:33.824396",
     "exception": false,
     "start_time": "2022-11-26T22:33:33.097166",
     "status": "completed"
    },
    "tags": []
   },
   "outputs": [
    {
     "data": {
      "image/png": "[encoded data removed]",
      "text/plain": [
       "<Figure size 1440x576 with 2 Axes>"
      ]
     },
     "metadata": {
      "needs_background": "light"
     },
     "output_type": "display_data"
    }
   ],
   "source": [
    "plt.figure(figsize=(20,8))\n",
    "corr_mat=train.corr()\n",
    "sns.heatmap(corr_mat, color = 'b', annot=True)\n",
    "plt.show()"
   ]
  },
  {
   "cell_type": "code",
   "execution_count": null,
   "id": "f51291d9",
   "metadata": {
    "papermill": {
     "duration": 0.032214,
     "end_time": "2022-11-26T22:33:33.891272",
     "exception": false,
     "start_time": "2022-11-26T22:33:33.859058",
     "status": "completed"
    },
    "tags": []
   },
   "outputs": [],
   "source": []
  },
  {
   "cell_type": "markdown",
   "id": "bfe420f0",
   "metadata": {
    "papermill": {
     "duration": 0.038151,
     "end_time": "2022-11-26T22:33:33.963219",
     "exception": false,
     "start_time": "2022-11-26T22:33:33.925068",
     "status": "completed"
    },
    "tags": []
   },
   "source": [
    "# **Feature Engineering**"
   ]
  },
  {
   "cell_type": "code",
   "execution_count": 24,
   "id": "ad256023",
   "metadata": {
    "execution": {
     "iopub.execute_input": "2022-11-26T22:33:34.056154Z",
     "iopub.status.busy": "2022-11-26T22:33:34.055398Z",
     "iopub.status.idle": "2022-11-26T22:33:34.076515Z",
     "shell.execute_reply": "2022-11-26T22:33:34.075260Z"
    },
    "papermill": {
     "duration": 0.069857,
     "end_time": "2022-11-26T22:33:34.078766",
     "exception": false,
     "start_time": "2022-11-26T22:33:34.008909",
     "status": "completed"
    },
    "tags": []
   },
   "outputs": [
    {
     "data": {
      "text/html": [
       "<div>\n",
       "<style scoped>\n",
       "    .dataframe tbody tr th:only-of-type {\n",
       "        vertical-align: middle;\n",
       "    }\n",
       "\n",
       "    .dataframe tbody tr th {\n",
       "        vertical-align: top;\n",
       "    }\n",
       "\n",
       "    .dataframe thead th {\n",
       "        text-align: right;\n",
       "    }\n",
       "</style>\n",
       "<table border=\"1\" class=\"dataframe\">\n",
       "  <thead>\n",
       "    <tr style=\"text-align: right;\">\n",
       "      <th></th>\n",
       "      <th>PassengerId</th>\n",
       "      <th>Survived</th>\n",
       "      <th>Pclass</th>\n",
       "      <th>Name</th>\n",
       "      <th>Sex</th>\n",
       "      <th>Age</th>\n",
       "      <th>SibSp</th>\n",
       "      <th>Parch</th>\n",
       "      <th>Ticket</th>\n",
       "      <th>Fare</th>\n",
       "      <th>Cabin</th>\n",
       "      <th>Embarked</th>\n",
       "      <th>Died</th>\n",
       "    </tr>\n",
       "  </thead>\n",
       "  <tbody>\n",
       "    <tr>\n",
       "      <th>0</th>\n",
       "      <td>1</td>\n",
       "      <td>0.0</td>\n",
       "      <td>3</td>\n",
       "      <td>Braund, Mr. Owen Harris</td>\n",
       "      <td>male</td>\n",
       "      <td>22.0</td>\n",
       "      <td>1</td>\n",
       "      <td>0</td>\n",
       "      <td>A/5 21171</td>\n",
       "      <td>7.2500</td>\n",
       "      <td>NaN</td>\n",
       "      <td>S</td>\n",
       "      <td>1.0</td>\n",
       "    </tr>\n",
       "    <tr>\n",
       "      <th>1</th>\n",
       "      <td>2</td>\n",
       "      <td>1.0</td>\n",
       "      <td>1</td>\n",
       "      <td>Cumings, Mrs. John Bradley (Florence Briggs Th...</td>\n",
       "      <td>female</td>\n",
       "      <td>38.0</td>\n",
       "      <td>1</td>\n",
       "      <td>0</td>\n",
       "      <td>PC 17599</td>\n",
       "      <td>71.2833</td>\n",
       "      <td>C85</td>\n",
       "      <td>C</td>\n",
       "      <td>0.0</td>\n",
       "    </tr>\n",
       "    <tr>\n",
       "      <th>2</th>\n",
       "      <td>3</td>\n",
       "      <td>1.0</td>\n",
       "      <td>3</td>\n",
       "      <td>Heikkinen, Miss. Laina</td>\n",
       "      <td>female</td>\n",
       "      <td>26.0</td>\n",
       "      <td>0</td>\n",
       "      <td>0</td>\n",
       "      <td>STON/O2. 3101282</td>\n",
       "      <td>7.9250</td>\n",
       "      <td>NaN</td>\n",
       "      <td>S</td>\n",
       "      <td>0.0</td>\n",
       "    </tr>\n",
       "    <tr>\n",
       "      <th>3</th>\n",
       "      <td>4</td>\n",
       "      <td>1.0</td>\n",
       "      <td>1</td>\n",
       "      <td>Futrelle, Mrs. Jacques Heath (Lily May Peel)</td>\n",
       "      <td>female</td>\n",
       "      <td>35.0</td>\n",
       "      <td>1</td>\n",
       "      <td>0</td>\n",
       "      <td>113803</td>\n",
       "      <td>53.1000</td>\n",
       "      <td>C123</td>\n",
       "      <td>S</td>\n",
       "      <td>0.0</td>\n",
       "    </tr>\n",
       "    <tr>\n",
       "      <th>4</th>\n",
       "      <td>5</td>\n",
       "      <td>0.0</td>\n",
       "      <td>3</td>\n",
       "      <td>Allen, Mr. William Henry</td>\n",
       "      <td>male</td>\n",
       "      <td>35.0</td>\n",
       "      <td>0</td>\n",
       "      <td>0</td>\n",
       "      <td>373450</td>\n",
       "      <td>8.0500</td>\n",
       "      <td>NaN</td>\n",
       "      <td>S</td>\n",
       "      <td>1.0</td>\n",
       "    </tr>\n",
       "  </tbody>\n",
       "</table>\n",
       "</div>"
      ],
      "text/plain": [
       "   PassengerId  Survived  Pclass  \\\n",
       "0            1       0.0       3   \n",
       "1            2       1.0       1   \n",
       "2            3       1.0       3   \n",
       "3            4       1.0       1   \n",
       "4            5       0.0       3   \n",
       "\n",
       "                                                Name     Sex   Age  SibSp  \\\n",
       "0                            Braund, Mr. Owen Harris    male  22.0      1   \n",
       "1  Cumings, Mrs. John Bradley (Florence Briggs Th...  female  38.0      1   \n",
       "2                             Heikkinen, Miss. Laina  female  26.0      0   \n",
       "3       Futrelle, Mrs. Jacques Heath (Lily May Peel)  female  35.0      1   \n",
       "4                           Allen, Mr. William Henry    male  35.0      0   \n",
       "\n",
       "   Parch            Ticket     Fare Cabin Embarked  Died  \n",
       "0      0         A/5 21171   7.2500   NaN        S   1.0  \n",
       "1      0          PC 17599  71.2833   C85        C   0.0  \n",
       "2      0  STON/O2. 3101282   7.9250   NaN        S   0.0  \n",
       "3      0            113803  53.1000  C123        S   0.0  \n",
       "4      0            373450   8.0500   NaN        S   1.0  "
      ]
     },
     "execution_count": 24,
     "metadata": {},
     "output_type": "execute_result"
    }
   ],
   "source": [
    "df.head()"
   ]
  },
  {
   "cell_type": "code",
   "execution_count": 25,
   "id": "4ec267aa",
   "metadata": {
    "execution": {
     "iopub.execute_input": "2022-11-26T22:33:34.150563Z",
     "iopub.status.busy": "2022-11-26T22:33:34.150143Z",
     "iopub.status.idle": "2022-11-26T22:33:34.154263Z",
     "shell.execute_reply": "2022-11-26T22:33:34.153326Z"
    },
    "papermill": {
     "duration": 0.042341,
     "end_time": "2022-11-26T22:33:34.156533",
     "exception": false,
     "start_time": "2022-11-26T22:33:34.114192",
     "status": "completed"
    },
    "tags": []
   },
   "outputs": [],
   "source": [
    "# Numerical columns\n",
    "#     fare, sibsp, parch, age, pclass\n",
    "\n",
    "# Categorical columns\n",
    "#     sex, embarked"
   ]
  },
  {
   "cell_type": "code",
   "execution_count": 26,
   "id": "9a498b2d",
   "metadata": {
    "execution": {
     "iopub.execute_input": "2022-11-26T22:33:34.225829Z",
     "iopub.status.busy": "2022-11-26T22:33:34.225165Z",
     "iopub.status.idle": "2022-11-26T22:33:34.235304Z",
     "shell.execute_reply": "2022-11-26T22:33:34.234051Z"
    },
    "papermill": {
     "duration": 0.047488,
     "end_time": "2022-11-26T22:33:34.237964",
     "exception": false,
     "start_time": "2022-11-26T22:33:34.190476",
     "status": "completed"
    },
    "tags": []
   },
   "outputs": [
    {
     "data": {
      "text/plain": [
       "PassengerId       0\n",
       "Survived        418\n",
       "Pclass            0\n",
       "Name              0\n",
       "Sex               0\n",
       "Age             263\n",
       "SibSp             0\n",
       "Parch             0\n",
       "Ticket            0\n",
       "Fare              0\n",
       "Cabin          1014\n",
       "Embarked          0\n",
       "Died            418\n",
       "dtype: int64"
      ]
     },
     "execution_count": 26,
     "metadata": {},
     "output_type": "execute_result"
    }
   ],
   "source": [
    "df.isnull().sum()"
   ]
  },
  {
   "cell_type": "code",
   "execution_count": 27,
   "id": "83fe4841",
   "metadata": {
    "execution": {
     "iopub.execute_input": "2022-11-26T22:33:34.308866Z",
     "iopub.status.busy": "2022-11-26T22:33:34.308398Z",
     "iopub.status.idle": "2022-11-26T22:33:34.318281Z",
     "shell.execute_reply": "2022-11-26T22:33:34.316533Z"
    },
    "papermill": {
     "duration": 0.048084,
     "end_time": "2022-11-26T22:33:34.320758",
     "exception": false,
     "start_time": "2022-11-26T22:33:34.272674",
     "status": "completed"
    },
    "tags": []
   },
   "outputs": [],
   "source": [
    "def get_titles():\n",
    "\n",
    "    global df\n",
    "    \n",
    "    # we extract the title from each name\n",
    "    df['Title'] = df['Name'].map(lambda name:name.split(',')[1].split('.')[0].strip())\n",
    "    \n",
    "    # a map of more aggregated titles\n",
    "    Title_Dictionary = {\n",
    "                        \"Capt\":       \"Officer\",\n",
    "                        \"Col\":        \"Officer\",\n",
    "                        \"Major\":      \"Officer\",\n",
    "                        \"Dr\":         \"Officer\",\n",
    "                        \"Rev\":        \"Officer\",\n",
    "                        \"Jonkheer\":   \"Royalty\",\n",
    "                        \"Don\":        \"Royalty\",\n",
    "                        \"Sir\" :       \"Royalty\",\n",
    "                        \"the Countess\":\"Royalty\",\n",
    "                        \"Lady\" :      \"Royalty\",\n",
    "                        \"Dona\":       \"Royalty\",\n",
    "                        \"Mme\":        \"Mrs\",\n",
    "                        \"Ms\":         \"Mrs\",\n",
    "                        \"Mrs\" :       \"Mrs\",\n",
    "                        \"Mr\" :        \"Mr\",\n",
    "                        \"Mlle\":       \"Miss\",\n",
    "                        \"Miss\" :      \"Miss\",\n",
    "                        \"Master\" :    \"Master\"         \n",
    "\n",
    "                        }\n",
    "    \n",
    "    # we map each title\n",
    "    df['Title'] = df.Title.map(Title_Dictionary)\n",
    "    print('Titles processed...')"
   ]
  },
  {
   "cell_type": "code",
   "execution_count": 28,
   "id": "151a6b11",
   "metadata": {
    "execution": {
     "iopub.execute_input": "2022-11-26T22:33:34.392620Z",
     "iopub.status.busy": "2022-11-26T22:33:34.392144Z",
     "iopub.status.idle": "2022-11-26T22:33:34.412962Z",
     "shell.execute_reply": "2022-11-26T22:33:34.411116Z"
    },
    "papermill": {
     "duration": 0.060115,
     "end_time": "2022-11-26T22:33:34.415988",
     "exception": false,
     "start_time": "2022-11-26T22:33:34.355873",
     "status": "completed"
    },
    "tags": []
   },
   "outputs": [
    {
     "name": "stdout",
     "output_type": "stream",
     "text": [
      "Titles processed...\n"
     ]
    }
   ],
   "source": [
    "get_titles()"
   ]
  },
  {
   "cell_type": "code",
   "execution_count": 29,
   "id": "477fd327",
   "metadata": {
    "execution": {
     "iopub.execute_input": "2022-11-26T22:33:34.490316Z",
     "iopub.status.busy": "2022-11-26T22:33:34.489013Z",
     "iopub.status.idle": "2022-11-26T22:33:34.503885Z",
     "shell.execute_reply": "2022-11-26T22:33:34.502762Z"
    },
    "papermill": {
     "duration": 0.05572,
     "end_time": "2022-11-26T22:33:34.506784",
     "exception": false,
     "start_time": "2022-11-26T22:33:34.451064",
     "status": "completed"
    },
    "tags": []
   },
   "outputs": [],
   "source": [
    "grouped_train = df.head(891).groupby(['Sex','Pclass','Title'])\n",
    "grouped_median_train = grouped_train.median()\n",
    "\n",
    "grouped_test = df.iloc[891:].groupby(['Sex','Pclass','Title'])\n",
    "grouped_median_test = grouped_test.median()"
   ]
  },
  {
   "cell_type": "code",
   "execution_count": 30,
   "id": "54ba7f62",
   "metadata": {
    "execution": {
     "iopub.execute_input": "2022-11-26T22:33:34.577086Z",
     "iopub.status.busy": "2022-11-26T22:33:34.576599Z",
     "iopub.status.idle": "2022-11-26T22:33:34.603622Z",
     "shell.execute_reply": "2022-11-26T22:33:34.601761Z"
    },
    "papermill": {
     "duration": 0.066468,
     "end_time": "2022-11-26T22:33:34.607205",
     "exception": false,
     "start_time": "2022-11-26T22:33:34.540737",
     "status": "completed"
    },
    "tags": []
   },
   "outputs": [
    {
     "data": {
      "text/html": [
       "<div>\n",
       "<style scoped>\n",
       "    .dataframe tbody tr th:only-of-type {\n",
       "        vertical-align: middle;\n",
       "    }\n",
       "\n",
       "    .dataframe tbody tr th {\n",
       "        vertical-align: top;\n",
       "    }\n",
       "\n",
       "    .dataframe thead th {\n",
       "        text-align: right;\n",
       "    }\n",
       "</style>\n",
       "<table border=\"1\" class=\"dataframe\">\n",
       "  <thead>\n",
       "    <tr style=\"text-align: right;\">\n",
       "      <th></th>\n",
       "      <th></th>\n",
       "      <th></th>\n",
       "      <th>PassengerId</th>\n",
       "      <th>Survived</th>\n",
       "      <th>Age</th>\n",
       "      <th>SibSp</th>\n",
       "      <th>Parch</th>\n",
       "      <th>Fare</th>\n",
       "      <th>Died</th>\n",
       "    </tr>\n",
       "    <tr>\n",
       "      <th>Sex</th>\n",
       "      <th>Pclass</th>\n",
       "      <th>Title</th>\n",
       "      <th></th>\n",
       "      <th></th>\n",
       "      <th></th>\n",
       "      <th></th>\n",
       "      <th></th>\n",
       "      <th></th>\n",
       "      <th></th>\n",
       "    </tr>\n",
       "  </thead>\n",
       "  <tbody>\n",
       "    <tr>\n",
       "      <th rowspan=\"8\" valign=\"top\">female</th>\n",
       "      <th rowspan=\"4\" valign=\"top\">1</th>\n",
       "      <th>Miss</th>\n",
       "      <td>369.0</td>\n",
       "      <td>1.0</td>\n",
       "      <td>30.0</td>\n",
       "      <td>0.0</td>\n",
       "      <td>0.0</td>\n",
       "      <td>88.25000</td>\n",
       "      <td>0.0</td>\n",
       "    </tr>\n",
       "    <tr>\n",
       "      <th>Mrs</th>\n",
       "      <td>499.0</td>\n",
       "      <td>1.0</td>\n",
       "      <td>40.0</td>\n",
       "      <td>1.0</td>\n",
       "      <td>0.0</td>\n",
       "      <td>79.20000</td>\n",
       "      <td>0.0</td>\n",
       "    </tr>\n",
       "    <tr>\n",
       "      <th>Officer</th>\n",
       "      <td>797.0</td>\n",
       "      <td>1.0</td>\n",
       "      <td>49.0</td>\n",
       "      <td>0.0</td>\n",
       "      <td>0.0</td>\n",
       "      <td>25.92920</td>\n",
       "      <td>0.0</td>\n",
       "    </tr>\n",
       "    <tr>\n",
       "      <th>Royalty</th>\n",
       "      <td>658.5</td>\n",
       "      <td>1.0</td>\n",
       "      <td>40.5</td>\n",
       "      <td>0.5</td>\n",
       "      <td>0.0</td>\n",
       "      <td>63.05000</td>\n",
       "      <td>0.0</td>\n",
       "    </tr>\n",
       "    <tr>\n",
       "      <th rowspan=\"2\" valign=\"top\">2</th>\n",
       "      <th>Miss</th>\n",
       "      <td>437.5</td>\n",
       "      <td>1.0</td>\n",
       "      <td>24.0</td>\n",
       "      <td>0.0</td>\n",
       "      <td>0.0</td>\n",
       "      <td>13.00000</td>\n",
       "      <td>0.0</td>\n",
       "    </tr>\n",
       "    <tr>\n",
       "      <th>Mrs</th>\n",
       "      <td>439.5</td>\n",
       "      <td>1.0</td>\n",
       "      <td>31.5</td>\n",
       "      <td>1.0</td>\n",
       "      <td>0.0</td>\n",
       "      <td>26.00000</td>\n",
       "      <td>0.0</td>\n",
       "    </tr>\n",
       "    <tr>\n",
       "      <th rowspan=\"2\" valign=\"top\">3</th>\n",
       "      <th>Miss</th>\n",
       "      <td>372.0</td>\n",
       "      <td>0.5</td>\n",
       "      <td>18.0</td>\n",
       "      <td>0.0</td>\n",
       "      <td>0.0</td>\n",
       "      <td>8.75625</td>\n",
       "      <td>0.5</td>\n",
       "    </tr>\n",
       "    <tr>\n",
       "      <th>Mrs</th>\n",
       "      <td>405.5</td>\n",
       "      <td>0.5</td>\n",
       "      <td>31.0</td>\n",
       "      <td>1.0</td>\n",
       "      <td>1.0</td>\n",
       "      <td>15.97500</td>\n",
       "      <td>0.5</td>\n",
       "    </tr>\n",
       "    <tr>\n",
       "      <th rowspan=\"9\" valign=\"top\">male</th>\n",
       "      <th rowspan=\"4\" valign=\"top\">1</th>\n",
       "      <th>Master</th>\n",
       "      <td>446.0</td>\n",
       "      <td>1.0</td>\n",
       "      <td>4.0</td>\n",
       "      <td>1.0</td>\n",
       "      <td>2.0</td>\n",
       "      <td>120.00000</td>\n",
       "      <td>0.0</td>\n",
       "    </tr>\n",
       "    <tr>\n",
       "      <th>Mr</th>\n",
       "      <td>463.0</td>\n",
       "      <td>0.0</td>\n",
       "      <td>40.0</td>\n",
       "      <td>0.0</td>\n",
       "      <td>0.0</td>\n",
       "      <td>42.40000</td>\n",
       "      <td>1.0</td>\n",
       "    </tr>\n",
       "    <tr>\n",
       "      <th>Officer</th>\n",
       "      <td>648.0</td>\n",
       "      <td>0.0</td>\n",
       "      <td>51.0</td>\n",
       "      <td>0.0</td>\n",
       "      <td>0.0</td>\n",
       "      <td>35.50000</td>\n",
       "      <td>1.0</td>\n",
       "    </tr>\n",
       "    <tr>\n",
       "      <th>Royalty</th>\n",
       "      <td>600.0</td>\n",
       "      <td>0.0</td>\n",
       "      <td>40.0</td>\n",
       "      <td>0.0</td>\n",
       "      <td>0.0</td>\n",
       "      <td>27.72080</td>\n",
       "      <td>1.0</td>\n",
       "    </tr>\n",
       "    <tr>\n",
       "      <th rowspan=\"3\" valign=\"top\">2</th>\n",
       "      <th>Master</th>\n",
       "      <td>408.0</td>\n",
       "      <td>1.0</td>\n",
       "      <td>1.0</td>\n",
       "      <td>1.0</td>\n",
       "      <td>1.0</td>\n",
       "      <td>26.00000</td>\n",
       "      <td>0.0</td>\n",
       "    </tr>\n",
       "    <tr>\n",
       "      <th>Mr</th>\n",
       "      <td>440.0</td>\n",
       "      <td>0.0</td>\n",
       "      <td>31.0</td>\n",
       "      <td>0.0</td>\n",
       "      <td>0.0</td>\n",
       "      <td>13.00000</td>\n",
       "      <td>1.0</td>\n",
       "    </tr>\n",
       "    <tr>\n",
       "      <th>Officer</th>\n",
       "      <td>358.5</td>\n",
       "      <td>0.0</td>\n",
       "      <td>46.5</td>\n",
       "      <td>0.0</td>\n",
       "      <td>0.0</td>\n",
       "      <td>13.00000</td>\n",
       "      <td>1.0</td>\n",
       "    </tr>\n",
       "    <tr>\n",
       "      <th rowspan=\"2\" valign=\"top\">3</th>\n",
       "      <th>Master</th>\n",
       "      <td>270.5</td>\n",
       "      <td>0.0</td>\n",
       "      <td>4.0</td>\n",
       "      <td>3.5</td>\n",
       "      <td>1.0</td>\n",
       "      <td>28.51250</td>\n",
       "      <td>1.0</td>\n",
       "    </tr>\n",
       "    <tr>\n",
       "      <th>Mr</th>\n",
       "      <td>472.0</td>\n",
       "      <td>0.0</td>\n",
       "      <td>26.0</td>\n",
       "      <td>0.0</td>\n",
       "      <td>0.0</td>\n",
       "      <td>7.89580</td>\n",
       "      <td>1.0</td>\n",
       "    </tr>\n",
       "  </tbody>\n",
       "</table>\n",
       "</div>"
      ],
      "text/plain": [
       "                       PassengerId  Survived   Age  SibSp  Parch       Fare  \\\n",
       "Sex    Pclass Title                                                           \n",
       "female 1      Miss           369.0       1.0  30.0    0.0    0.0   88.25000   \n",
       "              Mrs            499.0       1.0  40.0    1.0    0.0   79.20000   \n",
       "              Officer        797.0       1.0  49.0    0.0    0.0   25.92920   \n",
       "              Royalty        658.5       1.0  40.5    0.5    0.0   63.05000   \n",
       "       2      Miss           437.5       1.0  24.0    0.0    0.0   13.00000   \n",
       "              Mrs            439.5       1.0  31.5    1.0    0.0   26.00000   \n",
       "       3      Miss           372.0       0.5  18.0    0.0    0.0    8.75625   \n",
       "              Mrs            405.5       0.5  31.0    1.0    1.0   15.97500   \n",
       "male   1      Master         446.0       1.0   4.0    1.0    2.0  120.00000   \n",
       "              Mr             463.0       0.0  40.0    0.0    0.0   42.40000   \n",
       "              Officer        648.0       0.0  51.0    0.0    0.0   35.50000   \n",
       "              Royalty        600.0       0.0  40.0    0.0    0.0   27.72080   \n",
       "       2      Master         408.0       1.0   1.0    1.0    1.0   26.00000   \n",
       "              Mr             440.0       0.0  31.0    0.0    0.0   13.00000   \n",
       "              Officer        358.5       0.0  46.5    0.0    0.0   13.00000   \n",
       "       3      Master         270.5       0.0   4.0    3.5    1.0   28.51250   \n",
       "              Mr             472.0       0.0  26.0    0.0    0.0    7.89580   \n",
       "\n",
       "                       Died  \n",
       "Sex    Pclass Title          \n",
       "female 1      Miss      0.0  \n",
       "              Mrs       0.0  \n",
       "              Officer   0.0  \n",
       "              Royalty   0.0  \n",
       "       2      Miss      0.0  \n",
       "              Mrs       0.0  \n",
       "       3      Miss      0.5  \n",
       "              Mrs       0.5  \n",
       "male   1      Master    0.0  \n",
       "              Mr        1.0  \n",
       "              Officer   1.0  \n",
       "              Royalty   1.0  \n",
       "       2      Master    0.0  \n",
       "              Mr        1.0  \n",
       "              Officer   1.0  \n",
       "       3      Master    1.0  \n",
       "              Mr        1.0  "
      ]
     },
     "execution_count": 30,
     "metadata": {},
     "output_type": "execute_result"
    }
   ],
   "source": [
    "grouped_median_train"
   ]
  },
  {
   "cell_type": "code",
   "execution_count": 31,
   "id": "a992282f",
   "metadata": {
    "execution": {
     "iopub.execute_input": "2022-11-26T22:33:34.679126Z",
     "iopub.status.busy": "2022-11-26T22:33:34.678691Z",
     "iopub.status.idle": "2022-11-26T22:33:34.699711Z",
     "shell.execute_reply": "2022-11-26T22:33:34.698295Z"
    },
    "papermill": {
     "duration": 0.060226,
     "end_time": "2022-11-26T22:33:34.702584",
     "exception": false,
     "start_time": "2022-11-26T22:33:34.642358",
     "status": "completed"
    },
    "tags": []
   },
   "outputs": [],
   "source": [
    "def process_age():\n",
    "    \n",
    "    global df\n",
    "    \n",
    "    # a function that fills the missing values of the Age variable\n",
    "    \n",
    "    def fillAges(row, grouped_median):\n",
    "        if row['Sex']=='female' and row['Pclass'] == 1:\n",
    "            if row['Title'] == 'Miss':\n",
    "                return grouped_median.loc['female', 1, 'Miss']['Age']\n",
    "            elif row['Title'] == 'Mrs':\n",
    "                return grouped_median.loc['female', 1, 'Mrs']['Age']\n",
    "            elif row['Title'] == 'Officer':\n",
    "                return grouped_median.loc['female', 1, 'Officer']['Age']\n",
    "            elif row['Title'] == 'Royalty':\n",
    "                return grouped_median.loc['female', 1, 'Royalty']['Age']\n",
    "\n",
    "        elif row['Sex']=='female' and row['Pclass'] == 2:\n",
    "            if row['Title'] == 'Miss':\n",
    "                return grouped_median.loc['female', 2, 'Miss']['Age']\n",
    "            elif row['Title'] == 'Mrs':\n",
    "                return grouped_median.loc['female', 2, 'Mrs']['Age']\n",
    "\n",
    "        elif row['Sex']=='female' and row['Pclass'] == 3:\n",
    "            if row['Title'] == 'Miss':\n",
    "                return grouped_median.loc['female', 3, 'Miss']['Age']\n",
    "            elif row['Title'] == 'Mrs':\n",
    "                return grouped_median.loc['female', 3, 'Mrs']['Age']\n",
    "\n",
    "        elif row['Sex']=='male' and row['Pclass'] == 1:\n",
    "            if row['Title'] == 'Master':\n",
    "                return grouped_median.loc['male', 1, 'Master']['Age']\n",
    "            elif row['Title'] == 'Mr':\n",
    "                return grouped_median.loc['male', 1, 'Mr']['Age']\n",
    "            elif row['Title'] == 'Officer':\n",
    "                return grouped_median.loc['male', 1, 'Officer']['Age']\n",
    "            elif row['Title'] == 'Royalty':\n",
    "                return grouped_median.loc['male', 1, 'Royalty']['Age']\n",
    "\n",
    "        elif row['Sex']=='male' and row['Pclass'] == 2:\n",
    "            if row['Title'] == 'Master':\n",
    "                return grouped_median.loc['male', 2, 'Master']['Age']\n",
    "            elif row['Title'] == 'Mr':\n",
    "                return grouped_median.loc['male', 2, 'Mr']['Age']\n",
    "            elif row['Title'] == 'Officer':\n",
    "                return grouped_median.loc['male', 2, 'Officer']['Age']\n",
    "\n",
    "        elif row['Sex']=='male' and row['Pclass'] == 3:\n",
    "            if row['Title'] == 'Master':\n",
    "                return grouped_median.loc['male', 3, 'Master']['Age']\n",
    "            elif row['Title'] == 'Mr':\n",
    "                return grouped_median.loc['male', 3, 'Mr']['Age']\n",
    "    \n",
    "    df.head(891).Age = df.head(891).apply(lambda r : fillAges(r, grouped_median_train) if np.isnan(r['Age']) \n",
    "                                                      else r['Age'], axis=1)\n",
    "    \n",
    "    df.iloc[891:].Age = df.iloc[891:].apply(lambda r : fillAges(r, grouped_median_test) if np.isnan(r['Age']) \n",
    "                                                      else r['Age'], axis=1)\n",
    "    "
   ]
  },
  {
   "cell_type": "code",
   "execution_count": 32,
   "id": "d8db9841",
   "metadata": {
    "execution": {
     "iopub.execute_input": "2022-11-26T22:33:34.774107Z",
     "iopub.status.busy": "2022-11-26T22:33:34.773641Z",
     "iopub.status.idle": "2022-11-26T22:33:34.863799Z",
     "shell.execute_reply": "2022-11-26T22:33:34.862481Z"
    },
    "papermill": {
     "duration": 0.129284,
     "end_time": "2022-11-26T22:33:34.866927",
     "exception": false,
     "start_time": "2022-11-26T22:33:34.737643",
     "status": "completed"
    },
    "tags": []
   },
   "outputs": [],
   "source": [
    "process_age()"
   ]
  },
  {
   "cell_type": "code",
   "execution_count": 33,
   "id": "d58c586f",
   "metadata": {
    "execution": {
     "iopub.execute_input": "2022-11-26T22:33:34.943220Z",
     "iopub.status.busy": "2022-11-26T22:33:34.942819Z",
     "iopub.status.idle": "2022-11-26T22:33:34.950644Z",
     "shell.execute_reply": "2022-11-26T22:33:34.949711Z"
    },
    "papermill": {
     "duration": 0.05307,
     "end_time": "2022-11-26T22:33:34.953546",
     "exception": false,
     "start_time": "2022-11-26T22:33:34.900476",
     "status": "completed"
    },
    "tags": []
   },
   "outputs": [],
   "source": [
    "titles = {\"Officer\":0, \"Royalty\":1,  \"Mr\":2, \"Mrs\":3, \"Miss\":4, \"Master\":5}\n",
    "\n",
    "df['Title'] = df['Title'].map(titles)"
   ]
  },
  {
   "cell_type": "code",
   "execution_count": 34,
   "id": "d25bebb5",
   "metadata": {
    "execution": {
     "iopub.execute_input": "2022-11-26T22:33:35.034687Z",
     "iopub.status.busy": "2022-11-26T22:33:35.034120Z",
     "iopub.status.idle": "2022-11-26T22:33:35.047950Z",
     "shell.execute_reply": "2022-11-26T22:33:35.046203Z"
    },
    "papermill": {
     "duration": 0.059811,
     "end_time": "2022-11-26T22:33:35.051555",
     "exception": false,
     "start_time": "2022-11-26T22:33:34.991744",
     "status": "completed"
    },
    "tags": []
   },
   "outputs": [
    {
     "data": {
      "text/plain": [
       "PassengerId       0\n",
       "Survived        418\n",
       "Pclass            0\n",
       "Name              0\n",
       "Sex               0\n",
       "Age               0\n",
       "SibSp             0\n",
       "Parch             0\n",
       "Ticket            0\n",
       "Fare              0\n",
       "Cabin          1014\n",
       "Embarked          0\n",
       "Died            418\n",
       "Title             0\n",
       "dtype: int64"
      ]
     },
     "execution_count": 34,
     "metadata": {},
     "output_type": "execute_result"
    }
   ],
   "source": [
    "df.isnull().sum()"
   ]
  },
  {
   "cell_type": "code",
   "execution_count": 35,
   "id": "7a704336",
   "metadata": {
    "execution": {
     "iopub.execute_input": "2022-11-26T22:33:35.125801Z",
     "iopub.status.busy": "2022-11-26T22:33:35.125069Z",
     "iopub.status.idle": "2022-11-26T22:33:35.152376Z",
     "shell.execute_reply": "2022-11-26T22:33:35.150985Z"
    },
    "papermill": {
     "duration": 0.066946,
     "end_time": "2022-11-26T22:33:35.155288",
     "exception": false,
     "start_time": "2022-11-26T22:33:35.088342",
     "status": "completed"
    },
    "tags": []
   },
   "outputs": [
    {
     "data": {
      "text/html": [
       "<div>\n",
       "<style scoped>\n",
       "    .dataframe tbody tr th:only-of-type {\n",
       "        vertical-align: middle;\n",
       "    }\n",
       "\n",
       "    .dataframe tbody tr th {\n",
       "        vertical-align: top;\n",
       "    }\n",
       "\n",
       "    .dataframe thead th {\n",
       "        text-align: right;\n",
       "    }\n",
       "</style>\n",
       "<table border=\"1\" class=\"dataframe\">\n",
       "  <thead>\n",
       "    <tr style=\"text-align: right;\">\n",
       "      <th></th>\n",
       "      <th>PassengerId</th>\n",
       "      <th>Survived</th>\n",
       "      <th>Pclass</th>\n",
       "      <th>Name</th>\n",
       "      <th>Sex</th>\n",
       "      <th>Age</th>\n",
       "      <th>SibSp</th>\n",
       "      <th>Parch</th>\n",
       "      <th>Ticket</th>\n",
       "      <th>Fare</th>\n",
       "      <th>Cabin</th>\n",
       "      <th>Embarked</th>\n",
       "      <th>Died</th>\n",
       "      <th>Title</th>\n",
       "    </tr>\n",
       "  </thead>\n",
       "  <tbody>\n",
       "    <tr>\n",
       "      <th>0</th>\n",
       "      <td>1</td>\n",
       "      <td>0.0</td>\n",
       "      <td>3</td>\n",
       "      <td>Braund, Mr. Owen Harris</td>\n",
       "      <td>male</td>\n",
       "      <td>22.0</td>\n",
       "      <td>1</td>\n",
       "      <td>0</td>\n",
       "      <td>A/5 21171</td>\n",
       "      <td>7.2500</td>\n",
       "      <td>NaN</td>\n",
       "      <td>S</td>\n",
       "      <td>1.0</td>\n",
       "      <td>2</td>\n",
       "    </tr>\n",
       "    <tr>\n",
       "      <th>1</th>\n",
       "      <td>2</td>\n",
       "      <td>1.0</td>\n",
       "      <td>1</td>\n",
       "      <td>Cumings, Mrs. John Bradley (Florence Briggs Th...</td>\n",
       "      <td>female</td>\n",
       "      <td>38.0</td>\n",
       "      <td>1</td>\n",
       "      <td>0</td>\n",
       "      <td>PC 17599</td>\n",
       "      <td>71.2833</td>\n",
       "      <td>C85</td>\n",
       "      <td>C</td>\n",
       "      <td>0.0</td>\n",
       "      <td>3</td>\n",
       "    </tr>\n",
       "    <tr>\n",
       "      <th>2</th>\n",
       "      <td>3</td>\n",
       "      <td>1.0</td>\n",
       "      <td>3</td>\n",
       "      <td>Heikkinen, Miss. Laina</td>\n",
       "      <td>female</td>\n",
       "      <td>26.0</td>\n",
       "      <td>0</td>\n",
       "      <td>0</td>\n",
       "      <td>STON/O2. 3101282</td>\n",
       "      <td>7.9250</td>\n",
       "      <td>NaN</td>\n",
       "      <td>S</td>\n",
       "      <td>0.0</td>\n",
       "      <td>4</td>\n",
       "    </tr>\n",
       "    <tr>\n",
       "      <th>3</th>\n",
       "      <td>4</td>\n",
       "      <td>1.0</td>\n",
       "      <td>1</td>\n",
       "      <td>Futrelle, Mrs. Jacques Heath (Lily May Peel)</td>\n",
       "      <td>female</td>\n",
       "      <td>35.0</td>\n",
       "      <td>1</td>\n",
       "      <td>0</td>\n",
       "      <td>113803</td>\n",
       "      <td>53.1000</td>\n",
       "      <td>C123</td>\n",
       "      <td>S</td>\n",
       "      <td>0.0</td>\n",
       "      <td>3</td>\n",
       "    </tr>\n",
       "    <tr>\n",
       "      <th>4</th>\n",
       "      <td>5</td>\n",
       "      <td>0.0</td>\n",
       "      <td>3</td>\n",
       "      <td>Allen, Mr. William Henry</td>\n",
       "      <td>male</td>\n",
       "      <td>35.0</td>\n",
       "      <td>0</td>\n",
       "      <td>0</td>\n",
       "      <td>373450</td>\n",
       "      <td>8.0500</td>\n",
       "      <td>NaN</td>\n",
       "      <td>S</td>\n",
       "      <td>1.0</td>\n",
       "      <td>2</td>\n",
       "    </tr>\n",
       "  </tbody>\n",
       "</table>\n",
       "</div>"
      ],
      "text/plain": [
       "   PassengerId  Survived  Pclass  \\\n",
       "0            1       0.0       3   \n",
       "1            2       1.0       1   \n",
       "2            3       1.0       3   \n",
       "3            4       1.0       1   \n",
       "4            5       0.0       3   \n",
       "\n",
       "                                                Name     Sex   Age  SibSp  \\\n",
       "0                            Braund, Mr. Owen Harris    male  22.0      1   \n",
       "1  Cumings, Mrs. John Bradley (Florence Briggs Th...  female  38.0      1   \n",
       "2                             Heikkinen, Miss. Laina  female  26.0      0   \n",
       "3       Futrelle, Mrs. Jacques Heath (Lily May Peel)  female  35.0      1   \n",
       "4                           Allen, Mr. William Henry    male  35.0      0   \n",
       "\n",
       "   Parch            Ticket     Fare Cabin Embarked  Died  Title  \n",
       "0      0         A/5 21171   7.2500   NaN        S   1.0      2  \n",
       "1      0          PC 17599  71.2833   C85        C   0.0      3  \n",
       "2      0  STON/O2. 3101282   7.9250   NaN        S   0.0      4  \n",
       "3      0            113803  53.1000  C123        S   0.0      3  \n",
       "4      0            373450   8.0500   NaN        S   1.0      2  "
      ]
     },
     "execution_count": 35,
     "metadata": {},
     "output_type": "execute_result"
    }
   ],
   "source": [
    "df.head()"
   ]
  },
  {
   "cell_type": "code",
   "execution_count": 36,
   "id": "9ac5d9da",
   "metadata": {
    "execution": {
     "iopub.execute_input": "2022-11-26T22:33:35.231459Z",
     "iopub.status.busy": "2022-11-26T22:33:35.230801Z",
     "iopub.status.idle": "2022-11-26T22:33:35.238470Z",
     "shell.execute_reply": "2022-11-26T22:33:35.237208Z"
    },
    "papermill": {
     "duration": 0.047884,
     "end_time": "2022-11-26T22:33:35.241200",
     "exception": false,
     "start_time": "2022-11-26T22:33:35.193316",
     "status": "completed"
    },
    "tags": []
   },
   "outputs": [],
   "source": [
    "df['Family_size']=df['Parch']+df['SibSp']+1"
   ]
  },
  {
   "cell_type": "code",
   "execution_count": 37,
   "id": "f1d1daf7",
   "metadata": {
    "execution": {
     "iopub.execute_input": "2022-11-26T22:33:35.321975Z",
     "iopub.status.busy": "2022-11-26T22:33:35.321220Z",
     "iopub.status.idle": "2022-11-26T22:33:35.330077Z",
     "shell.execute_reply": "2022-11-26T22:33:35.328891Z"
    },
    "papermill": {
     "duration": 0.05427,
     "end_time": "2022-11-26T22:33:35.333046",
     "exception": false,
     "start_time": "2022-11-26T22:33:35.278776",
     "status": "completed"
    },
    "tags": []
   },
   "outputs": [
    {
     "data": {
      "text/plain": [
       "1     790\n",
       "2     235\n",
       "3     159\n",
       "4      43\n",
       "6      25\n",
       "5      22\n",
       "7      16\n",
       "11     11\n",
       "8       8\n",
       "Name: Family_size, dtype: int64"
      ]
     },
     "execution_count": 37,
     "metadata": {},
     "output_type": "execute_result"
    }
   ],
   "source": [
    "df['Family_size'].value_counts()"
   ]
  },
  {
   "cell_type": "code",
   "execution_count": 38,
   "id": "c853cd05",
   "metadata": {
    "execution": {
     "iopub.execute_input": "2022-11-26T22:33:35.410197Z",
     "iopub.status.busy": "2022-11-26T22:33:35.408878Z",
     "iopub.status.idle": "2022-11-26T22:33:35.423457Z",
     "shell.execute_reply": "2022-11-26T22:33:35.421973Z"
    },
    "papermill": {
     "duration": 0.055085,
     "end_time": "2022-11-26T22:33:35.426568",
     "exception": false,
     "start_time": "2022-11-26T22:33:35.371483",
     "status": "completed"
    },
    "tags": []
   },
   "outputs": [],
   "source": [
    "# introducing other features based on the family size\n",
    "df['Singleton'] = df['Family_size'].map(lambda s: 1 if s == 1 else 0)\n",
    "df['SmallFamily'] = df['Family_size'].map(lambda s: 1 if 2<=s<=3 else 0)\n",
    "df['Mid_Sized_Family'] = df['Family_size'].map(lambda s: 1 if 4<=s<=6 else 0)\n",
    "df['LargeFamily'] = df['Family_size'].map(lambda s: 1 if 7<=s else 0)"
   ]
  },
  {
   "cell_type": "code",
   "execution_count": 39,
   "id": "1945dd18",
   "metadata": {
    "execution": {
     "iopub.execute_input": "2022-11-26T22:33:35.505457Z",
     "iopub.status.busy": "2022-11-26T22:33:35.504616Z",
     "iopub.status.idle": "2022-11-26T22:33:35.512995Z",
     "shell.execute_reply": "2022-11-26T22:33:35.511737Z"
    },
    "papermill": {
     "duration": 0.05141,
     "end_time": "2022-11-26T22:33:35.515902",
     "exception": false,
     "start_time": "2022-11-26T22:33:35.464492",
     "status": "completed"
    },
    "tags": []
   },
   "outputs": [],
   "source": [
    "ports={'S':0,'C':1,'Q':2}\n",
    "# for data in df:\n",
    "df['Embark']=df['Embarked'].map(ports)"
   ]
  },
  {
   "cell_type": "code",
   "execution_count": 40,
   "id": "5b26bcc7",
   "metadata": {
    "execution": {
     "iopub.execute_input": "2022-11-26T22:33:35.593968Z",
     "iopub.status.busy": "2022-11-26T22:33:35.593409Z",
     "iopub.status.idle": "2022-11-26T22:33:35.601829Z",
     "shell.execute_reply": "2022-11-26T22:33:35.600489Z"
    },
    "papermill": {
     "duration": 0.050599,
     "end_time": "2022-11-26T22:33:35.604420",
     "exception": false,
     "start_time": "2022-11-26T22:33:35.553821",
     "status": "completed"
    },
    "tags": []
   },
   "outputs": [],
   "source": [
    "df['Sex'] = df['Sex'].apply(lambda x:0 if x=='female' else 1)"
   ]
  },
  {
   "cell_type": "code",
   "execution_count": 41,
   "id": "79a8fc6e",
   "metadata": {
    "execution": {
     "iopub.execute_input": "2022-11-26T22:33:35.679880Z",
     "iopub.status.busy": "2022-11-26T22:33:35.679409Z",
     "iopub.status.idle": "2022-11-26T22:33:35.703892Z",
     "shell.execute_reply": "2022-11-26T22:33:35.702738Z"
    },
    "papermill": {
     "duration": 0.065466,
     "end_time": "2022-11-26T22:33:35.706415",
     "exception": false,
     "start_time": "2022-11-26T22:33:35.640949",
     "status": "completed"
    },
    "tags": []
   },
   "outputs": [
    {
     "data": {
      "text/html": [
       "<div>\n",
       "<style scoped>\n",
       "    .dataframe tbody tr th:only-of-type {\n",
       "        vertical-align: middle;\n",
       "    }\n",
       "\n",
       "    .dataframe tbody tr th {\n",
       "        vertical-align: top;\n",
       "    }\n",
       "\n",
       "    .dataframe thead th {\n",
       "        text-align: right;\n",
       "    }\n",
       "</style>\n",
       "<table border=\"1\" class=\"dataframe\">\n",
       "  <thead>\n",
       "    <tr style=\"text-align: right;\">\n",
       "      <th></th>\n",
       "      <th>PassengerId</th>\n",
       "      <th>Survived</th>\n",
       "      <th>Pclass</th>\n",
       "      <th>Name</th>\n",
       "      <th>Sex</th>\n",
       "      <th>Age</th>\n",
       "      <th>SibSp</th>\n",
       "      <th>Parch</th>\n",
       "      <th>Ticket</th>\n",
       "      <th>Fare</th>\n",
       "      <th>Cabin</th>\n",
       "      <th>Embarked</th>\n",
       "      <th>Died</th>\n",
       "      <th>Title</th>\n",
       "      <th>Family_size</th>\n",
       "      <th>Singleton</th>\n",
       "      <th>SmallFamily</th>\n",
       "      <th>Mid_Sized_Family</th>\n",
       "      <th>LargeFamily</th>\n",
       "      <th>Embark</th>\n",
       "    </tr>\n",
       "  </thead>\n",
       "  <tbody>\n",
       "    <tr>\n",
       "      <th>0</th>\n",
       "      <td>1</td>\n",
       "      <td>0.0</td>\n",
       "      <td>3</td>\n",
       "      <td>Braund, Mr. Owen Harris</td>\n",
       "      <td>1</td>\n",
       "      <td>22.0</td>\n",
       "      <td>1</td>\n",
       "      <td>0</td>\n",
       "      <td>A/5 21171</td>\n",
       "      <td>7.2500</td>\n",
       "      <td>NaN</td>\n",
       "      <td>S</td>\n",
       "      <td>1.0</td>\n",
       "      <td>2</td>\n",
       "      <td>2</td>\n",
       "      <td>0</td>\n",
       "      <td>1</td>\n",
       "      <td>0</td>\n",
       "      <td>0</td>\n",
       "      <td>0</td>\n",
       "    </tr>\n",
       "    <tr>\n",
       "      <th>1</th>\n",
       "      <td>2</td>\n",
       "      <td>1.0</td>\n",
       "      <td>1</td>\n",
       "      <td>Cumings, Mrs. John Bradley (Florence Briggs Th...</td>\n",
       "      <td>0</td>\n",
       "      <td>38.0</td>\n",
       "      <td>1</td>\n",
       "      <td>0</td>\n",
       "      <td>PC 17599</td>\n",
       "      <td>71.2833</td>\n",
       "      <td>C85</td>\n",
       "      <td>C</td>\n",
       "      <td>0.0</td>\n",
       "      <td>3</td>\n",
       "      <td>2</td>\n",
       "      <td>0</td>\n",
       "      <td>1</td>\n",
       "      <td>0</td>\n",
       "      <td>0</td>\n",
       "      <td>1</td>\n",
       "    </tr>\n",
       "    <tr>\n",
       "      <th>2</th>\n",
       "      <td>3</td>\n",
       "      <td>1.0</td>\n",
       "      <td>3</td>\n",
       "      <td>Heikkinen, Miss. Laina</td>\n",
       "      <td>0</td>\n",
       "      <td>26.0</td>\n",
       "      <td>0</td>\n",
       "      <td>0</td>\n",
       "      <td>STON/O2. 3101282</td>\n",
       "      <td>7.9250</td>\n",
       "      <td>NaN</td>\n",
       "      <td>S</td>\n",
       "      <td>0.0</td>\n",
       "      <td>4</td>\n",
       "      <td>1</td>\n",
       "      <td>1</td>\n",
       "      <td>0</td>\n",
       "      <td>0</td>\n",
       "      <td>0</td>\n",
       "      <td>0</td>\n",
       "    </tr>\n",
       "    <tr>\n",
       "      <th>3</th>\n",
       "      <td>4</td>\n",
       "      <td>1.0</td>\n",
       "      <td>1</td>\n",
       "      <td>Futrelle, Mrs. Jacques Heath (Lily May Peel)</td>\n",
       "      <td>0</td>\n",
       "      <td>35.0</td>\n",
       "      <td>1</td>\n",
       "      <td>0</td>\n",
       "      <td>113803</td>\n",
       "      <td>53.1000</td>\n",
       "      <td>C123</td>\n",
       "      <td>S</td>\n",
       "      <td>0.0</td>\n",
       "      <td>3</td>\n",
       "      <td>2</td>\n",
       "      <td>0</td>\n",
       "      <td>1</td>\n",
       "      <td>0</td>\n",
       "      <td>0</td>\n",
       "      <td>0</td>\n",
       "    </tr>\n",
       "    <tr>\n",
       "      <th>4</th>\n",
       "      <td>5</td>\n",
       "      <td>0.0</td>\n",
       "      <td>3</td>\n",
       "      <td>Allen, Mr. William Henry</td>\n",
       "      <td>1</td>\n",
       "      <td>35.0</td>\n",
       "      <td>0</td>\n",
       "      <td>0</td>\n",
       "      <td>373450</td>\n",
       "      <td>8.0500</td>\n",
       "      <td>NaN</td>\n",
       "      <td>S</td>\n",
       "      <td>1.0</td>\n",
       "      <td>2</td>\n",
       "      <td>1</td>\n",
       "      <td>1</td>\n",
       "      <td>0</td>\n",
       "      <td>0</td>\n",
       "      <td>0</td>\n",
       "      <td>0</td>\n",
       "    </tr>\n",
       "  </tbody>\n",
       "</table>\n",
       "</div>"
      ],
      "text/plain": [
       "   PassengerId  Survived  Pclass  \\\n",
       "0            1       0.0       3   \n",
       "1            2       1.0       1   \n",
       "2            3       1.0       3   \n",
       "3            4       1.0       1   \n",
       "4            5       0.0       3   \n",
       "\n",
       "                                                Name  Sex   Age  SibSp  Parch  \\\n",
       "0                            Braund, Mr. Owen Harris    1  22.0      1      0   \n",
       "1  Cumings, Mrs. John Bradley (Florence Briggs Th...    0  38.0      1      0   \n",
       "2                             Heikkinen, Miss. Laina    0  26.0      0      0   \n",
       "3       Futrelle, Mrs. Jacques Heath (Lily May Peel)    0  35.0      1      0   \n",
       "4                           Allen, Mr. William Henry    1  35.0      0      0   \n",
       "\n",
       "             Ticket     Fare Cabin Embarked  Died  Title  Family_size  \\\n",
       "0         A/5 21171   7.2500   NaN        S   1.0      2            2   \n",
       "1          PC 17599  71.2833   C85        C   0.0      3            2   \n",
       "2  STON/O2. 3101282   7.9250   NaN        S   0.0      4            1   \n",
       "3            113803  53.1000  C123        S   0.0      3            2   \n",
       "4            373450   8.0500   NaN        S   1.0      2            1   \n",
       "\n",
       "   Singleton  SmallFamily  Mid_Sized_Family  LargeFamily  Embark  \n",
       "0          0            1                 0            0       0  \n",
       "1          0            1                 0            0       1  \n",
       "2          1            0                 0            0       0  \n",
       "3          0            1                 0            0       0  \n",
       "4          1            0                 0            0       0  "
      ]
     },
     "execution_count": 41,
     "metadata": {},
     "output_type": "execute_result"
    }
   ],
   "source": [
    "df.head()"
   ]
  },
  {
   "cell_type": "code",
   "execution_count": 42,
   "id": "266d2797",
   "metadata": {
    "execution": {
     "iopub.execute_input": "2022-11-26T22:33:35.787729Z",
     "iopub.status.busy": "2022-11-26T22:33:35.786724Z",
     "iopub.status.idle": "2022-11-26T22:33:35.814437Z",
     "shell.execute_reply": "2022-11-26T22:33:35.813149Z"
    },
    "papermill": {
     "duration": 0.073409,
     "end_time": "2022-11-26T22:33:35.818520",
     "exception": false,
     "start_time": "2022-11-26T22:33:35.745111",
     "status": "completed"
    },
    "tags": []
   },
   "outputs": [
    {
     "data": {
      "text/html": [
       "<div>\n",
       "<style scoped>\n",
       "    .dataframe tbody tr th:only-of-type {\n",
       "        vertical-align: middle;\n",
       "    }\n",
       "\n",
       "    .dataframe tbody tr th {\n",
       "        vertical-align: top;\n",
       "    }\n",
       "\n",
       "    .dataframe thead th {\n",
       "        text-align: right;\n",
       "    }\n",
       "</style>\n",
       "<table border=\"1\" class=\"dataframe\">\n",
       "  <thead>\n",
       "    <tr style=\"text-align: right;\">\n",
       "      <th></th>\n",
       "      <th>PassengerId</th>\n",
       "      <th>Survived</th>\n",
       "      <th>Pclass</th>\n",
       "      <th>Name</th>\n",
       "      <th>Sex</th>\n",
       "      <th>Age</th>\n",
       "      <th>SibSp</th>\n",
       "      <th>Parch</th>\n",
       "      <th>Ticket</th>\n",
       "      <th>Fare</th>\n",
       "      <th>Cabin</th>\n",
       "      <th>Embarked</th>\n",
       "      <th>Died</th>\n",
       "      <th>Title</th>\n",
       "      <th>Family_size</th>\n",
       "      <th>Singleton</th>\n",
       "      <th>SmallFamily</th>\n",
       "      <th>Mid_Sized_Family</th>\n",
       "      <th>LargeFamily</th>\n",
       "      <th>Embark</th>\n",
       "    </tr>\n",
       "  </thead>\n",
       "  <tbody>\n",
       "    <tr>\n",
       "      <th>0</th>\n",
       "      <td>1</td>\n",
       "      <td>0.0</td>\n",
       "      <td>3</td>\n",
       "      <td>Braund, Mr. Owen Harris</td>\n",
       "      <td>1</td>\n",
       "      <td>22.0</td>\n",
       "      <td>1</td>\n",
       "      <td>0</td>\n",
       "      <td>A/5 21171</td>\n",
       "      <td>7.2500</td>\n",
       "      <td>NaN</td>\n",
       "      <td>S</td>\n",
       "      <td>1.0</td>\n",
       "      <td>2</td>\n",
       "      <td>2</td>\n",
       "      <td>0</td>\n",
       "      <td>1</td>\n",
       "      <td>0</td>\n",
       "      <td>0</td>\n",
       "      <td>0</td>\n",
       "    </tr>\n",
       "    <tr>\n",
       "      <th>1</th>\n",
       "      <td>2</td>\n",
       "      <td>1.0</td>\n",
       "      <td>1</td>\n",
       "      <td>Cumings, Mrs. John Bradley (Florence Briggs Th...</td>\n",
       "      <td>0</td>\n",
       "      <td>38.0</td>\n",
       "      <td>1</td>\n",
       "      <td>0</td>\n",
       "      <td>PC 17599</td>\n",
       "      <td>71.2833</td>\n",
       "      <td>C85</td>\n",
       "      <td>C</td>\n",
       "      <td>0.0</td>\n",
       "      <td>3</td>\n",
       "      <td>2</td>\n",
       "      <td>0</td>\n",
       "      <td>1</td>\n",
       "      <td>0</td>\n",
       "      <td>0</td>\n",
       "      <td>1</td>\n",
       "    </tr>\n",
       "    <tr>\n",
       "      <th>2</th>\n",
       "      <td>3</td>\n",
       "      <td>1.0</td>\n",
       "      <td>3</td>\n",
       "      <td>Heikkinen, Miss. Laina</td>\n",
       "      <td>0</td>\n",
       "      <td>26.0</td>\n",
       "      <td>0</td>\n",
       "      <td>0</td>\n",
       "      <td>STON/O2. 3101282</td>\n",
       "      <td>7.9250</td>\n",
       "      <td>NaN</td>\n",
       "      <td>S</td>\n",
       "      <td>0.0</td>\n",
       "      <td>4</td>\n",
       "      <td>1</td>\n",
       "      <td>1</td>\n",
       "      <td>0</td>\n",
       "      <td>0</td>\n",
       "      <td>0</td>\n",
       "      <td>0</td>\n",
       "    </tr>\n",
       "    <tr>\n",
       "      <th>3</th>\n",
       "      <td>4</td>\n",
       "      <td>1.0</td>\n",
       "      <td>1</td>\n",
       "      <td>Futrelle, Mrs. Jacques Heath (Lily May Peel)</td>\n",
       "      <td>0</td>\n",
       "      <td>35.0</td>\n",
       "      <td>1</td>\n",
       "      <td>0</td>\n",
       "      <td>113803</td>\n",
       "      <td>53.1000</td>\n",
       "      <td>C123</td>\n",
       "      <td>S</td>\n",
       "      <td>0.0</td>\n",
       "      <td>3</td>\n",
       "      <td>2</td>\n",
       "      <td>0</td>\n",
       "      <td>1</td>\n",
       "      <td>0</td>\n",
       "      <td>0</td>\n",
       "      <td>0</td>\n",
       "    </tr>\n",
       "    <tr>\n",
       "      <th>4</th>\n",
       "      <td>5</td>\n",
       "      <td>0.0</td>\n",
       "      <td>3</td>\n",
       "      <td>Allen, Mr. William Henry</td>\n",
       "      <td>1</td>\n",
       "      <td>35.0</td>\n",
       "      <td>0</td>\n",
       "      <td>0</td>\n",
       "      <td>373450</td>\n",
       "      <td>8.0500</td>\n",
       "      <td>NaN</td>\n",
       "      <td>S</td>\n",
       "      <td>1.0</td>\n",
       "      <td>2</td>\n",
       "      <td>1</td>\n",
       "      <td>1</td>\n",
       "      <td>0</td>\n",
       "      <td>0</td>\n",
       "      <td>0</td>\n",
       "      <td>0</td>\n",
       "    </tr>\n",
       "  </tbody>\n",
       "</table>\n",
       "</div>"
      ],
      "text/plain": [
       "   PassengerId  Survived  Pclass  \\\n",
       "0            1       0.0       3   \n",
       "1            2       1.0       1   \n",
       "2            3       1.0       3   \n",
       "3            4       1.0       1   \n",
       "4            5       0.0       3   \n",
       "\n",
       "                                                Name  Sex   Age  SibSp  Parch  \\\n",
       "0                            Braund, Mr. Owen Harris    1  22.0      1      0   \n",
       "1  Cumings, Mrs. John Bradley (Florence Briggs Th...    0  38.0      1      0   \n",
       "2                             Heikkinen, Miss. Laina    0  26.0      0      0   \n",
       "3       Futrelle, Mrs. Jacques Heath (Lily May Peel)    0  35.0      1      0   \n",
       "4                           Allen, Mr. William Henry    1  35.0      0      0   \n",
       "\n",
       "             Ticket     Fare Cabin Embarked  Died  Title  Family_size  \\\n",
       "0         A/5 21171   7.2500   NaN        S   1.0      2            2   \n",
       "1          PC 17599  71.2833   C85        C   0.0      3            2   \n",
       "2  STON/O2. 3101282   7.9250   NaN        S   0.0      4            1   \n",
       "3            113803  53.1000  C123        S   0.0      3            2   \n",
       "4            373450   8.0500   NaN        S   1.0      2            1   \n",
       "\n",
       "   Singleton  SmallFamily  Mid_Sized_Family  LargeFamily  Embark  \n",
       "0          0            1                 0            0       0  \n",
       "1          0            1                 0            0       1  \n",
       "2          1            0                 0            0       0  \n",
       "3          0            1                 0            0       0  \n",
       "4          1            0                 0            0       0  "
      ]
     },
     "execution_count": 42,
     "metadata": {},
     "output_type": "execute_result"
    }
   ],
   "source": [
    "df.head()"
   ]
  },
  {
   "cell_type": "code",
   "execution_count": 43,
   "id": "ca5fe090",
   "metadata": {
    "execution": {
     "iopub.execute_input": "2022-11-26T22:33:35.910700Z",
     "iopub.status.busy": "2022-11-26T22:33:35.909524Z",
     "iopub.status.idle": "2022-11-26T22:33:35.937481Z",
     "shell.execute_reply": "2022-11-26T22:33:35.936129Z"
    },
    "papermill": {
     "duration": 0.075681,
     "end_time": "2022-11-26T22:33:35.940670",
     "exception": false,
     "start_time": "2022-11-26T22:33:35.864989",
     "status": "completed"
    },
    "tags": []
   },
   "outputs": [],
   "source": [
    "object_cols = ['Embark', 'Pclass']\n",
    "\n",
    "# encoding in dummy variable\n",
    "Embark_dummies = pd.get_dummies(df['Embark'], prefix='Embark')\n",
    "df = pd.concat([df, Embark_dummies], axis=1)\n",
    "    \n",
    "# removing the embark variable\n",
    "df.drop('Embark', axis=1, inplace=True)\n",
    "\n",
    "\n",
    "# encoding in dummy variable\n",
    "Pclass_dummies = pd.get_dummies(df['Pclass'], prefix='Pclass')\n",
    "df = pd.concat([df, Pclass_dummies], axis=1)\n",
    "    \n",
    "# removing the pclass variable\n",
    "df.drop('Pclass', axis=1, inplace=True)\n",
    "\n",
    "\n",
    "\n",
    "# encoding in dummy variable\n",
    "Pclass_dummies = pd.get_dummies(df['Title'], prefix='Title')\n",
    "df = pd.concat([df, Pclass_dummies], axis=1)\n",
    "    \n",
    "# removing the pclass variable\n",
    "df.drop('Title', axis=1, inplace=True)"
   ]
  },
  {
   "cell_type": "code",
   "execution_count": 44,
   "id": "829b354f",
   "metadata": {
    "execution": {
     "iopub.execute_input": "2022-11-26T22:33:36.017281Z",
     "iopub.status.busy": "2022-11-26T22:33:36.016808Z",
     "iopub.status.idle": "2022-11-26T22:33:36.044292Z",
     "shell.execute_reply": "2022-11-26T22:33:36.042742Z"
    },
    "papermill": {
     "duration": 0.070433,
     "end_time": "2022-11-26T22:33:36.047880",
     "exception": false,
     "start_time": "2022-11-26T22:33:35.977447",
     "status": "completed"
    },
    "tags": []
   },
   "outputs": [
    {
     "data": {
      "text/html": [
       "<div>\n",
       "<style scoped>\n",
       "    .dataframe tbody tr th:only-of-type {\n",
       "        vertical-align: middle;\n",
       "    }\n",
       "\n",
       "    .dataframe tbody tr th {\n",
       "        vertical-align: top;\n",
       "    }\n",
       "\n",
       "    .dataframe thead th {\n",
       "        text-align: right;\n",
       "    }\n",
       "</style>\n",
       "<table border=\"1\" class=\"dataframe\">\n",
       "  <thead>\n",
       "    <tr style=\"text-align: right;\">\n",
       "      <th></th>\n",
       "      <th>PassengerId</th>\n",
       "      <th>Survived</th>\n",
       "      <th>Name</th>\n",
       "      <th>Sex</th>\n",
       "      <th>Age</th>\n",
       "      <th>SibSp</th>\n",
       "      <th>Parch</th>\n",
       "      <th>Ticket</th>\n",
       "      <th>Fare</th>\n",
       "      <th>Cabin</th>\n",
       "      <th>...</th>\n",
       "      <th>Embark_2</th>\n",
       "      <th>Pclass_1</th>\n",
       "      <th>Pclass_2</th>\n",
       "      <th>Pclass_3</th>\n",
       "      <th>Title_0</th>\n",
       "      <th>Title_1</th>\n",
       "      <th>Title_2</th>\n",
       "      <th>Title_3</th>\n",
       "      <th>Title_4</th>\n",
       "      <th>Title_5</th>\n",
       "    </tr>\n",
       "  </thead>\n",
       "  <tbody>\n",
       "    <tr>\n",
       "      <th>0</th>\n",
       "      <td>1</td>\n",
       "      <td>0.0</td>\n",
       "      <td>Braund, Mr. Owen Harris</td>\n",
       "      <td>1</td>\n",
       "      <td>22.0</td>\n",
       "      <td>1</td>\n",
       "      <td>0</td>\n",
       "      <td>A/5 21171</td>\n",
       "      <td>7.2500</td>\n",
       "      <td>NaN</td>\n",
       "      <td>...</td>\n",
       "      <td>0</td>\n",
       "      <td>0</td>\n",
       "      <td>0</td>\n",
       "      <td>1</td>\n",
       "      <td>0</td>\n",
       "      <td>0</td>\n",
       "      <td>1</td>\n",
       "      <td>0</td>\n",
       "      <td>0</td>\n",
       "      <td>0</td>\n",
       "    </tr>\n",
       "    <tr>\n",
       "      <th>1</th>\n",
       "      <td>2</td>\n",
       "      <td>1.0</td>\n",
       "      <td>Cumings, Mrs. John Bradley (Florence Briggs Th...</td>\n",
       "      <td>0</td>\n",
       "      <td>38.0</td>\n",
       "      <td>1</td>\n",
       "      <td>0</td>\n",
       "      <td>PC 17599</td>\n",
       "      <td>71.2833</td>\n",
       "      <td>C85</td>\n",
       "      <td>...</td>\n",
       "      <td>0</td>\n",
       "      <td>1</td>\n",
       "      <td>0</td>\n",
       "      <td>0</td>\n",
       "      <td>0</td>\n",
       "      <td>0</td>\n",
       "      <td>0</td>\n",
       "      <td>1</td>\n",
       "      <td>0</td>\n",
       "      <td>0</td>\n",
       "    </tr>\n",
       "    <tr>\n",
       "      <th>2</th>\n",
       "      <td>3</td>\n",
       "      <td>1.0</td>\n",
       "      <td>Heikkinen, Miss. Laina</td>\n",
       "      <td>0</td>\n",
       "      <td>26.0</td>\n",
       "      <td>0</td>\n",
       "      <td>0</td>\n",
       "      <td>STON/O2. 3101282</td>\n",
       "      <td>7.9250</td>\n",
       "      <td>NaN</td>\n",
       "      <td>...</td>\n",
       "      <td>0</td>\n",
       "      <td>0</td>\n",
       "      <td>0</td>\n",
       "      <td>1</td>\n",
       "      <td>0</td>\n",
       "      <td>0</td>\n",
       "      <td>0</td>\n",
       "      <td>0</td>\n",
       "      <td>1</td>\n",
       "      <td>0</td>\n",
       "    </tr>\n",
       "    <tr>\n",
       "      <th>3</th>\n",
       "      <td>4</td>\n",
       "      <td>1.0</td>\n",
       "      <td>Futrelle, Mrs. Jacques Heath (Lily May Peel)</td>\n",
       "      <td>0</td>\n",
       "      <td>35.0</td>\n",
       "      <td>1</td>\n",
       "      <td>0</td>\n",
       "      <td>113803</td>\n",
       "      <td>53.1000</td>\n",
       "      <td>C123</td>\n",
       "      <td>...</td>\n",
       "      <td>0</td>\n",
       "      <td>1</td>\n",
       "      <td>0</td>\n",
       "      <td>0</td>\n",
       "      <td>0</td>\n",
       "      <td>0</td>\n",
       "      <td>0</td>\n",
       "      <td>1</td>\n",
       "      <td>0</td>\n",
       "      <td>0</td>\n",
       "    </tr>\n",
       "    <tr>\n",
       "      <th>4</th>\n",
       "      <td>5</td>\n",
       "      <td>0.0</td>\n",
       "      <td>Allen, Mr. William Henry</td>\n",
       "      <td>1</td>\n",
       "      <td>35.0</td>\n",
       "      <td>0</td>\n",
       "      <td>0</td>\n",
       "      <td>373450</td>\n",
       "      <td>8.0500</td>\n",
       "      <td>NaN</td>\n",
       "      <td>...</td>\n",
       "      <td>0</td>\n",
       "      <td>0</td>\n",
       "      <td>0</td>\n",
       "      <td>1</td>\n",
       "      <td>0</td>\n",
       "      <td>0</td>\n",
       "      <td>1</td>\n",
       "      <td>0</td>\n",
       "      <td>0</td>\n",
       "      <td>0</td>\n",
       "    </tr>\n",
       "  </tbody>\n",
       "</table>\n",
       "<p>5 rows × 29 columns</p>\n",
       "</div>"
      ],
      "text/plain": [
       "   PassengerId  Survived                                               Name  \\\n",
       "0            1       0.0                            Braund, Mr. Owen Harris   \n",
       "1            2       1.0  Cumings, Mrs. John Bradley (Florence Briggs Th...   \n",
       "2            3       1.0                             Heikkinen, Miss. Laina   \n",
       "3            4       1.0       Futrelle, Mrs. Jacques Heath (Lily May Peel)   \n",
       "4            5       0.0                           Allen, Mr. William Henry   \n",
       "\n",
       "   Sex   Age  SibSp  Parch            Ticket     Fare Cabin  ... Embark_2  \\\n",
       "0    1  22.0      1      0         A/5 21171   7.2500   NaN  ...        0   \n",
       "1    0  38.0      1      0          PC 17599  71.2833   C85  ...        0   \n",
       "2    0  26.0      0      0  STON/O2. 3101282   7.9250   NaN  ...        0   \n",
       "3    0  35.0      1      0            113803  53.1000  C123  ...        0   \n",
       "4    1  35.0      0      0            373450   8.0500   NaN  ...        0   \n",
       "\n",
       "   Pclass_1  Pclass_2  Pclass_3  Title_0  Title_1  Title_2  Title_3  Title_4  \\\n",
       "0         0         0         1        0        0        1        0        0   \n",
       "1         1         0         0        0        0        0        1        0   \n",
       "2         0         0         1        0        0        0        0        1   \n",
       "3         1         0         0        0        0        0        1        0   \n",
       "4         0         0         1        0        0        1        0        0   \n",
       "\n",
       "   Title_5  \n",
       "0        0  \n",
       "1        0  \n",
       "2        0  \n",
       "3        0  \n",
       "4        0  \n",
       "\n",
       "[5 rows x 29 columns]"
      ]
     },
     "execution_count": 44,
     "metadata": {},
     "output_type": "execute_result"
    }
   ],
   "source": [
    "df.head()"
   ]
  },
  {
   "cell_type": "code",
   "execution_count": 45,
   "id": "1792c554",
   "metadata": {
    "execution": {
     "iopub.execute_input": "2022-11-26T22:33:36.127131Z",
     "iopub.status.busy": "2022-11-26T22:33:36.126647Z",
     "iopub.status.idle": "2022-11-26T22:33:36.134219Z",
     "shell.execute_reply": "2022-11-26T22:33:36.132340Z"
    },
    "papermill": {
     "duration": 0.050726,
     "end_time": "2022-11-26T22:33:36.137168",
     "exception": false,
     "start_time": "2022-11-26T22:33:36.086442",
     "status": "completed"
    },
    "tags": []
   },
   "outputs": [],
   "source": [
    "df.drop(['PassengerId', 'Name', 'Ticket', 'Embarked', 'Cabin', 'Family_size', \n",
    "         'SibSp', 'Parch', 'Died', 'Survived'], inplace=True, axis=1) "
   ]
  },
  {
   "cell_type": "code",
   "execution_count": 46,
   "id": "8d0c91a9",
   "metadata": {
    "execution": {
     "iopub.execute_input": "2022-11-26T22:33:36.217542Z",
     "iopub.status.busy": "2022-11-26T22:33:36.217048Z",
     "iopub.status.idle": "2022-11-26T22:33:36.223261Z",
     "shell.execute_reply": "2022-11-26T22:33:36.221987Z"
    },
    "papermill": {
     "duration": 0.04686,
     "end_time": "2022-11-26T22:33:36.225591",
     "exception": false,
     "start_time": "2022-11-26T22:33:36.178731",
     "status": "completed"
    },
    "tags": []
   },
   "outputs": [],
   "source": [
    "# # Columns that will be one-hot encoded\n",
    "# low_cardinality_cols = [col for col in object_cols if X_train[col].nunique() < 10]\n",
    "\n",
    "# # Columns that will be dropped from the dataset\n",
    "# high_cardinality_cols = list(set(object_cols)-set(low_cardinality_cols))\n",
    "\n",
    "# print('Categorical columns that will be one-hot encoded:', low_cardinality_cols)\n",
    "# print('\\nCategorical columns that will be dropped from the dataset:', high_cardinality_cols)\n"
   ]
  },
  {
   "cell_type": "code",
   "execution_count": 47,
   "id": "ce61dcec",
   "metadata": {
    "execution": {
     "iopub.execute_input": "2022-11-26T22:33:36.307150Z",
     "iopub.status.busy": "2022-11-26T22:33:36.306017Z",
     "iopub.status.idle": "2022-11-26T22:33:36.311621Z",
     "shell.execute_reply": "2022-11-26T22:33:36.310694Z"
    },
    "papermill": {
     "duration": 0.047825,
     "end_time": "2022-11-26T22:33:36.314112",
     "exception": false,
     "start_time": "2022-11-26T22:33:36.266287",
     "status": "completed"
    },
    "tags": []
   },
   "outputs": [],
   "source": [
    "# # Apply one-hot encoder to each column with categorical data\n",
    "# object_cols = ['Title', 'Embarked', 'Pclass']\n",
    "\n",
    "# OH_encoder = OneHotEncoder(handle_unknown='ignore', sparse=False)\n",
    "# OH_cols_train = pd.DataFrame(OH_encoder.fit_transform(X_train[low_cardinality_cols]))\n",
    "# OH_cols_valid = pd.DataFrame(OH_encoder.transform(X_valid[low_cardinality_cols]))\n",
    "\n",
    "# # One-hot encoding removed index; put it back\n",
    "# OH_cols_train.index = X_train.index\n",
    "# OH_cols_valid.index = X_valid.index\n",
    "\n",
    "# # Remove categorical columns (will replace with one-hot encoding)\n",
    "# num_X_train = X_train.drop(object_cols, axis=1)\n",
    "# num_X_valid = X_valid.drop(object_cols, axis=1)\n",
    "\n",
    "# # Add one-hot encoded columns to numerical features\n",
    "# OH_X_train = pd.concat([num_X_train, OH_cols_train], axis=1)\n",
    "# OH_X_valid = pd.concat([num_X_valid, OH_cols_valid], axis=1)"
   ]
  },
  {
   "cell_type": "code",
   "execution_count": 48,
   "id": "6325a4fe",
   "metadata": {
    "execution": {
     "iopub.execute_input": "2022-11-26T22:33:36.390006Z",
     "iopub.status.busy": "2022-11-26T22:33:36.389203Z",
     "iopub.status.idle": "2022-11-26T22:33:36.990208Z",
     "shell.execute_reply": "2022-11-26T22:33:36.988365Z"
    },
    "papermill": {
     "duration": 0.643356,
     "end_time": "2022-11-26T22:33:36.993842",
     "exception": false,
     "start_time": "2022-11-26T22:33:36.350486",
     "status": "completed"
    },
    "tags": []
   },
   "outputs": [
    {
     "name": "stdout",
     "output_type": "stream",
     "text": [
      "Fare\n",
      "4.369374593951007\n"
     ]
    },
    {
     "data": {
      "image/png": "[encoded data removed]",
      "text/plain": [
       "<Figure size 432x288 with 1 Axes>"
      ]
     },
     "metadata": {
      "needs_background": "light"
     },
     "output_type": "display_data"
    },
    {
     "name": "stdout",
     "output_type": "stream",
     "text": [
      "Age\n",
      "0.5132689142866586\n"
     ]
    },
    {
     "data": {
      "image/png": "[encoded data removed]",
      "text/plain": [
       "<Figure size 432x288 with 1 Axes>"
      ]
     },
     "metadata": {
      "needs_background": "light"
     },
     "output_type": "display_data"
    }
   ],
   "source": [
    "cols = ['Fare', 'Age']\n",
    "\n",
    "for col in df[cols]:\n",
    "    print(col)\n",
    "    print(df[col].skew())\n",
    "    \n",
    "    plt.figure()\n",
    "    sns.distplot(df[col])\n",
    "    plt.show()"
   ]
  },
  {
   "cell_type": "code",
   "execution_count": 49,
   "id": "1881be56",
   "metadata": {
    "execution": {
     "iopub.execute_input": "2022-11-26T22:33:37.076400Z",
     "iopub.status.busy": "2022-11-26T22:33:37.075906Z",
     "iopub.status.idle": "2022-11-26T22:33:37.081287Z",
     "shell.execute_reply": "2022-11-26T22:33:37.080065Z"
    },
    "papermill": {
     "duration": 0.051019,
     "end_time": "2022-11-26T22:33:37.083827",
     "exception": false,
     "start_time": "2022-11-26T22:33:37.032808",
     "status": "completed"
    },
    "tags": []
   },
   "outputs": [],
   "source": [
    "skewed_cols = ['Fare', 'Age']\n"
   ]
  },
  {
   "cell_type": "code",
   "execution_count": 50,
   "id": "734b7756",
   "metadata": {
    "execution": {
     "iopub.execute_input": "2022-11-26T22:33:37.158621Z",
     "iopub.status.busy": "2022-11-26T22:33:37.157770Z",
     "iopub.status.idle": "2022-11-26T22:33:37.164779Z",
     "shell.execute_reply": "2022-11-26T22:33:37.163712Z"
    },
    "papermill": {
     "duration": 0.047994,
     "end_time": "2022-11-26T22:33:37.167587",
     "exception": false,
     "start_time": "2022-11-26T22:33:37.119593",
     "status": "completed"
    },
    "tags": []
   },
   "outputs": [],
   "source": [
    "for col in skewed_cols:\n",
    "    df[col] = np.log1p(df[col])"
   ]
  },
  {
   "cell_type": "code",
   "execution_count": 51,
   "id": "cb188fc9",
   "metadata": {
    "execution": {
     "iopub.execute_input": "2022-11-26T22:33:37.244995Z",
     "iopub.status.busy": "2022-11-26T22:33:37.244148Z",
     "iopub.status.idle": "2022-11-26T22:33:37.250188Z",
     "shell.execute_reply": "2022-11-26T22:33:37.249129Z"
    },
    "papermill": {
     "duration": 0.047617,
     "end_time": "2022-11-26T22:33:37.252872",
     "exception": false,
     "start_time": "2022-11-26T22:33:37.205255",
     "status": "completed"
    },
    "tags": []
   },
   "outputs": [],
   "source": [
    "def plot_boxplot(df, ft):\n",
    "    df.boxplot(column=[ft])\n",
    "    plt.grid(False)\n",
    "    plt.show()"
   ]
  },
  {
   "cell_type": "code",
   "execution_count": 52,
   "id": "dff160f1",
   "metadata": {
    "execution": {
     "iopub.execute_input": "2022-11-26T22:33:37.330692Z",
     "iopub.status.busy": "2022-11-26T22:33:37.329885Z",
     "iopub.status.idle": "2022-11-26T22:33:40.361160Z",
     "shell.execute_reply": "2022-11-26T22:33:40.359917Z"
    },
    "papermill": {
     "duration": 3.072794,
     "end_time": "2022-11-26T22:33:40.363904",
     "exception": false,
     "start_time": "2022-11-26T22:33:37.291110",
     "status": "completed"
    },
    "tags": []
   },
   "outputs": [
    {
     "data": {
      "image/png": "[encoded data removed]",
      "text/plain": [
       "<Figure size 432x288 with 1 Axes>"
      ]
     },
     "metadata": {
      "needs_background": "light"
     },
     "output_type": "display_data"
    },
    {
     "data": {
      "image/png": "[encoded data removed]",
      "text/plain": [
       "<Figure size 432x288 with 1 Axes>"
      ]
     },
     "metadata": {
      "needs_background": "light"
     },
     "output_type": "display_data"
    },
    {
     "data": {
      "image/png": "[encoded data removed]",
      "text/plain": [
       "<Figure size 432x288 with 1 Axes>"
      ]
     },
     "metadata": {
      "needs_background": "light"
     },
     "output_type": "display_data"
    },
    {
     "data": {
      "image/png": "[encoded data removed]",
      "text/plain": [
       "<Figure size 432x288 with 1 Axes>"
      ]
     },
     "metadata": {
      "needs_background": "light"
     },
     "output_type": "display_data"
    },
    {
     "data": {
      "image/png": "[encoded data removed]",
      "text/plain": [
       "<Figure size 432x288 with 1 Axes>"
      ]
     },
     "metadata": {
      "needs_background": "light"
     },
     "output_type": "display_data"
    },
    {
     "data": {
      "image/png": "[encoded data removed]",
      "text/plain": [
       "<Figure size 432x288 with 1 Axes>"
      ]
     },
     "metadata": {
      "needs_background": "light"
     },
     "output_type": "display_data"
    },
    {
     "data": {
      "image/png": "[encoded data removed]",
      "text/plain": [
       "<Figure size 432x288 with 1 Axes>"
      ]
     },
     "metadata": {
      "needs_background": "light"
     },
     "output_type": "display_data"
    },
    {
     "data": {
      "image/png": "[encoded data removed]",
      "text/plain": [
       "<Figure size 432x288 with 1 Axes>"
      ]
     },
     "metadata": {
      "needs_background": "light"
     },
     "output_type": "display_data"
    },
    {
     "data": {
      "image/png": "[encoded data removed]",
      "text/plain": [
       "<Figure size 432x288 with 1 Axes>"
      ]
     },
     "metadata": {
      "needs_background": "light"
     },
     "output_type": "display_data"
    },
    {
     "data": {
      "image/png": "[encoded data removed]",
      "text/plain": [
       "<Figure size 432x288 with 1 Axes>"
      ]
     },
     "metadata": {
      "needs_background": "light"
     },
     "output_type": "display_data"
    },
    {
     "data": {
      "image/png": "[encoded data removed]",
      "text/plain": [
       "<Figure size 432x288 with 1 Axes>"
      ]
     },
     "metadata": {
      "needs_background": "light"
     },
     "output_type": "display_data"
    },
    {
     "data": {
      "image/png": "[encoded data removed]",
      "text/plain": [
       "<Figure size 432x288 with 1 Axes>"
      ]
     },
     "metadata": {
      "needs_background": "light"
     },
     "output_type": "display_data"
    },
    {
     "data": {
      "image/png": "[encoded data removed]",
      "text/plain": [
       "<Figure size 432x288 with 1 Axes>"
      ]
     },
     "metadata": {
      "needs_background": "light"
     },
     "output_type": "display_data"
    },
    {
     "data": {
      "image/png": "[encoded data removed]",
      "text/plain": [
       "<Figure size 432x288 with 1 Axes>"
      ]
     },
     "metadata": {
      "needs_background": "light"
     },
     "output_type": "display_data"
    },
    {
     "data": {
      "image/png": "[encoded data removed]",
      "text/plain": [
       "<Figure size 432x288 with 1 Axes>"
      ]
     },
     "metadata": {
      "needs_background": "light"
     },
     "output_type": "display_data"
    },
    {
     "data": {
      "image/png": "[encoded data removed]",
      "text/plain": [
       "<Figure size 432x288 with 1 Axes>"
      ]
     },
     "metadata": {
      "needs_background": "light"
     },
     "output_type": "display_data"
    },
    {
     "data": {
      "image/png": "[encoded data removed]",
      "text/plain": [
       "<Figure size 432x288 with 1 Axes>"
      ]
     },
     "metadata": {
      "needs_background": "light"
     },
     "output_type": "display_data"
    },
    {
     "data": {
      "image/png": "[encoded data removed]",
      "text/plain": [
       "<Figure size 432x288 with 1 Axes>"
      ]
     },
     "metadata": {
      "needs_background": "light"
     },
     "output_type": "display_data"
    },
    {
     "data": {
      "image/png": "[encoded data removed]",
      "text/plain": [
       "<Figure size 432x288 with 1 Axes>"
      ]
     },
     "metadata": {
      "needs_background": "light"
     },
     "output_type": "display_data"
    }
   ],
   "source": [
    "#Plot all outliers columnwise\n",
    "for col in df.columns:\n",
    "    plot_boxplot(df,col)"
   ]
  },
  {
   "cell_type": "code",
   "execution_count": 53,
   "id": "87ae03ac",
   "metadata": {
    "execution": {
     "iopub.execute_input": "2022-11-26T22:33:40.449551Z",
     "iopub.status.busy": "2022-11-26T22:33:40.448362Z",
     "iopub.status.idle": "2022-11-26T22:33:40.456317Z",
     "shell.execute_reply": "2022-11-26T22:33:40.455102Z"
    },
    "papermill": {
     "duration": 0.0537,
     "end_time": "2022-11-26T22:33:40.458859",
     "exception": false,
     "start_time": "2022-11-26T22:33:40.405159",
     "status": "completed"
    },
    "tags": []
   },
   "outputs": [],
   "source": [
    "def remove_outliers(df,ft):\n",
    "    Q1 = df[ft].quantile(0.25)\n",
    "    Q3 = df[ft].quantile(0.75)\n",
    "    IQR= Q3-Q1\n",
    "    \n",
    "    lower_bound = Q1 - 1.5 * IQR\n",
    "    upper_bound = Q3 + 1.5 * IQR\n",
    "    \n",
    "    df[ft] = np.where(df[ft]>upper_bound,upper_bound,np.where(df[ft]<lower_bound,lower_bound,df[ft])).astype(int)   "
   ]
  },
  {
   "cell_type": "code",
   "execution_count": 54,
   "id": "144fe41e",
   "metadata": {
    "execution": {
     "iopub.execute_input": "2022-11-26T22:33:40.540156Z",
     "iopub.status.busy": "2022-11-26T22:33:40.539692Z",
     "iopub.status.idle": "2022-11-26T22:33:40.594213Z",
     "shell.execute_reply": "2022-11-26T22:33:40.592429Z"
    },
    "papermill": {
     "duration": 0.098276,
     "end_time": "2022-11-26T22:33:40.597106",
     "exception": false,
     "start_time": "2022-11-26T22:33:40.498830",
     "status": "completed"
    },
    "tags": []
   },
   "outputs": [],
   "source": [
    "#Replacing all outliers\n",
    "for col in df.columns:\n",
    "    remove_outliers(df,col)\n",
    "    \n",
    "#Replacing all outliers\n",
    "# for col in test_df.columns:\n",
    "#     remove_outliers(test_df,col)"
   ]
  },
  {
   "cell_type": "code",
   "execution_count": 55,
   "id": "1f417b96",
   "metadata": {
    "execution": {
     "iopub.execute_input": "2022-11-26T22:33:40.685120Z",
     "iopub.status.busy": "2022-11-26T22:33:40.684692Z",
     "iopub.status.idle": "2022-11-26T22:33:44.148101Z",
     "shell.execute_reply": "2022-11-26T22:33:44.146757Z"
    },
    "papermill": {
     "duration": 3.511301,
     "end_time": "2022-11-26T22:33:44.150843",
     "exception": false,
     "start_time": "2022-11-26T22:33:40.639542",
     "status": "completed"
    },
    "tags": []
   },
   "outputs": [
    {
     "data": {
      "image/png": "[encoded data removed]",
      "text/plain": [
       "<Figure size 432x288 with 1 Axes>"
      ]
     },
     "metadata": {
      "needs_background": "light"
     },
     "output_type": "display_data"
    },
    {
     "data": {
      "image/png": "[encoded data removed]",
      "text/plain": [
       "<Figure size 432x288 with 1 Axes>"
      ]
     },
     "metadata": {
      "needs_background": "light"
     },
     "output_type": "display_data"
    },
    {
     "data": {
      "image/png": "[encoded data removed]",
      "text/plain": [
       "<Figure size 432x288 with 1 Axes>"
      ]
     },
     "metadata": {
      "needs_background": "light"
     },
     "output_type": "display_data"
    },
    {
     "data": {
      "image/png": "[encoded data removed]",
      "text/plain": [
       "<Figure size 432x288 with 1 Axes>"
      ]
     },
     "metadata": {
      "needs_background": "light"
     },
     "output_type": "display_data"
    },
    {
     "data": {
      "image/png": "[encoded data removed]",
      "text/plain": [
       "<Figure size 432x288 with 1 Axes>"
      ]
     },
     "metadata": {
      "needs_background": "light"
     },
     "output_type": "display_data"
    },
    {
     "data": {
      "image/png": "[encoded data removed]",
      "text/plain": [
       "<Figure size 432x288 with 1 Axes>"
      ]
     },
     "metadata": {
      "needs_background": "light"
     },
     "output_type": "display_data"
    },
    {
     "data": {
      "image/png": "[encoded data removed]",
      "text/plain": [
       "<Figure size 432x288 with 1 Axes>"
      ]
     },
     "metadata": {
      "needs_background": "light"
     },
     "output_type": "display_data"
    },
    {
     "data": {
      "image/png": "[encoded data removed]",
      "text/plain": [
       "<Figure size 432x288 with 1 Axes>"
      ]
     },
     "metadata": {
      "needs_background": "light"
     },
     "output_type": "display_data"
    },
    {
     "data": {
      "image/png": "[encoded data removed]",
      "text/plain": [
       "<Figure size 432x288 with 1 Axes>"
      ]
     },
     "metadata": {
      "needs_background": "light"
     },
     "output_type": "display_data"
    },
    {
     "data": {
      "image/png": "[encoded data removed]",
      "text/plain": [
       "<Figure size 432x288 with 1 Axes>"
      ]
     },
     "metadata": {
      "needs_background": "light"
     },
     "output_type": "display_data"
    },
    {
     "data": {
      "image/png": "[encoded data removed]",
      "text/plain": [
       "<Figure size 432x288 with 1 Axes>"
      ]
     },
     "metadata": {
      "needs_background": "light"
     },
     "output_type": "display_data"
    },
    {
     "data": {
      "image/png": "[encoded data removed]",
      "text/plain": [
       "<Figure size 432x288 with 1 Axes>"
      ]
     },
     "metadata": {
      "needs_background": "light"
     },
     "output_type": "display_data"
    },
    {
     "data": {
      "image/png": "[encoded data removed]",
      "text/plain": [
       "<Figure size 432x288 with 1 Axes>"
      ]
     },
     "metadata": {
      "needs_background": "light"
     },
     "output_type": "display_data"
    },
    {
     "data": {
      "image/png": "[encoded data removed]",
      "text/plain": [
       "<Figure size 432x288 with 1 Axes>"
      ]
     },
     "metadata": {
      "needs_background": "light"
     },
     "output_type": "display_data"
    },
    {
     "data": {
      "image/png": "[encoded data removed]",
      "text/plain": [
       "<Figure size 432x288 with 1 Axes>"
      ]
     },
     "metadata": {
      "needs_background": "light"
     },
     "output_type": "display_data"
    },
    {
     "data": {
      "image/png": "[encoded data removed]",
      "text/plain": [
       "<Figure size 432x288 with 1 Axes>"
      ]
     },
     "metadata": {
      "needs_background": "light"
     },
     "output_type": "display_data"
    },
    {
     "data": {
      "image/png": "[encoded data removed]",
      "text/plain": [
       "<Figure size 432x288 with 1 Axes>"
      ]
     },
     "metadata": {
      "needs_background": "light"
     },
     "output_type": "display_data"
    },
    {
     "data": {
      "image/png": "[encoded data removed]",
      "text/plain": [
       "<Figure size 432x288 with 1 Axes>"
      ]
     },
     "metadata": {
      "needs_background": "light"
     },
     "output_type": "display_data"
    },
    {
     "data": {
      "image/png": "[encoded data removed]",
      "text/plain": [
       "<Figure size 432x288 with 1 Axes>"
      ]
     },
     "metadata": {
      "needs_background": "light"
     },
     "output_type": "display_data"
    }
   ],
   "source": [
    "for col in df.columns:\n",
    "    plot_boxplot(df,col)"
   ]
  },
  {
   "cell_type": "code",
   "execution_count": 56,
   "id": "afab175b",
   "metadata": {
    "execution": {
     "iopub.execute_input": "2022-11-26T22:33:44.242743Z",
     "iopub.status.busy": "2022-11-26T22:33:44.242322Z",
     "iopub.status.idle": "2022-11-26T22:33:44.248320Z",
     "shell.execute_reply": "2022-11-26T22:33:44.247234Z"
    },
    "papermill": {
     "duration": 0.053861,
     "end_time": "2022-11-26T22:33:44.251054",
     "exception": false,
     "start_time": "2022-11-26T22:33:44.197193",
     "status": "completed"
    },
    "tags": []
   },
   "outputs": [],
   "source": [
    "# from sklearn.impute import SimpleImputer\n",
    "\n",
    "# # Imputation\n",
    "# my_imputer = SimpleImputer()\n",
    "# imputed_X_train = pd.DataFrame(my_imputer.fit_transform(X_train))\n",
    "# imputed_X_valid = pd.DataFrame(my_imputer.transform(X_valid))\n",
    "\n",
    "# # Imputation removed column names; put them back\n",
    "# imputed_X_train.columns = X_train.columns\n",
    "# imputed_X_valid.columns = X_valid.columns"
   ]
  },
  {
   "cell_type": "code",
   "execution_count": 57,
   "id": "bb5f6b13",
   "metadata": {
    "execution": {
     "iopub.execute_input": "2022-11-26T22:33:44.341022Z",
     "iopub.status.busy": "2022-11-26T22:33:44.340605Z",
     "iopub.status.idle": "2022-11-26T22:33:44.345878Z",
     "shell.execute_reply": "2022-11-26T22:33:44.344626Z"
    },
    "papermill": {
     "duration": 0.053838,
     "end_time": "2022-11-26T22:33:44.348515",
     "exception": false,
     "start_time": "2022-11-26T22:33:44.294677",
     "status": "completed"
    },
    "tags": []
   },
   "outputs": [],
   "source": [
    "# # Get number of unique entries in each column with categorical data\n",
    "# object_nunique = list(map(lambda col: X_train[col].nunique(), object_cols))\n",
    "# d = dict(zip(object_cols, object_nunique))\n",
    "\n",
    "# # Print number of unique entries by column, in ascending order\n",
    "# sorted(d.items(), key=lambda x: x[1])"
   ]
  },
  {
   "cell_type": "code",
   "execution_count": 58,
   "id": "33f5e3f4",
   "metadata": {
    "execution": {
     "iopub.execute_input": "2022-11-26T22:33:44.441950Z",
     "iopub.status.busy": "2022-11-26T22:33:44.441496Z",
     "iopub.status.idle": "2022-11-26T22:33:44.446605Z",
     "shell.execute_reply": "2022-11-26T22:33:44.445338Z"
    },
    "papermill": {
     "duration": 0.057172,
     "end_time": "2022-11-26T22:33:44.449243",
     "exception": false,
     "start_time": "2022-11-26T22:33:44.392071",
     "status": "completed"
    },
    "tags": []
   },
   "outputs": [],
   "source": [
    "# # Get list of categorical variables\n",
    "# s = (X_train.dtypes == 'object')\n",
    "# object_cols = list(s[s].index)\n",
    "\n",
    "# print(\"Categorical variables:\")\n",
    "# print(object_cols)"
   ]
  },
  {
   "cell_type": "code",
   "execution_count": 59,
   "id": "30b5369b",
   "metadata": {
    "execution": {
     "iopub.execute_input": "2022-11-26T22:33:44.538500Z",
     "iopub.status.busy": "2022-11-26T22:33:44.537354Z",
     "iopub.status.idle": "2022-11-26T22:33:44.555789Z",
     "shell.execute_reply": "2022-11-26T22:33:44.554312Z"
    },
    "papermill": {
     "duration": 0.06679,
     "end_time": "2022-11-26T22:33:44.559282",
     "exception": false,
     "start_time": "2022-11-26T22:33:44.492492",
     "status": "completed"
    },
    "tags": []
   },
   "outputs": [
    {
     "data": {
      "text/html": [
       "<div>\n",
       "<style scoped>\n",
       "    .dataframe tbody tr th:only-of-type {\n",
       "        vertical-align: middle;\n",
       "    }\n",
       "\n",
       "    .dataframe tbody tr th {\n",
       "        vertical-align: top;\n",
       "    }\n",
       "\n",
       "    .dataframe thead th {\n",
       "        text-align: right;\n",
       "    }\n",
       "</style>\n",
       "<table border=\"1\" class=\"dataframe\">\n",
       "  <thead>\n",
       "    <tr style=\"text-align: right;\">\n",
       "      <th></th>\n",
       "      <th>Sex</th>\n",
       "      <th>Age</th>\n",
       "      <th>Fare</th>\n",
       "      <th>Singleton</th>\n",
       "      <th>SmallFamily</th>\n",
       "      <th>Mid_Sized_Family</th>\n",
       "      <th>LargeFamily</th>\n",
       "      <th>Embark_0</th>\n",
       "      <th>Embark_1</th>\n",
       "      <th>Embark_2</th>\n",
       "      <th>Pclass_1</th>\n",
       "      <th>Pclass_2</th>\n",
       "      <th>Pclass_3</th>\n",
       "      <th>Title_0</th>\n",
       "      <th>Title_1</th>\n",
       "      <th>Title_2</th>\n",
       "      <th>Title_3</th>\n",
       "      <th>Title_4</th>\n",
       "      <th>Title_5</th>\n",
       "    </tr>\n",
       "  </thead>\n",
       "  <tbody>\n",
       "    <tr>\n",
       "      <th>0</th>\n",
       "      <td>1</td>\n",
       "      <td>3</td>\n",
       "      <td>2</td>\n",
       "      <td>0</td>\n",
       "      <td>1</td>\n",
       "      <td>0</td>\n",
       "      <td>0</td>\n",
       "      <td>1</td>\n",
       "      <td>0</td>\n",
       "      <td>0</td>\n",
       "      <td>0</td>\n",
       "      <td>0</td>\n",
       "      <td>1</td>\n",
       "      <td>0</td>\n",
       "      <td>0</td>\n",
       "      <td>1</td>\n",
       "      <td>0</td>\n",
       "      <td>0</td>\n",
       "      <td>0</td>\n",
       "    </tr>\n",
       "    <tr>\n",
       "      <th>1</th>\n",
       "      <td>0</td>\n",
       "      <td>3</td>\n",
       "      <td>4</td>\n",
       "      <td>0</td>\n",
       "      <td>1</td>\n",
       "      <td>0</td>\n",
       "      <td>0</td>\n",
       "      <td>0</td>\n",
       "      <td>0</td>\n",
       "      <td>0</td>\n",
       "      <td>0</td>\n",
       "      <td>0</td>\n",
       "      <td>0</td>\n",
       "      <td>0</td>\n",
       "      <td>0</td>\n",
       "      <td>0</td>\n",
       "      <td>0</td>\n",
       "      <td>0</td>\n",
       "      <td>0</td>\n",
       "    </tr>\n",
       "    <tr>\n",
       "      <th>2</th>\n",
       "      <td>0</td>\n",
       "      <td>3</td>\n",
       "      <td>2</td>\n",
       "      <td>1</td>\n",
       "      <td>0</td>\n",
       "      <td>0</td>\n",
       "      <td>0</td>\n",
       "      <td>1</td>\n",
       "      <td>0</td>\n",
       "      <td>0</td>\n",
       "      <td>0</td>\n",
       "      <td>0</td>\n",
       "      <td>1</td>\n",
       "      <td>0</td>\n",
       "      <td>0</td>\n",
       "      <td>0</td>\n",
       "      <td>0</td>\n",
       "      <td>0</td>\n",
       "      <td>0</td>\n",
       "    </tr>\n",
       "    <tr>\n",
       "      <th>3</th>\n",
       "      <td>0</td>\n",
       "      <td>3</td>\n",
       "      <td>3</td>\n",
       "      <td>0</td>\n",
       "      <td>1</td>\n",
       "      <td>0</td>\n",
       "      <td>0</td>\n",
       "      <td>1</td>\n",
       "      <td>0</td>\n",
       "      <td>0</td>\n",
       "      <td>0</td>\n",
       "      <td>0</td>\n",
       "      <td>0</td>\n",
       "      <td>0</td>\n",
       "      <td>0</td>\n",
       "      <td>0</td>\n",
       "      <td>0</td>\n",
       "      <td>0</td>\n",
       "      <td>0</td>\n",
       "    </tr>\n",
       "    <tr>\n",
       "      <th>4</th>\n",
       "      <td>1</td>\n",
       "      <td>3</td>\n",
       "      <td>2</td>\n",
       "      <td>1</td>\n",
       "      <td>0</td>\n",
       "      <td>0</td>\n",
       "      <td>0</td>\n",
       "      <td>1</td>\n",
       "      <td>0</td>\n",
       "      <td>0</td>\n",
       "      <td>0</td>\n",
       "      <td>0</td>\n",
       "      <td>1</td>\n",
       "      <td>0</td>\n",
       "      <td>0</td>\n",
       "      <td>1</td>\n",
       "      <td>0</td>\n",
       "      <td>0</td>\n",
       "      <td>0</td>\n",
       "    </tr>\n",
       "  </tbody>\n",
       "</table>\n",
       "</div>"
      ],
      "text/plain": [
       "   Sex  Age  Fare  Singleton  SmallFamily  Mid_Sized_Family  LargeFamily  \\\n",
       "0    1    3     2          0            1                 0            0   \n",
       "1    0    3     4          0            1                 0            0   \n",
       "2    0    3     2          1            0                 0            0   \n",
       "3    0    3     3          0            1                 0            0   \n",
       "4    1    3     2          1            0                 0            0   \n",
       "\n",
       "   Embark_0  Embark_1  Embark_2  Pclass_1  Pclass_2  Pclass_3  Title_0  \\\n",
       "0         1         0         0         0         0         1        0   \n",
       "1         0         0         0         0         0         0        0   \n",
       "2         1         0         0         0         0         1        0   \n",
       "3         1         0         0         0         0         0        0   \n",
       "4         1         0         0         0         0         1        0   \n",
       "\n",
       "   Title_1  Title_2  Title_3  Title_4  Title_5  \n",
       "0        0        1        0        0        0  \n",
       "1        0        0        0        0        0  \n",
       "2        0        0        0        0        0  \n",
       "3        0        0        0        0        0  \n",
       "4        0        1        0        0        0  "
      ]
     },
     "execution_count": 59,
     "metadata": {},
     "output_type": "execute_result"
    }
   ],
   "source": [
    "df.head()"
   ]
  },
  {
   "cell_type": "code",
   "execution_count": null,
   "id": "c164f698",
   "metadata": {
    "execution": {
     "iopub.execute_input": "2022-11-26T22:30:10.115686Z",
     "iopub.status.busy": "2022-11-26T22:30:10.115249Z",
     "iopub.status.idle": "2022-11-26T22:30:10.122151Z",
     "shell.execute_reply": "2022-11-26T22:30:10.121032Z",
     "shell.execute_reply.started": "2022-11-26T22:30:10.115649Z"
    },
    "papermill": {
     "duration": 0.043141,
     "end_time": "2022-11-26T22:33:44.647407",
     "exception": false,
     "start_time": "2022-11-26T22:33:44.604266",
     "status": "completed"
    },
    "tags": []
   },
   "outputs": [],
   "source": []
  },
  {
   "cell_type": "code",
   "execution_count": 60,
   "id": "c7494f2f",
   "metadata": {
    "execution": {
     "iopub.execute_input": "2022-11-26T22:33:44.742323Z",
     "iopub.status.busy": "2022-11-26T22:33:44.741921Z",
     "iopub.status.idle": "2022-11-26T22:33:44.757273Z",
     "shell.execute_reply": "2022-11-26T22:33:44.756222Z"
    },
    "papermill": {
     "duration": 0.064814,
     "end_time": "2022-11-26T22:33:44.759837",
     "exception": false,
     "start_time": "2022-11-26T22:33:44.695023",
     "status": "completed"
    },
    "tags": []
   },
   "outputs": [],
   "source": [
    "cols_to_scale = ['Age', 'Fare']\n",
    "\n",
    "for col in cols_to_scale:\n",
    "    scaler = MinMaxScaler()\n",
    "    df[col] = scaler.fit_transform(df[[col]])\n",
    "    #test_df[col] = scaler.fit_transform(test_df[[col]])"
   ]
  },
  {
   "cell_type": "code",
   "execution_count": 61,
   "id": "ee64deb9",
   "metadata": {
    "execution": {
     "iopub.execute_input": "2022-11-26T22:33:44.850837Z",
     "iopub.status.busy": "2022-11-26T22:33:44.849899Z",
     "iopub.status.idle": "2022-11-26T22:33:44.856019Z",
     "shell.execute_reply": "2022-11-26T22:33:44.855133Z"
    },
    "papermill": {
     "duration": 0.053907,
     "end_time": "2022-11-26T22:33:44.858488",
     "exception": false,
     "start_time": "2022-11-26T22:33:44.804581",
     "status": "completed"
    },
    "tags": []
   },
   "outputs": [],
   "source": [
    "target = train.Survived\n",
    "train_df=df.head(891)\n",
    "test_df=df.iloc[891:,:]"
   ]
  },
  {
   "cell_type": "code",
   "execution_count": 62,
   "id": "0063fbff",
   "metadata": {
    "execution": {
     "iopub.execute_input": "2022-11-26T22:33:44.952194Z",
     "iopub.status.busy": "2022-11-26T22:33:44.951378Z",
     "iopub.status.idle": "2022-11-26T22:33:44.978074Z",
     "shell.execute_reply": "2022-11-26T22:33:44.976972Z"
    },
    "papermill": {
     "duration": 0.078321,
     "end_time": "2022-11-26T22:33:44.980945",
     "exception": false,
     "start_time": "2022-11-26T22:33:44.902624",
     "status": "completed"
    },
    "tags": []
   },
   "outputs": [
    {
     "data": {
      "text/html": [
       "<div>\n",
       "<style scoped>\n",
       "    .dataframe tbody tr th:only-of-type {\n",
       "        vertical-align: middle;\n",
       "    }\n",
       "\n",
       "    .dataframe tbody tr th {\n",
       "        vertical-align: top;\n",
       "    }\n",
       "\n",
       "    .dataframe thead th {\n",
       "        text-align: right;\n",
       "    }\n",
       "</style>\n",
       "<table border=\"1\" class=\"dataframe\">\n",
       "  <thead>\n",
       "    <tr style=\"text-align: right;\">\n",
       "      <th></th>\n",
       "      <th>Sex</th>\n",
       "      <th>Age</th>\n",
       "      <th>Fare</th>\n",
       "      <th>Singleton</th>\n",
       "      <th>SmallFamily</th>\n",
       "      <th>Mid_Sized_Family</th>\n",
       "      <th>LargeFamily</th>\n",
       "      <th>Embark_0</th>\n",
       "      <th>Embark_1</th>\n",
       "      <th>Embark_2</th>\n",
       "      <th>Pclass_1</th>\n",
       "      <th>Pclass_2</th>\n",
       "      <th>Pclass_3</th>\n",
       "      <th>Title_0</th>\n",
       "      <th>Title_1</th>\n",
       "      <th>Title_2</th>\n",
       "      <th>Title_3</th>\n",
       "      <th>Title_4</th>\n",
       "      <th>Title_5</th>\n",
       "    </tr>\n",
       "  </thead>\n",
       "  <tbody>\n",
       "    <tr>\n",
       "      <th>0</th>\n",
       "      <td>1</td>\n",
       "      <td>0.5</td>\n",
       "      <td>0.4</td>\n",
       "      <td>0</td>\n",
       "      <td>1</td>\n",
       "      <td>0</td>\n",
       "      <td>0</td>\n",
       "      <td>1</td>\n",
       "      <td>0</td>\n",
       "      <td>0</td>\n",
       "      <td>0</td>\n",
       "      <td>0</td>\n",
       "      <td>1</td>\n",
       "      <td>0</td>\n",
       "      <td>0</td>\n",
       "      <td>1</td>\n",
       "      <td>0</td>\n",
       "      <td>0</td>\n",
       "      <td>0</td>\n",
       "    </tr>\n",
       "    <tr>\n",
       "      <th>1</th>\n",
       "      <td>0</td>\n",
       "      <td>0.5</td>\n",
       "      <td>0.8</td>\n",
       "      <td>0</td>\n",
       "      <td>1</td>\n",
       "      <td>0</td>\n",
       "      <td>0</td>\n",
       "      <td>0</td>\n",
       "      <td>0</td>\n",
       "      <td>0</td>\n",
       "      <td>0</td>\n",
       "      <td>0</td>\n",
       "      <td>0</td>\n",
       "      <td>0</td>\n",
       "      <td>0</td>\n",
       "      <td>0</td>\n",
       "      <td>0</td>\n",
       "      <td>0</td>\n",
       "      <td>0</td>\n",
       "    </tr>\n",
       "    <tr>\n",
       "      <th>2</th>\n",
       "      <td>0</td>\n",
       "      <td>0.5</td>\n",
       "      <td>0.4</td>\n",
       "      <td>1</td>\n",
       "      <td>0</td>\n",
       "      <td>0</td>\n",
       "      <td>0</td>\n",
       "      <td>1</td>\n",
       "      <td>0</td>\n",
       "      <td>0</td>\n",
       "      <td>0</td>\n",
       "      <td>0</td>\n",
       "      <td>1</td>\n",
       "      <td>0</td>\n",
       "      <td>0</td>\n",
       "      <td>0</td>\n",
       "      <td>0</td>\n",
       "      <td>0</td>\n",
       "      <td>0</td>\n",
       "    </tr>\n",
       "    <tr>\n",
       "      <th>3</th>\n",
       "      <td>0</td>\n",
       "      <td>0.5</td>\n",
       "      <td>0.6</td>\n",
       "      <td>0</td>\n",
       "      <td>1</td>\n",
       "      <td>0</td>\n",
       "      <td>0</td>\n",
       "      <td>1</td>\n",
       "      <td>0</td>\n",
       "      <td>0</td>\n",
       "      <td>0</td>\n",
       "      <td>0</td>\n",
       "      <td>0</td>\n",
       "      <td>0</td>\n",
       "      <td>0</td>\n",
       "      <td>0</td>\n",
       "      <td>0</td>\n",
       "      <td>0</td>\n",
       "      <td>0</td>\n",
       "    </tr>\n",
       "    <tr>\n",
       "      <th>4</th>\n",
       "      <td>1</td>\n",
       "      <td>0.5</td>\n",
       "      <td>0.4</td>\n",
       "      <td>1</td>\n",
       "      <td>0</td>\n",
       "      <td>0</td>\n",
       "      <td>0</td>\n",
       "      <td>1</td>\n",
       "      <td>0</td>\n",
       "      <td>0</td>\n",
       "      <td>0</td>\n",
       "      <td>0</td>\n",
       "      <td>1</td>\n",
       "      <td>0</td>\n",
       "      <td>0</td>\n",
       "      <td>1</td>\n",
       "      <td>0</td>\n",
       "      <td>0</td>\n",
       "      <td>0</td>\n",
       "    </tr>\n",
       "  </tbody>\n",
       "</table>\n",
       "</div>"
      ],
      "text/plain": [
       "   Sex  Age  Fare  Singleton  SmallFamily  Mid_Sized_Family  LargeFamily  \\\n",
       "0    1  0.5   0.4          0            1                 0            0   \n",
       "1    0  0.5   0.8          0            1                 0            0   \n",
       "2    0  0.5   0.4          1            0                 0            0   \n",
       "3    0  0.5   0.6          0            1                 0            0   \n",
       "4    1  0.5   0.4          1            0                 0            0   \n",
       "\n",
       "   Embark_0  Embark_1  Embark_2  Pclass_1  Pclass_2  Pclass_3  Title_0  \\\n",
       "0         1         0         0         0         0         1        0   \n",
       "1         0         0         0         0         0         0        0   \n",
       "2         1         0         0         0         0         1        0   \n",
       "3         1         0         0         0         0         0        0   \n",
       "4         1         0         0         0         0         1        0   \n",
       "\n",
       "   Title_1  Title_2  Title_3  Title_4  Title_5  \n",
       "0        0        1        0        0        0  \n",
       "1        0        0        0        0        0  \n",
       "2        0        0        0        0        0  \n",
       "3        0        0        0        0        0  \n",
       "4        0        1        0        0        0  "
      ]
     },
     "execution_count": 62,
     "metadata": {},
     "output_type": "execute_result"
    }
   ],
   "source": [
    "train_df.head()"
   ]
  },
  {
   "cell_type": "code",
   "execution_count": 63,
   "id": "fc84c4da",
   "metadata": {
    "execution": {
     "iopub.execute_input": "2022-11-26T22:33:45.090288Z",
     "iopub.status.busy": "2022-11-26T22:33:45.089538Z",
     "iopub.status.idle": "2022-11-26T22:33:45.108758Z",
     "shell.execute_reply": "2022-11-26T22:33:45.107890Z"
    },
    "papermill": {
     "duration": 0.073382,
     "end_time": "2022-11-26T22:33:45.111449",
     "exception": false,
     "start_time": "2022-11-26T22:33:45.038067",
     "status": "completed"
    },
    "tags": []
   },
   "outputs": [
    {
     "data": {
      "text/html": [
       "<div>\n",
       "<style scoped>\n",
       "    .dataframe tbody tr th:only-of-type {\n",
       "        vertical-align: middle;\n",
       "    }\n",
       "\n",
       "    .dataframe tbody tr th {\n",
       "        vertical-align: top;\n",
       "    }\n",
       "\n",
       "    .dataframe thead th {\n",
       "        text-align: right;\n",
       "    }\n",
       "</style>\n",
       "<table border=\"1\" class=\"dataframe\">\n",
       "  <thead>\n",
       "    <tr style=\"text-align: right;\">\n",
       "      <th></th>\n",
       "      <th>Sex</th>\n",
       "      <th>Age</th>\n",
       "      <th>Fare</th>\n",
       "      <th>Singleton</th>\n",
       "      <th>SmallFamily</th>\n",
       "      <th>Mid_Sized_Family</th>\n",
       "      <th>LargeFamily</th>\n",
       "      <th>Embark_0</th>\n",
       "      <th>Embark_1</th>\n",
       "      <th>Embark_2</th>\n",
       "      <th>Pclass_1</th>\n",
       "      <th>Pclass_2</th>\n",
       "      <th>Pclass_3</th>\n",
       "      <th>Title_0</th>\n",
       "      <th>Title_1</th>\n",
       "      <th>Title_2</th>\n",
       "      <th>Title_3</th>\n",
       "      <th>Title_4</th>\n",
       "      <th>Title_5</th>\n",
       "    </tr>\n",
       "  </thead>\n",
       "  <tbody>\n",
       "    <tr>\n",
       "      <th>0</th>\n",
       "      <td>1</td>\n",
       "      <td>0.5</td>\n",
       "      <td>0.4</td>\n",
       "      <td>1</td>\n",
       "      <td>0</td>\n",
       "      <td>0</td>\n",
       "      <td>0</td>\n",
       "      <td>0</td>\n",
       "      <td>0</td>\n",
       "      <td>0</td>\n",
       "      <td>0</td>\n",
       "      <td>0</td>\n",
       "      <td>1</td>\n",
       "      <td>0</td>\n",
       "      <td>0</td>\n",
       "      <td>1</td>\n",
       "      <td>0</td>\n",
       "      <td>0</td>\n",
       "      <td>0</td>\n",
       "    </tr>\n",
       "    <tr>\n",
       "      <th>1</th>\n",
       "      <td>0</td>\n",
       "      <td>0.5</td>\n",
       "      <td>0.4</td>\n",
       "      <td>0</td>\n",
       "      <td>1</td>\n",
       "      <td>0</td>\n",
       "      <td>0</td>\n",
       "      <td>1</td>\n",
       "      <td>0</td>\n",
       "      <td>0</td>\n",
       "      <td>0</td>\n",
       "      <td>0</td>\n",
       "      <td>1</td>\n",
       "      <td>0</td>\n",
       "      <td>0</td>\n",
       "      <td>0</td>\n",
       "      <td>0</td>\n",
       "      <td>0</td>\n",
       "      <td>0</td>\n",
       "    </tr>\n",
       "    <tr>\n",
       "      <th>2</th>\n",
       "      <td>1</td>\n",
       "      <td>1.0</td>\n",
       "      <td>0.4</td>\n",
       "      <td>1</td>\n",
       "      <td>0</td>\n",
       "      <td>0</td>\n",
       "      <td>0</td>\n",
       "      <td>0</td>\n",
       "      <td>0</td>\n",
       "      <td>0</td>\n",
       "      <td>0</td>\n",
       "      <td>0</td>\n",
       "      <td>0</td>\n",
       "      <td>0</td>\n",
       "      <td>0</td>\n",
       "      <td>1</td>\n",
       "      <td>0</td>\n",
       "      <td>0</td>\n",
       "      <td>0</td>\n",
       "    </tr>\n",
       "    <tr>\n",
       "      <th>3</th>\n",
       "      <td>1</td>\n",
       "      <td>0.5</td>\n",
       "      <td>0.4</td>\n",
       "      <td>1</td>\n",
       "      <td>0</td>\n",
       "      <td>0</td>\n",
       "      <td>0</td>\n",
       "      <td>1</td>\n",
       "      <td>0</td>\n",
       "      <td>0</td>\n",
       "      <td>0</td>\n",
       "      <td>0</td>\n",
       "      <td>1</td>\n",
       "      <td>0</td>\n",
       "      <td>0</td>\n",
       "      <td>1</td>\n",
       "      <td>0</td>\n",
       "      <td>0</td>\n",
       "      <td>0</td>\n",
       "    </tr>\n",
       "    <tr>\n",
       "      <th>4</th>\n",
       "      <td>0</td>\n",
       "      <td>0.5</td>\n",
       "      <td>0.4</td>\n",
       "      <td>0</td>\n",
       "      <td>1</td>\n",
       "      <td>0</td>\n",
       "      <td>0</td>\n",
       "      <td>1</td>\n",
       "      <td>0</td>\n",
       "      <td>0</td>\n",
       "      <td>0</td>\n",
       "      <td>0</td>\n",
       "      <td>1</td>\n",
       "      <td>0</td>\n",
       "      <td>0</td>\n",
       "      <td>0</td>\n",
       "      <td>0</td>\n",
       "      <td>0</td>\n",
       "      <td>0</td>\n",
       "    </tr>\n",
       "  </tbody>\n",
       "</table>\n",
       "</div>"
      ],
      "text/plain": [
       "   Sex  Age  Fare  Singleton  SmallFamily  Mid_Sized_Family  LargeFamily  \\\n",
       "0    1  0.5   0.4          1            0                 0            0   \n",
       "1    0  0.5   0.4          0            1                 0            0   \n",
       "2    1  1.0   0.4          1            0                 0            0   \n",
       "3    1  0.5   0.4          1            0                 0            0   \n",
       "4    0  0.5   0.4          0            1                 0            0   \n",
       "\n",
       "   Embark_0  Embark_1  Embark_2  Pclass_1  Pclass_2  Pclass_3  Title_0  \\\n",
       "0         0         0         0         0         0         1        0   \n",
       "1         1         0         0         0         0         1        0   \n",
       "2         0         0         0         0         0         0        0   \n",
       "3         1         0         0         0         0         1        0   \n",
       "4         1         0         0         0         0         1        0   \n",
       "\n",
       "   Title_1  Title_2  Title_3  Title_4  Title_5  \n",
       "0        0        1        0        0        0  \n",
       "1        0        0        0        0        0  \n",
       "2        0        1        0        0        0  \n",
       "3        0        1        0        0        0  \n",
       "4        0        0        0        0        0  "
      ]
     },
     "execution_count": 63,
     "metadata": {},
     "output_type": "execute_result"
    }
   ],
   "source": [
    "test_df.head()"
   ]
  },
  {
   "cell_type": "code",
   "execution_count": 64,
   "id": "910dcd59",
   "metadata": {
    "execution": {
     "iopub.execute_input": "2022-11-26T22:33:45.207879Z",
     "iopub.status.busy": "2022-11-26T22:33:45.207219Z",
     "iopub.status.idle": "2022-11-26T22:33:45.212267Z",
     "shell.execute_reply": "2022-11-26T22:33:45.211287Z"
    },
    "papermill": {
     "duration": 0.056659,
     "end_time": "2022-11-26T22:33:45.214710",
     "exception": false,
     "start_time": "2022-11-26T22:33:45.158051",
     "status": "completed"
    },
    "tags": []
   },
   "outputs": [],
   "source": [
    "# from sklearn.ensemble import RandomForestClassifier\n",
    "# from sklearn.feature_selection import SelectFromModel\n",
    "# clf = RandomForestClassifier(n_estimators=50, max_features='sqrt')\n",
    "# clf = clf.fit(train_df, target)"
   ]
  },
  {
   "cell_type": "code",
   "execution_count": 65,
   "id": "cf0784da",
   "metadata": {
    "execution": {
     "iopub.execute_input": "2022-11-26T22:33:45.314375Z",
     "iopub.status.busy": "2022-11-26T22:33:45.313473Z",
     "iopub.status.idle": "2022-11-26T22:33:45.320490Z",
     "shell.execute_reply": "2022-11-26T22:33:45.318738Z"
    },
    "papermill": {
     "duration": 0.060001,
     "end_time": "2022-11-26T22:33:45.323389",
     "exception": false,
     "start_time": "2022-11-26T22:33:45.263388",
     "status": "completed"
    },
    "tags": []
   },
   "outputs": [],
   "source": [
    "# features = pd.DataFrame()\n",
    "# features['feature'] = train_df.columns\n",
    "# features['importance'] = clf.feature_importances_\n",
    "# features.sort_values(by=['importance'], ascending=True, inplace=True)\n",
    "# features.set_index('feature', inplace=True)"
   ]
  },
  {
   "cell_type": "code",
   "execution_count": 66,
   "id": "0dbded20",
   "metadata": {
    "execution": {
     "iopub.execute_input": "2022-11-26T22:33:45.428607Z",
     "iopub.status.busy": "2022-11-26T22:33:45.427809Z",
     "iopub.status.idle": "2022-11-26T22:33:45.433907Z",
     "shell.execute_reply": "2022-11-26T22:33:45.432587Z"
    },
    "papermill": {
     "duration": 0.061135,
     "end_time": "2022-11-26T22:33:45.436383",
     "exception": false,
     "start_time": "2022-11-26T22:33:45.375248",
     "status": "completed"
    },
    "tags": []
   },
   "outputs": [],
   "source": [
    "# features.plot(kind='barh', figsize=(18, 15))"
   ]
  },
  {
   "cell_type": "code",
   "execution_count": 67,
   "id": "60234f2e",
   "metadata": {
    "execution": {
     "iopub.execute_input": "2022-11-26T22:33:45.530450Z",
     "iopub.status.busy": "2022-11-26T22:33:45.529615Z",
     "iopub.status.idle": "2022-11-26T22:33:45.534449Z",
     "shell.execute_reply": "2022-11-26T22:33:45.533402Z"
    },
    "papermill": {
     "duration": 0.054605,
     "end_time": "2022-11-26T22:33:45.536907",
     "exception": false,
     "start_time": "2022-11-26T22:33:45.482302",
     "status": "completed"
    },
    "tags": []
   },
   "outputs": [],
   "source": [
    "# model = SelectFromModel(clf, prefit=True)\n",
    "# train_reduced = model.transform(train_df)\n",
    "# train_reduced.shape"
   ]
  },
  {
   "cell_type": "code",
   "execution_count": 68,
   "id": "1ed274ce",
   "metadata": {
    "execution": {
     "iopub.execute_input": "2022-11-26T22:33:45.629632Z",
     "iopub.status.busy": "2022-11-26T22:33:45.628937Z",
     "iopub.status.idle": "2022-11-26T22:33:45.633593Z",
     "shell.execute_reply": "2022-11-26T22:33:45.632305Z"
    },
    "papermill": {
     "duration": 0.053725,
     "end_time": "2022-11-26T22:33:45.636403",
     "exception": false,
     "start_time": "2022-11-26T22:33:45.582678",
     "status": "completed"
    },
    "scrolled": true,
    "tags": []
   },
   "outputs": [],
   "source": [
    "# test_reduced = model.transform(test_df)\n",
    "# test_reduced.shape"
   ]
  },
  {
   "cell_type": "code",
   "execution_count": 69,
   "id": "86fbbfe1",
   "metadata": {
    "execution": {
     "iopub.execute_input": "2022-11-26T22:33:45.731627Z",
     "iopub.status.busy": "2022-11-26T22:33:45.731160Z",
     "iopub.status.idle": "2022-11-26T22:33:45.736594Z",
     "shell.execute_reply": "2022-11-26T22:33:45.735112Z"
    },
    "papermill": {
     "duration": 0.05738,
     "end_time": "2022-11-26T22:33:45.739956",
     "exception": false,
     "start_time": "2022-11-26T22:33:45.682576",
     "status": "completed"
    },
    "tags": []
   },
   "outputs": [],
   "source": [
    "# X=train_df.copy()\n",
    "# y=train['Survived'].values"
   ]
  },
  {
   "cell_type": "code",
   "execution_count": 70,
   "id": "35de9e99",
   "metadata": {
    "execution": {
     "iopub.execute_input": "2022-11-26T22:33:45.839863Z",
     "iopub.status.busy": "2022-11-26T22:33:45.838566Z",
     "iopub.status.idle": "2022-11-26T22:33:45.844360Z",
     "shell.execute_reply": "2022-11-26T22:33:45.843250Z"
    },
    "papermill": {
     "duration": 0.059871,
     "end_time": "2022-11-26T22:33:45.847277",
     "exception": false,
     "start_time": "2022-11-26T22:33:45.787406",
     "status": "completed"
    },
    "tags": []
   },
   "outputs": [],
   "source": [
    "X_train = train_df\n",
    "y_train = train[\"Survived\"]\n",
    "X_test  = test_df"
   ]
  },
  {
   "cell_type": "markdown",
   "id": "7497c620",
   "metadata": {
    "papermill": {
     "duration": 0.047829,
     "end_time": "2022-11-26T22:33:45.944946",
     "exception": false,
     "start_time": "2022-11-26T22:33:45.897117",
     "status": "completed"
    },
    "tags": []
   },
   "source": [
    "# **Modelling**"
   ]
  },
  {
   "cell_type": "code",
   "execution_count": 71,
   "id": "76295974",
   "metadata": {
    "execution": {
     "iopub.execute_input": "2022-11-26T22:33:46.042140Z",
     "iopub.status.busy": "2022-11-26T22:33:46.041429Z",
     "iopub.status.idle": "2022-11-26T22:33:46.047027Z",
     "shell.execute_reply": "2022-11-26T22:33:46.045746Z"
    },
    "papermill": {
     "duration": 0.057728,
     "end_time": "2022-11-26T22:33:46.050044",
     "exception": false,
     "start_time": "2022-11-26T22:33:45.992316",
     "status": "completed"
    },
    "tags": []
   },
   "outputs": [],
   "source": [
    "import time\n",
    "from datetime import datetime, timedelta, date\n",
    "from sklearn.model_selection import cross_val_predict\n",
    "from sklearn.metrics import accuracy_score"
   ]
  },
  {
   "cell_type": "code",
   "execution_count": 72,
   "id": "368f8311",
   "metadata": {
    "execution": {
     "iopub.execute_input": "2022-11-26T22:33:46.150625Z",
     "iopub.status.busy": "2022-11-26T22:33:46.149433Z",
     "iopub.status.idle": "2022-11-26T22:33:46.158081Z",
     "shell.execute_reply": "2022-11-26T22:33:46.156434Z"
    },
    "papermill": {
     "duration": 0.059907,
     "end_time": "2022-11-26T22:33:46.160886",
     "exception": false,
     "start_time": "2022-11-26T22:33:46.100979",
     "status": "completed"
    },
    "tags": []
   },
   "outputs": [],
   "source": [
    "def fit_ml_algo(algo, X_train, y_train, cv):\n",
    "    \n",
    "    # One pass\n",
    "    model = algo.fit(X_train, y_train)\n",
    "    acc = round(model.score(X_train, y_train) * 100, 2)\n",
    "\n",
    "    #Cross-validation\n",
    "    train_pred = cross_val_predict(algo, \n",
    "                                    X_train, \n",
    "                                    y_train, \n",
    "                                    cv=cv, \n",
    "                                    n_jobs=-1)\n",
    "\n",
    "    #Cross-validation accuracy metric\n",
    "    acc_cv = round(accuracy_score(y_train, train_pred) * 100, 2)\n",
    "\n",
    "    return train_pred, acc, acc_cv, model"
   ]
  },
  {
   "cell_type": "code",
   "execution_count": 73,
   "id": "0040bb72",
   "metadata": {
    "execution": {
     "iopub.execute_input": "2022-11-26T22:33:46.257055Z",
     "iopub.status.busy": "2022-11-26T22:33:46.256583Z",
     "iopub.status.idle": "2022-11-26T22:33:48.123331Z",
     "shell.execute_reply": "2022-11-26T22:33:48.121510Z"
    },
    "papermill": {
     "duration": 1.919346,
     "end_time": "2022-11-26T22:33:48.126876",
     "exception": false,
     "start_time": "2022-11-26T22:33:46.207530",
     "status": "completed"
    },
    "tags": []
   },
   "outputs": [
    {
     "name": "stdout",
     "output_type": "stream",
     "text": [
      "Accuracy: 85.19\n",
      "Accuracy CV 10-Fold: 81.59\n",
      "Running Time: 0:00:01.856958\n"
     ]
    }
   ],
   "source": [
    "# Decision Tree Classifier\n",
    "start_time = time.time()\n",
    "train_pred_dt, acc_dt, acc_cv_dt, model_dt = fit_ml_algo(DecisionTreeClassifier(), \n",
    "                                                                X_train, \n",
    "                                                                y_train,\n",
    "                                                                10)\n",
    "dt_time = (time.time() - start_time)\n",
    "print(\"Accuracy: %s\" % acc_dt)\n",
    "print(\"Accuracy CV 10-Fold: %s\" % acc_cv_dt)\n",
    "print(\"Running Time: %s\" % timedelta(seconds=dt_time))"
   ]
  },
  {
   "cell_type": "code",
   "execution_count": 74,
   "id": "c00e84c0",
   "metadata": {
    "execution": {
     "iopub.execute_input": "2022-11-26T22:33:48.244362Z",
     "iopub.status.busy": "2022-11-26T22:33:48.243487Z",
     "iopub.status.idle": "2022-11-26T22:33:48.323349Z",
     "shell.execute_reply": "2022-11-26T22:33:48.322149Z"
    },
    "papermill": {
     "duration": 0.133061,
     "end_time": "2022-11-26T22:33:48.326049",
     "exception": false,
     "start_time": "2022-11-26T22:33:48.192988",
     "status": "completed"
    },
    "tags": []
   },
   "outputs": [
    {
     "name": "stdout",
     "output_type": "stream",
     "text": [
      "Accuracy: 79.8\n",
      "Accuracy CV 10-Fold: 78.79\n",
      "Running Time: 0:00:00.071770\n"
     ]
    }
   ],
   "source": [
    "# Gaussian Naive Bayes\n",
    "start_time = time.time()\n",
    "train_pred_gaussian, acc_gaussian, acc_cv_gaussian, model_gaussian = fit_ml_algo(GaussianNB(), \n",
    "                                                                      X_train, \n",
    "                                                                      y_train, \n",
    "                                                                           10)\n",
    "gaussian_time = (time.time() - start_time)\n",
    "print(\"Accuracy: %s\" % acc_gaussian)\n",
    "print(\"Accuracy CV 10-Fold: %s\" % acc_cv_gaussian)\n",
    "print(\"Running Time: %s\" % timedelta(seconds=gaussian_time))"
   ]
  },
  {
   "cell_type": "code",
   "execution_count": 75,
   "id": "e8b9492b",
   "metadata": {
    "execution": {
     "iopub.execute_input": "2022-11-26T22:33:48.427877Z",
     "iopub.status.busy": "2022-11-26T22:33:48.427417Z",
     "iopub.status.idle": "2022-11-26T22:33:49.045156Z",
     "shell.execute_reply": "2022-11-26T22:33:49.043856Z"
    },
    "papermill": {
     "duration": 0.670004,
     "end_time": "2022-11-26T22:33:49.047948",
     "exception": false,
     "start_time": "2022-11-26T22:33:48.377944",
     "status": "completed"
    },
    "tags": []
   },
   "outputs": [
    {
     "name": "stdout",
     "output_type": "stream",
     "text": [
      "Accuracy: 83.84\n",
      "Accuracy CV 10-Fold: 81.48\n",
      "Running Time: 0:00:00.610243\n"
     ]
    }
   ],
   "source": [
    "# Gradient Boosting Trees\n",
    "start_time = time.time()\n",
    "train_pred_gbt, acc_gbt, acc_cv_gbt, model_gbt = fit_ml_algo(GradientBoostingClassifier(), \n",
    "                                                                       X_train, \n",
    "                                                                       y_train,\n",
    "                                                                       10)\n",
    "gbt_time = (time.time() - start_time)\n",
    "print(\"Accuracy: %s\" % acc_gbt)\n",
    "print(\"Accuracy CV 10-Fold: %s\" % acc_cv_gbt)\n",
    "print(\"Running Time: %s\" % timedelta(seconds=gbt_time))"
   ]
  },
  {
   "cell_type": "code",
   "execution_count": 76,
   "id": "007b15de",
   "metadata": {
    "execution": {
     "iopub.execute_input": "2022-11-26T22:33:49.144847Z",
     "iopub.status.busy": "2022-11-26T22:33:49.144413Z",
     "iopub.status.idle": "2022-11-26T22:33:49.345214Z",
     "shell.execute_reply": "2022-11-26T22:33:49.343761Z"
    },
    "papermill": {
     "duration": 0.251236,
     "end_time": "2022-11-26T22:33:49.347792",
     "exception": false,
     "start_time": "2022-11-26T22:33:49.096556",
     "status": "completed"
    },
    "tags": []
   },
   "outputs": [
    {
     "name": "stdout",
     "output_type": "stream",
     "text": [
      "Accuracy: 83.16\n",
      "Accuracy CV 10-Fold: 79.12\n",
      "Running Time: 0:00:00.193548\n"
     ]
    }
   ],
   "source": [
    "# k-Nearest Neighbours\n",
    "start_time = time.time()\n",
    "train_pred_knn, acc_knn, acc_cv_knn, model_knn = fit_ml_algo(KNeighborsClassifier(), \n",
    "                                                  X_train, \n",
    "                                                  y_train, \n",
    "                                                  10)\n",
    "knn_time = (time.time() - start_time)\n",
    "print(\"Accuracy: %s\" % acc_knn)\n",
    "print(\"Accuracy CV 10-Fold: %s\" % acc_cv_knn)\n",
    "print(\"Running Time: %s\" % timedelta(seconds=knn_time))"
   ]
  },
  {
   "cell_type": "code",
   "execution_count": 77,
   "id": "f83e6d50",
   "metadata": {
    "execution": {
     "iopub.execute_input": "2022-11-26T22:33:49.453453Z",
     "iopub.status.busy": "2022-11-26T22:33:49.453005Z",
     "iopub.status.idle": "2022-11-26T22:33:49.627009Z",
     "shell.execute_reply": "2022-11-26T22:33:49.625764Z"
    },
    "papermill": {
     "duration": 0.227144,
     "end_time": "2022-11-26T22:33:49.629745",
     "exception": false,
     "start_time": "2022-11-26T22:33:49.402601",
     "status": "completed"
    },
    "tags": []
   },
   "outputs": [
    {
     "name": "stdout",
     "output_type": "stream",
     "text": [
      "Accuracy: 80.36\n",
      "Accuracy CV 10-Fold: 80.25\n",
      "Running Time: 0:00:00.167093\n"
     ]
    }
   ],
   "source": [
    "# Linear SVC\n",
    "start_time = time.time()\n",
    "train_pred_svc, acc_linear_svc, acc_cv_linear_svc, model_linear_svc = fit_ml_algo(LinearSVC(),\n",
    "                                                                X_train, \n",
    "                                                                y_train, \n",
    "                                                                10)\n",
    "linear_svc_time = (time.time() - start_time)\n",
    "print(\"Accuracy: %s\" % acc_linear_svc)\n",
    "print(\"Accuracy CV 10-Fold: %s\" % acc_cv_linear_svc)\n",
    "print(\"Running Time: %s\" % timedelta(seconds=linear_svc_time))"
   ]
  },
  {
   "cell_type": "code",
   "execution_count": 78,
   "id": "2f6c62db",
   "metadata": {
    "execution": {
     "iopub.execute_input": "2022-11-26T22:33:49.734339Z",
     "iopub.status.busy": "2022-11-26T22:33:49.733886Z",
     "iopub.status.idle": "2022-11-26T22:33:49.942241Z",
     "shell.execute_reply": "2022-11-26T22:33:49.941000Z"
    },
    "papermill": {
     "duration": 0.265294,
     "end_time": "2022-11-26T22:33:49.945181",
     "exception": false,
     "start_time": "2022-11-26T22:33:49.679887",
     "status": "completed"
    },
    "tags": []
   },
   "outputs": [
    {
     "name": "stdout",
     "output_type": "stream",
     "text": [
      "Accuracy: 80.7\n",
      "Accuracy CV 10-Fold: 80.92\n",
      "Running Time: 0:00:00.200808\n"
     ]
    }
   ],
   "source": [
    "#Logistic regression\n",
    "start_time = time.time()\n",
    "train_pred_log, acc_log, acc_cv_log, model_log = fit_ml_algo(LogisticRegression(),\n",
    "                                                  X_train,\n",
    "                                                  y_train,\n",
    "                                                  10)\n",
    "log_time = (time.time()- start_time)\n",
    "print('Accuracy: %s' % acc_log)\n",
    "print('Accuracy CV 10-Fold: %s' % acc_cv_log)\n",
    "print('Running Time: %s' % timedelta(seconds=log_time))"
   ]
  },
  {
   "cell_type": "code",
   "execution_count": 79,
   "id": "55685b41",
   "metadata": {
    "execution": {
     "iopub.execute_input": "2022-11-26T22:33:50.045637Z",
     "iopub.status.busy": "2022-11-26T22:33:50.045162Z",
     "iopub.status.idle": "2022-11-26T22:33:50.228024Z",
     "shell.execute_reply": "2022-11-26T22:33:50.227009Z"
    },
    "papermill": {
     "duration": 0.234379,
     "end_time": "2022-11-26T22:33:50.230809",
     "exception": false,
     "start_time": "2022-11-26T22:33:49.996430",
     "status": "completed"
    },
    "tags": []
   },
   "outputs": [
    {
     "name": "stdout",
     "output_type": "stream",
     "text": [
      "Accuracy: 81.71\n",
      "Accuracy CV 10-Fold: 76.54\n",
      "Running Time: 0:00:00.175977\n"
     ]
    }
   ],
   "source": [
    "# Stochastic Gradient Descent\n",
    "start_time = time.time()\n",
    "train_pred_sgd, acc_sgd, acc_cv_sgd, model_sgd = fit_ml_algo(SGDClassifier(), \n",
    "                                                  X_train, \n",
    "                                                  y_train,\n",
    "                                                  10)\n",
    "sgd_time = (time.time() - start_time)\n",
    "print(\"Accuracy: %s\" % acc_sgd)\n",
    "print(\"Accuracy CV 10-Fold: %s\" % acc_cv_sgd)\n",
    "print(\"Running Time: %s\" % timedelta(seconds=sgd_time))"
   ]
  },
  {
   "cell_type": "code",
   "execution_count": 80,
   "id": "46620ec2",
   "metadata": {
    "execution": {
     "iopub.execute_input": "2022-11-26T22:33:50.326886Z",
     "iopub.status.busy": "2022-11-26T22:33:50.326350Z",
     "iopub.status.idle": "2022-11-26T22:33:51.851101Z",
     "shell.execute_reply": "2022-11-26T22:33:51.849257Z"
    },
    "papermill": {
     "duration": 1.575516,
     "end_time": "2022-11-26T22:33:51.853593",
     "exception": false,
     "start_time": "2022-11-26T22:33:50.278077",
     "status": "completed"
    },
    "tags": []
   },
   "outputs": [
    {
     "name": "stdout",
     "output_type": "stream",
     "text": [
      "Accuracy: 85.19\n",
      "Accuracy CV 10-Fold: 81.71\n",
      "Running Time: 0:00:01.516427\n"
     ]
    }
   ],
   "source": [
    "#Random forest\n",
    "start_time = time.time()\n",
    "train_pred_rf, acc_rf, acc_cv_rf, model_rf = fit_ml_algo(RandomForestClassifier(n_estimators=100,oob_score=True), \n",
    "                                                  X_train, \n",
    "                                                  y_train,\n",
    "                                                  10)\n",
    "rf_time = (time.time() - start_time)\n",
    "print(\"Accuracy: %s\" % acc_rf)\n",
    "print(\"Accuracy CV 10-Fold: %s\" % acc_cv_rf)\n",
    "print(\"Running Time: %s\" % timedelta(seconds=rf_time))"
   ]
  },
  {
   "cell_type": "code",
   "execution_count": 81,
   "id": "c0fc5251",
   "metadata": {
    "execution": {
     "iopub.execute_input": "2022-11-26T22:33:52.049805Z",
     "iopub.status.busy": "2022-11-26T22:33:52.049379Z",
     "iopub.status.idle": "2022-11-26T22:33:52.220309Z",
     "shell.execute_reply": "2022-11-26T22:33:52.219131Z"
    },
    "papermill": {
     "duration": 0.225213,
     "end_time": "2022-11-26T22:33:52.223015",
     "exception": false,
     "start_time": "2022-11-26T22:33:51.997802",
     "status": "completed"
    },
    "tags": []
   },
   "outputs": [
    {
     "name": "stdout",
     "output_type": "stream",
     "text": [
      "Accuracy: 81.14\n",
      "Accuracy CV 10-Fold: 78.79\n",
      "Running Time: 0:00:00.164164\n"
     ]
    }
   ],
   "source": [
    "#Perceptron\n",
    "start_time = time.time()\n",
    "train_pred_per, acc_per, acc_cv_per, model_per = fit_ml_algo(Perceptron(max_iter=5), \n",
    "                                                  X_train, \n",
    "                                                  y_train,\n",
    "                                                  10)\n",
    "per_time = (time.time() - start_time)\n",
    "print(\"Accuracy: %s\" % acc_per)\n",
    "print(\"Accuracy CV 10-Fold: %s\" % acc_cv_per)\n",
    "print(\"Running Time: %s\" % timedelta(seconds=per_time))"
   ]
  },
  {
   "cell_type": "code",
   "execution_count": 82,
   "id": "59bc5725",
   "metadata": {
    "execution": {
     "iopub.execute_input": "2022-11-26T22:33:52.325049Z",
     "iopub.status.busy": "2022-11-26T22:33:52.324236Z",
     "iopub.status.idle": "2022-11-26T22:33:53.698875Z",
     "shell.execute_reply": "2022-11-26T22:33:53.697432Z"
    },
    "papermill": {
     "duration": 1.429831,
     "end_time": "2022-11-26T22:33:53.703860",
     "exception": false,
     "start_time": "2022-11-26T22:33:52.274029",
     "status": "completed"
    },
    "tags": []
   },
   "outputs": [
    {
     "name": "stdout",
     "output_type": "stream",
     "text": [
      "Accuracy: 85.19\n",
      "Accuracy CV 10-Fold: 81.26\n",
      "Running Time: 0:00:01.366189\n"
     ]
    }
   ],
   "source": [
    "#Adaboost\n",
    "start_time = time.time()\n",
    "dtree=DecisionTreeClassifier()\n",
    "train_pred_adb, acc_adb, acc_cv_adb, model_adb = fit_ml_algo(\n",
    "                                                  AdaBoostClassifier(n_estimators=100, base_estimator=dtree, learning_rate=1), \n",
    "                                                  X_train, \n",
    "                                                  y_train,\n",
    "                                                  10)\n",
    "adb_time = (time.time() - start_time)\n",
    "print(\"Accuracy: %s\" % acc_adb)\n",
    "print(\"Accuracy CV 10-Fold: %s\" % acc_cv_adb)\n",
    "print(\"Running Time: %s\" % timedelta(seconds=adb_time))"
   ]
  },
  {
   "cell_type": "code",
   "execution_count": 83,
   "id": "33e46c34",
   "metadata": {
    "execution": {
     "iopub.execute_input": "2022-11-26T22:33:53.806897Z",
     "iopub.status.busy": "2022-11-26T22:33:53.806325Z",
     "iopub.status.idle": "2022-11-26T22:33:56.244285Z",
     "shell.execute_reply": "2022-11-26T22:33:56.243074Z"
    },
    "papermill": {
     "duration": 2.491311,
     "end_time": "2022-11-26T22:33:56.246910",
     "exception": false,
     "start_time": "2022-11-26T22:33:53.755599",
     "status": "completed"
    },
    "tags": []
   },
   "outputs": [
    {
     "name": "stdout",
     "output_type": "stream",
     "text": [
      "Accuracy: 78.23\n",
      "Accuracy CV 10-Fold: 78.0\n",
      "Running Time: 0:00:02.429928\n"
     ]
    }
   ],
   "source": [
    "#XGBoost\n",
    "start_time = time.time()\n",
    "train_pred_xgb, acc_xgb, acc_cv_xgb, model_xgb = fit_ml_algo(\n",
    "                                                  XGBClassifier(learning_rate=0.001, max_depth=1, n_estimators=100), \n",
    "                                                  X_train, \n",
    "                                                  y_train,\n",
    "                                                  10)\n",
    "xgb_time = (time.time() - start_time)\n",
    "print(\"Accuracy: %s\" % acc_xgb)\n",
    "print(\"Accuracy CV 10-Fold: %s\" % acc_cv_xgb)\n",
    "print(\"Running Time: %s\" % timedelta(seconds=xgb_time))"
   ]
  },
  {
   "cell_type": "code",
   "execution_count": 84,
   "id": "5a563987",
   "metadata": {
    "execution": {
     "iopub.execute_input": "2022-11-26T22:33:56.349094Z",
     "iopub.status.busy": "2022-11-26T22:33:56.348671Z",
     "iopub.status.idle": "2022-11-26T22:33:56.357850Z",
     "shell.execute_reply": "2022-11-26T22:33:56.356648Z"
    },
    "papermill": {
     "duration": 0.063732,
     "end_time": "2022-11-26T22:33:56.361029",
     "exception": false,
     "start_time": "2022-11-26T22:33:56.297297",
     "status": "completed"
    },
    "tags": []
   },
   "outputs": [
    {
     "data": {
      "text/plain": [
       "array([ 0,  3,  4,  5,  6,  7,  8,  9, 10, 11, 12, 13, 14, 15, 16, 17, 18])"
      ]
     },
     "execution_count": 84,
     "metadata": {},
     "output_type": "execute_result"
    }
   ],
   "source": [
    "# Define the categorical features for the CatBoost model\n",
    "cat_features = np.where(X_train.dtypes != np.float)[0]\n",
    "# cat_features = X_train.columns\n",
    "cat_features"
   ]
  },
  {
   "cell_type": "code",
   "execution_count": 85,
   "id": "29f87ee6",
   "metadata": {
    "execution": {
     "iopub.execute_input": "2022-11-26T22:33:56.459348Z",
     "iopub.status.busy": "2022-11-26T22:33:56.458847Z",
     "iopub.status.idle": "2022-11-26T22:33:56.600885Z",
     "shell.execute_reply": "2022-11-26T22:33:56.598749Z"
    },
    "papermill": {
     "duration": 0.194603,
     "end_time": "2022-11-26T22:33:56.603498",
     "exception": true,
     "start_time": "2022-11-26T22:33:56.408895",
     "status": "failed"
    },
    "tags": []
   },
   "outputs": [
    {
     "ename": "NameError",
     "evalue": "name 'Pool' is not defined",
     "output_type": "error",
     "traceback": [
      "\u001b[0;31m---------------------------------------------------------------------------\u001b[0m",
      "\u001b[0;31mNameError\u001b[0m                                 Traceback (most recent call last)",
      "\u001b[0;32m/tmp/ipykernel_19/2224507940.py\u001b[0m in \u001b[0;36m<module>\u001b[0;34m\u001b[0m\n\u001b[1;32m      1\u001b[0m \u001b[0;31m# Use the CatBoost Pool() function to pool together the training data and categorical feature labels\u001b[0m\u001b[0;34m\u001b[0m\u001b[0;34m\u001b[0m\u001b[0;34m\u001b[0m\u001b[0m\n\u001b[0;32m----> 2\u001b[0;31m train_pool = Pool(X_train, \n\u001b[0m\u001b[1;32m      3\u001b[0m                   \u001b[0my_train\u001b[0m\u001b[0;34m,\u001b[0m\u001b[0;34m\u001b[0m\u001b[0;34m\u001b[0m\u001b[0m\n\u001b[1;32m      4\u001b[0m                   cat_features)\n",
      "\u001b[0;31mNameError\u001b[0m: name 'Pool' is not defined"
     ]
    }
   ],
   "source": [
    "# Use the CatBoost Pool() function to pool together the training data and categorical feature labels\n",
    "train_pool = Pool(X_train, \n",
    "                  y_train,\n",
    "                  cat_features)\n"
   ]
  },
  {
   "cell_type": "code",
   "execution_count": null,
   "id": "f7f64485",
   "metadata": {
    "papermill": {
     "duration": null,
     "end_time": null,
     "exception": null,
     "start_time": null,
     "status": "pending"
    },
    "tags": []
   },
   "outputs": [],
   "source": [
    "# CatBoost model definition\n",
    "catboost_model = CatBoostClassifier(iterations=1000,\n",
    "                                    custom_loss=['Accuracy'],\n",
    "                                    loss_function='Logloss')\n",
    "\n",
    "# Fit CatBoost model\n",
    "catboost_model.fit(train_pool,\n",
    "                   plot=True)\n",
    "\n",
    "# CatBoost accuracy\n",
    "acc_catboost = round(catboost_model.score(X_train, y_train) * 100, 2)"
   ]
  },
  {
   "cell_type": "code",
   "execution_count": null,
   "id": "badbdabb",
   "metadata": {
    "papermill": {
     "duration": null,
     "end_time": null,
     "exception": null,
     "start_time": null,
     "status": "pending"
    },
    "tags": []
   },
   "outputs": [],
   "source": [
    "# How long will this take?\n",
    "start_time = time.time()\n",
    "\n",
    "# Set params for cross-validation as same as initial model\n",
    "cv_params = catboost_model.get_params()\n",
    "\n",
    "# Run the cross-validation for 10-folds (same as the other models)\n",
    "cv_data = cv(train_pool,\n",
    "             cv_params,\n",
    "             fold_count=10,\n",
    "             plot=True)\n",
    "\n",
    "# How long did it take?\n",
    "catboost_time = (time.time() - start_time)\n",
    "\n",
    "# CatBoost CV results save into a dataframe (cv_data), let's withdraw the maximum accuracy score\n",
    "acc_cv_catboost = round(np.max(cv_data['test-Accuracy-mean']) * 100, 2)\n"
   ]
  },
  {
   "cell_type": "code",
   "execution_count": null,
   "id": "9d4d2a83",
   "metadata": {
    "papermill": {
     "duration": null,
     "end_time": null,
     "exception": null,
     "start_time": null,
     "status": "pending"
    },
    "tags": []
   },
   "outputs": [],
   "source": [
    "# Print out the CatBoost model metrics\n",
    "print(\"---CatBoost Metrics---\")\n",
    "print(\"Accuracy: {}\".format(acc_catboost))\n",
    "print(\"Accuracy cross-validation 10-Fold: {}\".format(acc_cv_catboost))\n",
    "print(\"Running Time: {}\".format(datetime.timedelta(seconds=catboost_time)))"
   ]
  },
  {
   "cell_type": "code",
   "execution_count": null,
   "id": "83ea5238",
   "metadata": {
    "execution": {
     "iopub.execute_input": "2022-11-26T21:56:12.120817Z",
     "iopub.status.busy": "2022-11-26T21:56:12.120416Z",
     "iopub.status.idle": "2022-11-26T21:56:12.130381Z",
     "shell.execute_reply": "2022-11-26T21:56:12.128793Z",
     "shell.execute_reply.started": "2022-11-26T21:56:12.120781Z"
    },
    "papermill": {
     "duration": null,
     "end_time": null,
     "exception": null,
     "start_time": null,
     "status": "pending"
    },
    "tags": []
   },
   "outputs": [],
   "source": [
    "def ANN(X_train, y_train, loss, weights):\n",
    "    model = keras.sequential([\n",
    "        keras.layers.Dense(26, input_dim=26, activation='relu')\n",
    "        keras.layers.Dense(15, activation='relu')\n",
    "        keras.layers.Dense(1, activation='sigmoid')\n",
    "    ])\n",
    "    model.compile(optimiser='Adam', loss=loss, metrics='accuracy')\n",
    "    \n",
    "    if weights == -1:\n",
    "        model.fit(X_train, y_train, epochs=100)\n",
    "    else:\n",
    "        model.fit(X_train, y_train, epochs=100, class_weight = weights)\n",
    "    \n",
    "    #print(model.evaluate(X_test, y_test))\n",
    "    \n",
    "    y_preds = model.predict(X_test)\n",
    "    y_preds = np.round(y_preds)\n",
    "    \n",
    "    #print('Classification Report: \\n', classification_report(y_test,y_preds))\n",
    "    return y_preds\n",
    "    "
   ]
  },
  {
   "cell_type": "code",
   "execution_count": null,
   "id": "8d8240a5",
   "metadata": {
    "papermill": {
     "duration": null,
     "end_time": null,
     "exception": null,
     "start_time": null,
     "status": "pending"
    },
    "tags": []
   },
   "outputs": [],
   "source": [
    "ANN_y_preds = ANN(X_train, y_train, 'binary_crossentropy', -1)"
   ]
  },
  {
   "cell_type": "code",
   "execution_count": null,
   "id": "78418b9f",
   "metadata": {
    "execution": {
     "iopub.execute_input": "2022-11-26T22:31:53.937170Z",
     "iopub.status.busy": "2022-11-26T22:31:53.936462Z",
     "iopub.status.idle": "2022-11-26T22:31:53.953847Z",
     "shell.execute_reply": "2022-11-26T22:31:53.952667Z",
     "shell.execute_reply.started": "2022-11-26T22:31:53.937123Z"
    },
    "papermill": {
     "duration": null,
     "end_time": null,
     "exception": null,
     "start_time": null,
     "status": "pending"
    },
    "tags": []
   },
   "outputs": [],
   "source": [
    "models = pd.DataFrame({\n",
    "    'Model': ['KNN', 'Logistic Regression', 'Naive Bayes', \n",
    "              'Stochastic Gradient Decent', 'Linear SVC', \n",
    "              'Decision Tree', 'Gradient Boosting Trees'\n",
    "              #,'CatBoost'\n",
    "             ],\n",
    "    'Score': [\n",
    "        acc_knn, \n",
    "        acc_log,  \n",
    "        acc_gaussian, \n",
    "        acc_sgd, \n",
    "        acc_linear_svc, \n",
    "        acc_dt,\n",
    "        acc_gbt,\n",
    "        #acc_catboost\n",
    "    ]})\n",
    "print(\"---Reuglar Accuracy Scores---\")\n",
    "result_df = models.sort_values(by='Score', ascending=False)\n",
    "result_df = result_df.set_index('Score')\n",
    "result_df"
   ]
  },
  {
   "cell_type": "code",
   "execution_count": null,
   "id": "d4cd56e2",
   "metadata": {
    "execution": {
     "iopub.execute_input": "2022-11-26T22:32:19.814911Z",
     "iopub.status.busy": "2022-11-26T22:32:19.814529Z",
     "iopub.status.idle": "2022-11-26T22:32:19.830549Z",
     "shell.execute_reply": "2022-11-26T22:32:19.829215Z",
     "shell.execute_reply.started": "2022-11-26T22:32:19.814877Z"
    },
    "papermill": {
     "duration": null,
     "end_time": null,
     "exception": null,
     "start_time": null,
     "status": "pending"
    },
    "tags": []
   },
   "outputs": [],
   "source": [
    "cv_models = pd.DataFrame({\n",
    "    'Model': ['KNN', 'Logistic Regression', 'Naive Bayes', \n",
    "              'Stochastic Gradient Decent', 'Linear SVC', \n",
    "              'Decision Tree', 'Gradient Boosting Trees'\n",
    "              #,'CatBoost'\n",
    "             ],\n",
    "    'Score': [\n",
    "        acc_cv_knn, \n",
    "        acc_cv_log,      \n",
    "        acc_cv_gaussian, \n",
    "        acc_cv_sgd, \n",
    "        acc_cv_linear_svc, \n",
    "        acc_cv_dt,\n",
    "        acc_cv_gbt\n",
    "        #,acc_cv_catboost\n",
    "    ]})\n",
    "print('---Cross-validation Accuracy Scores---')\n",
    "cv_result_df = cv_models.sort_values(by='Score', ascending=False)\n",
    "cv_result_df = cv_result_df.set_index('Score')\n",
    "cv_result_df"
   ]
  },
  {
   "cell_type": "code",
   "execution_count": null,
   "id": "6a36b0eb",
   "metadata": {
    "execution": {
     "iopub.execute_input": "2022-11-26T22:31:56.714552Z",
     "iopub.status.busy": "2022-11-26T22:31:56.713865Z",
     "iopub.status.idle": "2022-11-26T22:31:56.722552Z",
     "shell.execute_reply": "2022-11-26T22:31:56.721394Z",
     "shell.execute_reply.started": "2022-11-26T22:31:56.714516Z"
    },
    "papermill": {
     "duration": null,
     "end_time": null,
     "exception": null,
     "start_time": null,
     "status": "pending"
    },
    "tags": []
   },
   "outputs": [],
   "source": [
    "\"\"\"#Best Model\n",
    "results = pd.DataFrame({\n",
    "    'Model': ['Support Vector Machines', 'KNN', 'Logistic Regression', \n",
    "              'Random Forest', 'Naive Bayes', 'Perceptron', \n",
    "              'Stochastic Gradient Decent', \n",
    "              'Decision Tree'],\n",
    "    'Score': [acc_linear_svc, acc_knn, acc_log, \n",
    "              acc_random_forest, acc_gaussian, acc_perceptron, \n",
    "              acc_sgd, acc_decision_tree]})\n",
    "result_df = results.sort_values(by='Score', ascending=False)\n",
    "result_df = result_df.set_index('Score')\n",
    "result_df.head(9)\"\"\""
   ]
  },
  {
   "cell_type": "code",
   "execution_count": null,
   "id": "2972f7c3",
   "metadata": {
    "execution": {
     "iopub.execute_input": "2022-11-26T22:32:29.845768Z",
     "iopub.status.busy": "2022-11-26T22:32:29.845373Z",
     "iopub.status.idle": "2022-11-26T22:32:29.854862Z",
     "shell.execute_reply": "2022-11-26T22:32:29.853344Z",
     "shell.execute_reply.started": "2022-11-26T22:32:29.845735Z"
    },
    "papermill": {
     "duration": null,
     "end_time": null,
     "exception": null,
     "start_time": null,
     "status": "pending"
    },
    "tags": []
   },
   "outputs": [],
   "source": [
    "# Make a prediction using the Gradient boost\n",
    "prediction_gb = model_gbt.predict(X_test)"
   ]
  },
  {
   "cell_type": "code",
   "execution_count": null,
   "id": "450f0a0f",
   "metadata": {
    "execution": {
     "iopub.execute_input": "2022-11-26T22:31:59.976581Z",
     "iopub.status.busy": "2022-11-26T22:31:59.975886Z",
     "iopub.status.idle": "2022-11-26T22:31:59.982700Z",
     "shell.execute_reply": "2022-11-26T22:31:59.981711Z",
     "shell.execute_reply.started": "2022-11-26T22:31:59.976546Z"
    },
    "papermill": {
     "duration": null,
     "end_time": null,
     "exception": null,
     "start_time": null,
     "status": "pending"
    },
    "tags": []
   },
   "outputs": [],
   "source": [
    "# Make a prediction using the Gradient boost\n",
    "prediction_dt = model_dt.predict(X_test)"
   ]
  },
  {
   "cell_type": "code",
   "execution_count": null,
   "id": "31204afd",
   "metadata": {
    "execution": {
     "iopub.execute_input": "2022-11-26T22:32:00.897043Z",
     "iopub.status.busy": "2022-11-26T22:32:00.896484Z",
     "iopub.status.idle": "2022-11-26T22:32:00.946087Z",
     "shell.execute_reply": "2022-11-26T22:32:00.944457Z",
     "shell.execute_reply.started": "2022-11-26T22:32:00.897010Z"
    },
    "papermill": {
     "duration": null,
     "end_time": null,
     "exception": null,
     "start_time": null,
     "status": "pending"
    },
    "tags": []
   },
   "outputs": [],
   "source": [
    "# Make a prediction using the Gradient boost\n",
    "prediction_knn = model_knn.predict(X_test)"
   ]
  },
  {
   "cell_type": "code",
   "execution_count": null,
   "id": "417e176d",
   "metadata": {
    "execution": {
     "iopub.execute_input": "2022-11-26T22:32:44.266546Z",
     "iopub.status.busy": "2022-11-26T22:32:44.265726Z",
     "iopub.status.idle": "2022-11-26T22:32:44.279913Z",
     "shell.execute_reply": "2022-11-26T22:32:44.278558Z",
     "shell.execute_reply.started": "2022-11-26T22:32:44.266499Z"
    },
    "papermill": {
     "duration": null,
     "end_time": null,
     "exception": null,
     "start_time": null,
     "status": "pending"
    },
    "tags": []
   },
   "outputs": [],
   "source": [
    "output = prediction_gb\n",
    "df_output = pd.DataFrame()\n",
    "aux = test.copy()\n",
    "df_output['PassengerId'] = aux['PassengerId']\n",
    "df_output['Survived'] = output\n",
    "df_output[['PassengerId','Survived']].to_csv('Submission_gb.csv',index=False)"
   ]
  },
  {
   "cell_type": "code",
   "execution_count": null,
   "id": "0b1611cc",
   "metadata": {
    "execution": {
     "iopub.execute_input": "2022-11-26T22:08:03.659422Z",
     "iopub.status.busy": "2022-11-26T22:08:03.659018Z",
     "iopub.status.idle": "2022-11-26T22:08:03.680722Z",
     "shell.execute_reply": "2022-11-26T22:08:03.679259Z",
     "shell.execute_reply.started": "2022-11-26T22:08:03.659388Z"
    },
    "papermill": {
     "duration": null,
     "end_time": null,
     "exception": null,
     "start_time": null,
     "status": "pending"
    },
    "tags": []
   },
   "outputs": [],
   "source": [
    "output = y_prediction\n",
    "df_output = pd.DataFrame()\n",
    "aux = test.copy()\n",
    "submission['ID'] = aux['PassengerId']\n",
    "submission['Response'] = output\n",
    "submission[['ID','Response']].to_csv('name.csv',index=False)"
   ]
  },
  {
   "cell_type": "code",
   "execution_count": null,
   "id": "62b15bee",
   "metadata": {
    "papermill": {
     "duration": null,
     "end_time": null,
     "exception": null,
     "start_time": null,
     "status": "pending"
    },
    "tags": []
   },
   "outputs": [],
   "source": [
    "# Let's convert our submission dataframe 'Response' column to ints\n",
    "submission['Response'] = submission['Response'].astype(int)\n",
    "print('Converted Response column to integers.')"
   ]
  },
  {
   "cell_type": "code",
   "execution_count": null,
   "id": "2a6cb38e",
   "metadata": {
    "papermill": {
     "duration": null,
     "end_time": null,
     "exception": null,
     "start_time": null,
     "status": "pending"
    },
    "tags": []
   },
   "outputs": [],
   "source": [
    "pd.read_csv('Submission.csv')"
   ]
  },
  {
   "cell_type": "code",
   "execution_count": null,
   "id": "f767bb40",
   "metadata": {
    "papermill": {
     "duration": null,
     "end_time": null,
     "exception": null,
     "start_time": null,
     "status": "pending"
    },
    "tags": []
   },
   "outputs": [],
   "source": []
  },
  {
   "cell_type": "code",
   "execution_count": null,
   "id": "8d3e9de6",
   "metadata": {
    "papermill": {
     "duration": null,
     "end_time": null,
     "exception": null,
     "start_time": null,
     "status": "pending"
    },
    "tags": []
   },
   "outputs": [],
   "source": [
    "rfecv = RFECV(estimator=clf_lr, step=1, scoring='accuracy')\n",
    "rfecv = rfecv.fit(X_train, y_train)\n",
    "print('Optimal number of features:', rfecv.n_features)\n",
    "print('Best features:', X_train.columns[rfecv.support])"
   ]
  },
  {
   "cell_type": "code",
   "execution_count": null,
   "id": "087224b6",
   "metadata": {
    "papermill": {
     "duration": null,
     "end_time": null,
     "exception": null,
     "start_time": null,
     "status": "pending"
    },
    "tags": []
   },
   "outputs": [],
   "source": [
    "rfecv.grid_scores_"
   ]
  },
  {
   "cell_type": "code",
   "execution_count": null,
   "id": "f06d6c29",
   "metadata": {
    "papermill": {
     "duration": null,
     "end_time": null,
     "exception": null,
     "start_time": null,
     "status": "pending"
    },
    "tags": []
   },
   "outputs": [],
   "source": [
    "plt.figure()\n",
    "plt.xlabel('Number of features selected')\n",
    "plt.ylabel('Cross validation score of number of selcted features')\n",
    "plt.plot(range(1, len(rfecv.grid_scores_)+1), rfecv.grid_scores_)\n",
    "plt.show()"
   ]
  },
  {
   "cell_type": "code",
   "execution_count": null,
   "id": "122cd979",
   "metadata": {
    "papermill": {
     "duration": null,
     "end_time": null,
     "exception": null,
     "start_time": null,
     "status": "pending"
    },
    "tags": []
   },
   "outputs": [],
   "source": [
    "def generate_accuracy_scores(model, X, y):\n",
    "    ac = accuracy_score(y, model.predict(X))\n",
    "    f_score = f1_score(y, model.predict(X))\n",
    "    print('Accuracy is:', ac)\n",
    "    print('F1 score is:', f_score)\n",
    "    print('\\n')\n",
    "    print(pd.crosstab(pd.Series(model.predict(X), name='Predicted'), pd.Series(y['outcome'], name='Actual')))"
   ]
  },
  {
   "cell_type": "code",
   "execution_count": null,
   "id": "b2add07c",
   "metadata": {
    "papermill": {
     "duration": null,
     "end_time": null,
     "exception": null,
     "start_time": null,
     "status": "pending"
    },
    "tags": []
   },
   "outputs": [],
   "source": []
  },
  {
   "cell_type": "code",
   "execution_count": null,
   "id": "ed452591",
   "metadata": {
    "papermill": {
     "duration": null,
     "end_time": null,
     "exception": null,
     "start_time": null,
     "status": "pending"
    },
    "tags": []
   },
   "outputs": [],
   "source": [
    "#Stochastic gradient descent"
   ]
  },
  {
   "cell_type": "code",
   "execution_count": null,
   "id": "8ceeabb0",
   "metadata": {
    "papermill": {
     "duration": null,
     "end_time": null,
     "exception": null,
     "start_time": null,
     "status": "pending"
    },
    "tags": []
   },
   "outputs": [],
   "source": [
    "sgd = linear_model.SGDClassifier(max_iter=5, tol=None)\n",
    "sgd.fit(X_train, Y_train)\n",
    "Y_pred = sgd.predict(X_test)\n",
    "\n",
    "sgd.score(X_train, Y_train)\n",
    "\n",
    "acc_sgd = round(sgd.score(X_train, Y_train) * 100, 2)"
   ]
  },
  {
   "cell_type": "code",
   "execution_count": null,
   "id": "cdeafb68",
   "metadata": {
    "papermill": {
     "duration": null,
     "end_time": null,
     "exception": null,
     "start_time": null,
     "status": "pending"
    },
    "tags": []
   },
   "outputs": [],
   "source": [
    "#Random forest"
   ]
  },
  {
   "cell_type": "code",
   "execution_count": null,
   "id": "ca220bfb",
   "metadata": {
    "papermill": {
     "duration": null,
     "end_time": null,
     "exception": null,
     "start_time": null,
     "status": "pending"
    },
    "tags": []
   },
   "outputs": [],
   "source": [
    "random_forest = RandomForestClassifier(n_estimators=100,oob_score=True)\n",
    "random_forest.fit(X_train, Y_train)\n",
    "\n",
    "Y_prediction = random_forest.predict(X_test)\n",
    "\n",
    "random_forest.score(X_train, Y_train)\n",
    "acc_random_forest = round(random_forest.score(X_train, Y_train) * 100, 2)"
   ]
  },
  {
   "cell_type": "code",
   "execution_count": null,
   "id": "6562971d",
   "metadata": {
    "papermill": {
     "duration": null,
     "end_time": null,
     "exception": null,
     "start_time": null,
     "status": "pending"
    },
    "tags": []
   },
   "outputs": [],
   "source": [
    "#Logistic Regression"
   ]
  },
  {
   "cell_type": "code",
   "execution_count": null,
   "id": "86b093e9",
   "metadata": {
    "papermill": {
     "duration": null,
     "end_time": null,
     "exception": null,
     "start_time": null,
     "status": "pending"
    },
    "tags": []
   },
   "outputs": [],
   "source": [
    "logreg = LogisticRegression()\n",
    "logreg.fit(X_train, Y_train)\n",
    "\n",
    "Y_pred = logreg.predict(X_test)\n",
    "\n",
    "acc_log = round(logreg.score(X_train, Y_train) * 100, 2)"
   ]
  },
  {
   "cell_type": "code",
   "execution_count": null,
   "id": "2c3efe00",
   "metadata": {
    "papermill": {
     "duration": null,
     "end_time": null,
     "exception": null,
     "start_time": null,
     "status": "pending"
    },
    "tags": []
   },
   "outputs": [],
   "source": [
    "#KNN"
   ]
  },
  {
   "cell_type": "code",
   "execution_count": null,
   "id": "989ec299",
   "metadata": {
    "papermill": {
     "duration": null,
     "end_time": null,
     "exception": null,
     "start_time": null,
     "status": "pending"
    },
    "tags": []
   },
   "outputs": [],
   "source": [
    "knn = KNeighborsClassifier(n_neighbors = 3) \n",
    "knn.fit(X_train, Y_train)  \n",
    "Y_pred = knn.predict(X_test)  \n",
    "acc_knn = round(knn.score(X_train, Y_train) * 100, 2)"
   ]
  },
  {
   "cell_type": "code",
   "execution_count": null,
   "id": "83d3ef3c",
   "metadata": {
    "papermill": {
     "duration": null,
     "end_time": null,
     "exception": null,
     "start_time": null,
     "status": "pending"
    },
    "tags": []
   },
   "outputs": [],
   "source": [
    "gaussian = GaussianNB() \n",
    "gaussian.fit(X_train, Y_train)  \n",
    "Y_pred = gaussian.predict(X_test)  \n",
    "acc_gaussian = round(gaussian.score(X_train, Y_train) * 100, 2)"
   ]
  },
  {
   "cell_type": "code",
   "execution_count": null,
   "id": "0a54deea",
   "metadata": {
    "papermill": {
     "duration": null,
     "end_time": null,
     "exception": null,
     "start_time": null,
     "status": "pending"
    },
    "tags": []
   },
   "outputs": [],
   "source": [
    "#Perceptron"
   ]
  },
  {
   "cell_type": "code",
   "execution_count": null,
   "id": "13a74ffb",
   "metadata": {
    "papermill": {
     "duration": null,
     "end_time": null,
     "exception": null,
     "start_time": null,
     "status": "pending"
    },
    "tags": []
   },
   "outputs": [],
   "source": [
    "perceptron = Perceptron(max_iter=5)\n",
    "perceptron.fit(X_train, Y_train)\n",
    "\n",
    "Y_pred = perceptron.predict(X_test)\n",
    "\n",
    "acc_perceptron = round(perceptron.score(X_train, Y_train) * 100, 2)"
   ]
  },
  {
   "cell_type": "code",
   "execution_count": null,
   "id": "00cb278b",
   "metadata": {
    "papermill": {
     "duration": null,
     "end_time": null,
     "exception": null,
     "start_time": null,
     "status": "pending"
    },
    "tags": []
   },
   "outputs": [],
   "source": [
    "#Linear SVM"
   ]
  },
  {
   "cell_type": "code",
   "execution_count": null,
   "id": "3f32efa4",
   "metadata": {
    "papermill": {
     "duration": null,
     "end_time": null,
     "exception": null,
     "start_time": null,
     "status": "pending"
    },
    "tags": []
   },
   "outputs": [],
   "source": [
    "linear_svc = LinearSVC()\n",
    "linear_svc.fit(X_train, Y_train)\n",
    "\n",
    "Y_pred = linear_svc.predict(X_test)\n",
    "\n",
    "acc_linear_svc = round(linear_svc.score(X_train, Y_train) * 100, 2)"
   ]
  },
  {
   "cell_type": "code",
   "execution_count": null,
   "id": "ee50d3e5",
   "metadata": {
    "papermill": {
     "duration": null,
     "end_time": null,
     "exception": null,
     "start_time": null,
     "status": "pending"
    },
    "tags": []
   },
   "outputs": [],
   "source": [
    "#Decision Tree"
   ]
  },
  {
   "cell_type": "code",
   "execution_count": null,
   "id": "b36b94a1",
   "metadata": {
    "papermill": {
     "duration": null,
     "end_time": null,
     "exception": null,
     "start_time": null,
     "status": "pending"
    },
    "tags": []
   },
   "outputs": [],
   "source": [
    "decision_tree = DecisionTreeClassifier() \n",
    "decision_tree.fit(X_train, Y_train)  \n",
    "Y_pred = decision_tree.predict(X_test)  \n",
    "acc_decision_tree = round(decision_tree.score(X_train, Y_train) * 100, 2)"
   ]
  },
  {
   "cell_type": "code",
   "execution_count": null,
   "id": "9a6e5b9c",
   "metadata": {
    "papermill": {
     "duration": null,
     "end_time": null,
     "exception": null,
     "start_time": null,
     "status": "pending"
    },
    "tags": []
   },
   "outputs": [],
   "source": [
    "#Best Model"
   ]
  },
  {
   "cell_type": "code",
   "execution_count": null,
   "id": "6350196a",
   "metadata": {
    "papermill": {
     "duration": null,
     "end_time": null,
     "exception": null,
     "start_time": null,
     "status": "pending"
    },
    "tags": []
   },
   "outputs": [],
   "source": [
    "results = pd.DataFrame({\n",
    "    'Model': ['Support Vector Machines', 'KNN', 'Logistic Regression', \n",
    "              'Random Forest', 'Naive Bayes', 'Perceptron', \n",
    "              'Stochastic Gradient Decent', \n",
    "              'Decision Tree'],\n",
    "    'Score': [acc_linear_svc, acc_knn, acc_log, \n",
    "              acc_random_forest, acc_gaussian, acc_perceptron, \n",
    "              acc_sgd, acc_decision_tree]})\n",
    "result_df = results.sort_values(by='Score', ascending=False)\n",
    "result_df = result_df.set_index('Score')\n",
    "result_df.head(9)"
   ]
  },
  {
   "cell_type": "code",
   "execution_count": null,
   "id": "524e3cc5",
   "metadata": {
    "papermill": {
     "duration": null,
     "end_time": null,
     "exception": null,
     "start_time": null,
     "status": "pending"
    },
    "tags": []
   },
   "outputs": [],
   "source": [
    "from sklearn.model_selection import cross_val_score\n",
    "rf = RandomForestClassifier(n_estimators=100)\n",
    "scores = cross_val_score(rf, X_train, Y_train, cv=10, scoring = \"accuracy\")\n",
    "print(\"Scores:\", scores)\n",
    "print(\"Mean:\", scores.mean())\n",
    "print(\"Standard Deviation:\", scores.std())"
   ]
  },
  {
   "cell_type": "code",
   "execution_count": null,
   "id": "8440bf19",
   "metadata": {
    "papermill": {
     "duration": null,
     "end_time": null,
     "exception": null,
     "start_time": null,
     "status": "pending"
    },
    "tags": []
   },
   "outputs": [],
   "source": [
    "importances = pd.DataFrame({'feature':X_train.columns,'importance':np.round(random_forest.feature_importances_,3)})\n",
    "importances = importances.sort_values('importance',ascending=False).set_index('feature')\n",
    "importances.head(15)"
   ]
  },
  {
   "cell_type": "code",
   "execution_count": null,
   "id": "2e4bd23f",
   "metadata": {
    "papermill": {
     "duration": null,
     "end_time": null,
     "exception": null,
     "start_time": null,
     "status": "pending"
    },
    "tags": []
   },
   "outputs": [],
   "source": [
    "print(\"oob score:\", round(random_forest.oob_score_, 4)*100, \"%\")"
   ]
  },
  {
   "cell_type": "code",
   "execution_count": null,
   "id": "32495836",
   "metadata": {
    "papermill": {
     "duration": null,
     "end_time": null,
     "exception": null,
     "start_time": null,
     "status": "pending"
    },
    "tags": []
   },
   "outputs": [],
   "source": [
    "output = Y_prediction\n",
    "df_output = pd.DataFrame()\n",
    "aux = pd.read_csv('test.csv')\n",
    "df_output['PassengerId'] = aux['PassengerId']\n",
    "df_output['Survived'] = output\n",
    "df_output[['PassengerId','Survived']].to_csv('Submission.csv',index=False)"
   ]
  },
  {
   "cell_type": "code",
   "execution_count": null,
   "id": "a3eaf9e0",
   "metadata": {
    "papermill": {
     "duration": null,
     "end_time": null,
     "exception": null,
     "start_time": null,
     "status": "pending"
    },
    "tags": []
   },
   "outputs": [],
   "source": [
    "pd.read_csv('Submission.csv')"
   ]
  },
  {
   "cell_type": "code",
   "execution_count": null,
   "id": "e40d1525",
   "metadata": {
    "papermill": {
     "duration": null,
     "end_time": null,
     "exception": null,
     "start_time": null,
     "status": "pending"
    },
    "tags": []
   },
   "outputs": [],
   "source": []
  }
 ],
 "metadata": {
  "kernelspec": {
   "display_name": "Python 3",
   "language": "python",
   "name": "python3"
  },
  "language_info": {
   "codemirror_mode": {
    "name": "ipython",
    "version": 3
   },
   "file_extension": ".py",
   "mimetype": "text/x-python",
   "name": "python",
   "nbconvert_exporter": "python",
   "pygments_lexer": "ipython3",
   "version": "3.7.12"
  },
  "papermill": {
   "default_parameters": {},
   "duration": 45.417442,
   "end_time": "2022-11-26T22:33:59.275890",
   "environment_variables": {},
   "exception": true,
   "input_path": "__notebook__.ipynb",
   "output_path": "__notebook__.ipynb",
   "parameters": {},
   "start_time": "2022-11-26T22:33:13.858448",
   "version": "2.3.4"
  }
 },
 "nbformat": 4,
 "nbformat_minor": 5
}
